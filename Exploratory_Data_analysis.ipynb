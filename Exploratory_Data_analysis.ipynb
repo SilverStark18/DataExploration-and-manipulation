{
  "nbformat": 4,
  "nbformat_minor": 0,
  "metadata": {
    "colab": {
      "provenance": [],
      "authorship_tag": "ABX9TyONE0ENqqFpDZZGyel1ovDx",
      "include_colab_link": true
    },
    "kernelspec": {
      "name": "python3",
      "display_name": "Python 3"
    },
    "language_info": {
      "name": "python"
    }
  },
  "cells": [
    {
      "cell_type": "markdown",
      "metadata": {
        "id": "view-in-github",
        "colab_type": "text"
      },
      "source": [
        "<a href=\"https://colab.research.google.com/github/SilverStark18/DataExploration-and-manipulaton/blob/main/Exploratory_Data_analysis.ipynb\" target=\"_parent\"><img src=\"https://colab.research.google.com/assets/colab-badge.svg\" alt=\"Open In Colab\"/></a>"
      ]
    },
    {
      "cell_type": "markdown",
      "source": [
        "Pandas: Used for data manipulation and analysis with DataFrame objects.\n",
        "\n",
        "Plotly Express: Simplifies interactive plot creation with a high-level interface.\n",
        "\n",
        "Plotly Graph Objects: Offers detailed control over plot customization.\n",
        "\n",
        "Plotly Templates: Ensures consistent styling across multiple plots."
      ],
      "metadata": {
        "id": "yz9q0kX1wNXQ"
      }
    },
    {
      "cell_type": "code",
      "execution_count": 1,
      "metadata": {
        "id": "wJ-j1uiQt7gh"
      },
      "outputs": [],
      "source": [
        "import pandas as pd\n",
        "import plotly.express as px\n",
        "import plotly.graph_objects as go\n",
        "import plotly.io as pio\n",
        "pio.templates.default=\"plotly_white\"\n",
        "data =pd.read_csv(\"/content/Instagram data.csv\",encoding=\"latin-1\")"
      ]
    },
    {
      "cell_type": "markdown",
      "source": [
        "# <font color =tangerine>**To print what the every column holds**</font>"
      ],
      "metadata": {
        "id": "5VqWeP-7wcKY"
      }
    },
    {
      "cell_type": "code",
      "source": [
        "print(data.head())"
      ],
      "metadata": {
        "colab": {
          "base_uri": "https://localhost:8080/"
        },
        "id": "WY76iYpbvrtb",
        "outputId": "be30ce69-732c-4577-d657-73ff5588ea64"
      },
      "execution_count": 2,
      "outputs": [
        {
          "output_type": "stream",
          "name": "stdout",
          "text": [
            "   Impressions  From Home  From Hashtags  From Explore  From Other  Saves  \\\n",
            "0         3920       2586           1028           619          56     98   \n",
            "1         5394       2727           1838          1174          78    194   \n",
            "2         4021       2085           1188             0         533     41   \n",
            "3         4528       2700            621           932          73    172   \n",
            "4         2518       1704            255           279          37     96   \n",
            "\n",
            "   Comments  Shares  Likes  Profile Visits  Follows  \\\n",
            "0         9       5    162              35        2   \n",
            "1         7      14    224              48       10   \n",
            "2        11       1    131              62       12   \n",
            "3        10       7    213              23        8   \n",
            "4         5       4    123               8        0   \n",
            "\n",
            "                                             Caption  \\\n",
            "0  Here are some of the most important data visua...   \n",
            "1  Here are some of the best data science project...   \n",
            "2  Learn how to train a machine learning model an...   \n",
            "3  Heres how you can write a Python program to d...   \n",
            "4  Plotting annotations while visualizing your da...   \n",
            "\n",
            "                                            Hashtags  \n",
            "0  #finance #money #business #investing #investme...  \n",
            "1  #healthcare #health #covid #data #datascience ...  \n",
            "2  #data #datascience #dataanalysis #dataanalytic...  \n",
            "3  #python #pythonprogramming #pythonprojects #py...  \n",
            "4  #datavisualization #datascience #data #dataana...  \n"
          ]
        }
      ]
    },
    {
      "cell_type": "markdown",
      "source": [
        "<font color =tangerine>**To print the columns in the dataset**</font>"
      ],
      "metadata": {
        "id": "wMJc8Ujhw9s3"
      }
    },
    {
      "cell_type": "code",
      "source": [
        "print(data.columns)"
      ],
      "metadata": {
        "colab": {
          "base_uri": "https://localhost:8080/"
        },
        "id": "C7lA7sPAwy6v",
        "outputId": "7676da5b-2119-4e04-bc4f-ec9356064c2e"
      },
      "execution_count": 4,
      "outputs": [
        {
          "output_type": "stream",
          "name": "stdout",
          "text": [
            "Index(['Impressions', 'From Home', 'From Hashtags', 'From Explore',\n",
            "       'From Other', 'Saves', 'Comments', 'Shares', 'Likes', 'Profile Visits',\n",
            "       'Follows', 'Caption', 'Hashtags'],\n",
            "      dtype='object')\n"
          ]
        }
      ]
    },
    {
      "cell_type": "markdown",
      "source": [
        "<font color =tangerine>**To print every column info**</font>"
      ],
      "metadata": {
        "id": "MaI33RFQxX5e"
      }
    },
    {
      "cell_type": "code",
      "source": [
        "print(data.info())"
      ],
      "metadata": {
        "colab": {
          "base_uri": "https://localhost:8080/"
        },
        "id": "SZvXWHnhw8zf",
        "outputId": "7458fe96-c6e0-4f4f-a68f-c36851ba809b"
      },
      "execution_count": 5,
      "outputs": [
        {
          "output_type": "stream",
          "name": "stdout",
          "text": [
            "<class 'pandas.core.frame.DataFrame'>\n",
            "RangeIndex: 119 entries, 0 to 118\n",
            "Data columns (total 13 columns):\n",
            " #   Column          Non-Null Count  Dtype \n",
            "---  ------          --------------  ----- \n",
            " 0   Impressions     119 non-null    int64 \n",
            " 1   From Home       119 non-null    int64 \n",
            " 2   From Hashtags   119 non-null    int64 \n",
            " 3   From Explore    119 non-null    int64 \n",
            " 4   From Other      119 non-null    int64 \n",
            " 5   Saves           119 non-null    int64 \n",
            " 6   Comments        119 non-null    int64 \n",
            " 7   Shares          119 non-null    int64 \n",
            " 8   Likes           119 non-null    int64 \n",
            " 9   Profile Visits  119 non-null    int64 \n",
            " 10  Follows         119 non-null    int64 \n",
            " 11  Caption         119 non-null    object\n",
            " 12  Hashtags        119 non-null    object\n",
            "dtypes: int64(11), object(2)\n",
            "memory usage: 12.2+ KB\n",
            "None\n"
          ]
        }
      ]
    },
    {
      "cell_type": "markdown",
      "source": [
        "<font color =tangerine>**To print description of every column in the dataset**</font>"
      ],
      "metadata": {
        "id": "PhkUiZ_xxifm"
      }
    },
    {
      "cell_type": "code",
      "source": [
        "print(data.describe())"
      ],
      "metadata": {
        "colab": {
          "base_uri": "https://localhost:8080/"
        },
        "id": "jxWuF8ekxfzA",
        "outputId": "ff2905e4-a7dd-4c06-ebda-b464cf236e3f"
      },
      "execution_count": 6,
      "outputs": [
        {
          "output_type": "stream",
          "name": "stdout",
          "text": [
            "        Impressions     From Home  From Hashtags  From Explore   From Other  \\\n",
            "count    119.000000    119.000000     119.000000    119.000000   119.000000   \n",
            "mean    5703.991597   2475.789916    1887.512605   1078.100840   171.092437   \n",
            "std     4843.780105   1489.386348    1884.361443   2613.026132   289.431031   \n",
            "min     1941.000000   1133.000000     116.000000      0.000000     9.000000   \n",
            "25%     3467.000000   1945.000000     726.000000    157.500000    38.000000   \n",
            "50%     4289.000000   2207.000000    1278.000000    326.000000    74.000000   \n",
            "75%     6138.000000   2602.500000    2363.500000    689.500000   196.000000   \n",
            "max    36919.000000  13473.000000   11817.000000  17414.000000  2547.000000   \n",
            "\n",
            "             Saves    Comments      Shares       Likes  Profile Visits  \\\n",
            "count   119.000000  119.000000  119.000000  119.000000      119.000000   \n",
            "mean    153.310924    6.663866    9.361345  173.781513       50.621849   \n",
            "std     156.317731    3.544576   10.089205   82.378947       87.088402   \n",
            "min      22.000000    0.000000    0.000000   72.000000        4.000000   \n",
            "25%      65.000000    4.000000    3.000000  121.500000       15.000000   \n",
            "50%     109.000000    6.000000    6.000000  151.000000       23.000000   \n",
            "75%     169.000000    8.000000   13.500000  204.000000       42.000000   \n",
            "max    1095.000000   19.000000   75.000000  549.000000      611.000000   \n",
            "\n",
            "          Follows  \n",
            "count  119.000000  \n",
            "mean    20.756303  \n",
            "std     40.921580  \n",
            "min      0.000000  \n",
            "25%      4.000000  \n",
            "50%      8.000000  \n",
            "75%     18.000000  \n",
            "max    260.000000  \n"
          ]
        }
      ]
    },
    {
      "cell_type": "markdown",
      "source": [
        "<font color =tangerine>**Let us check for any NULL Values**</font>"
      ],
      "metadata": {
        "id": "H8tV_HQKxv_f"
      }
    },
    {
      "cell_type": "code",
      "source": [
        "print(data.isnull().sum())"
      ],
      "metadata": {
        "colab": {
          "base_uri": "https://localhost:8080/"
        },
        "id": "wZK5ykkDxuiQ",
        "outputId": "d31951d6-63ef-4124-d456-348a87943008"
      },
      "execution_count": 7,
      "outputs": [
        {
          "output_type": "stream",
          "name": "stdout",
          "text": [
            "Impressions       0\n",
            "From Home         0\n",
            "From Hashtags     0\n",
            "From Explore      0\n",
            "From Other        0\n",
            "Saves             0\n",
            "Comments          0\n",
            "Shares            0\n",
            "Likes             0\n",
            "Profile Visits    0\n",
            "Follows           0\n",
            "Caption           0\n",
            "Hashtags          0\n",
            "dtype: int64\n"
          ]
        }
      ]
    },
    {
      "cell_type": "markdown",
      "source": [
        "<font color =tangerine>**so we are working with the instagram dataset so we need to explore the  feature which contains data about reach of an instagram post**</font>"
      ],
      "metadata": {
        "id": "5th8Hb54yAHX"
      }
    },
    {
      "cell_type": "code",
      "source": [
        "fig=px.histogram(data,\n",
        "                 x=\"Impressions\",\n",
        "                 nbins=10,\n",
        "                 title=\"Distribution of Impressions\")\n",
        "fig.show()"
      ],
      "metadata": {
        "colab": {
          "base_uri": "https://localhost:8080/",
          "height": 542
        },
        "id": "TlRfju9hx5bf",
        "outputId": "8569156b-f1ac-4e5c-b3af-c60ac85959d2"
      },
      "execution_count": 9,
      "outputs": [
        {
          "output_type": "display_data",
          "data": {
            "text/html": [
              "<html>\n",
              "<head><meta charset=\"utf-8\" /></head>\n",
              "<body>\n",
              "    <div>            <script src=\"https://cdnjs.cloudflare.com/ajax/libs/mathjax/2.7.5/MathJax.js?config=TeX-AMS-MML_SVG\"></script><script type=\"text/javascript\">if (window.MathJax && window.MathJax.Hub && window.MathJax.Hub.Config) {window.MathJax.Hub.Config({SVG: {font: \"STIX-Web\"}});}</script>                <script type=\"text/javascript\">window.PlotlyConfig = {MathJaxConfig: 'local'};</script>\n",
              "        <script charset=\"utf-8\" src=\"https://cdn.plot.ly/plotly-2.24.1.min.js\"></script>                <div id=\"05db1a64-a21e-47c7-a18b-285e333e57d5\" class=\"plotly-graph-div\" style=\"height:525px; width:100%;\"></div>            <script type=\"text/javascript\">                                    window.PLOTLYENV=window.PLOTLYENV || {};                                    if (document.getElementById(\"05db1a64-a21e-47c7-a18b-285e333e57d5\")) {                    Plotly.newPlot(                        \"05db1a64-a21e-47c7-a18b-285e333e57d5\",                        [{\"alignmentgroup\":\"True\",\"bingroup\":\"x\",\"hovertemplate\":\"Impressions=%{x}\\u003cbr\\u003ecount=%{y}\\u003cextra\\u003e\\u003c\\u002fextra\\u003e\",\"legendgroup\":\"\",\"marker\":{\"color\":\"#636efa\",\"pattern\":{\"shape\":\"\"}},\"name\":\"\",\"nbinsx\":10,\"offsetgroup\":\"\",\"orientation\":\"v\",\"showlegend\":false,\"x\":[3920,5394,4021,4528,2518,3884,2621,3541,3749,4115,2218,3234,4344,3216,9453,5055,4002,3169,6168,2407,2064,3973,7281,3052,4628,4082,5394,2766,3924,3015,6666,3854,4355,4343,6108,2523,2327,3990,2191,1941,16062,4998,4289,3880,3786,4298,3630,2826,7407,10386,2998,7018,2941,6432,10667,3988,4978,3388,4467,3246,5072,6339,4239,3454,7571,3333,3818,10933,5058,3601,3480,3525,3606,5542,6559,3623,10493,4446,2957,5538,4681,5273,5055,4002,3169,6168,2407,3630,2826,7407,10386,2998,3052,4628,4082,5394,2766,3924,3015,5409,5323,8001,4150,4609,6348,11068,7231,17396,6814,17713,5563,4842,11149,10206,13700,5731,4139,32695,36919],\"xaxis\":\"x\",\"yaxis\":\"y\",\"type\":\"histogram\"}],                        {\"template\":{\"data\":{\"histogram2dcontour\":[{\"type\":\"histogram2dcontour\",\"colorbar\":{\"outlinewidth\":0,\"ticks\":\"\"},\"colorscale\":[[0.0,\"#0d0887\"],[0.1111111111111111,\"#46039f\"],[0.2222222222222222,\"#7201a8\"],[0.3333333333333333,\"#9c179e\"],[0.4444444444444444,\"#bd3786\"],[0.5555555555555556,\"#d8576b\"],[0.6666666666666666,\"#ed7953\"],[0.7777777777777778,\"#fb9f3a\"],[0.8888888888888888,\"#fdca26\"],[1.0,\"#f0f921\"]]}],\"choropleth\":[{\"type\":\"choropleth\",\"colorbar\":{\"outlinewidth\":0,\"ticks\":\"\"}}],\"histogram2d\":[{\"type\":\"histogram2d\",\"colorbar\":{\"outlinewidth\":0,\"ticks\":\"\"},\"colorscale\":[[0.0,\"#0d0887\"],[0.1111111111111111,\"#46039f\"],[0.2222222222222222,\"#7201a8\"],[0.3333333333333333,\"#9c179e\"],[0.4444444444444444,\"#bd3786\"],[0.5555555555555556,\"#d8576b\"],[0.6666666666666666,\"#ed7953\"],[0.7777777777777778,\"#fb9f3a\"],[0.8888888888888888,\"#fdca26\"],[1.0,\"#f0f921\"]]}],\"heatmap\":[{\"type\":\"heatmap\",\"colorbar\":{\"outlinewidth\":0,\"ticks\":\"\"},\"colorscale\":[[0.0,\"#0d0887\"],[0.1111111111111111,\"#46039f\"],[0.2222222222222222,\"#7201a8\"],[0.3333333333333333,\"#9c179e\"],[0.4444444444444444,\"#bd3786\"],[0.5555555555555556,\"#d8576b\"],[0.6666666666666666,\"#ed7953\"],[0.7777777777777778,\"#fb9f3a\"],[0.8888888888888888,\"#fdca26\"],[1.0,\"#f0f921\"]]}],\"heatmapgl\":[{\"type\":\"heatmapgl\",\"colorbar\":{\"outlinewidth\":0,\"ticks\":\"\"},\"colorscale\":[[0.0,\"#0d0887\"],[0.1111111111111111,\"#46039f\"],[0.2222222222222222,\"#7201a8\"],[0.3333333333333333,\"#9c179e\"],[0.4444444444444444,\"#bd3786\"],[0.5555555555555556,\"#d8576b\"],[0.6666666666666666,\"#ed7953\"],[0.7777777777777778,\"#fb9f3a\"],[0.8888888888888888,\"#fdca26\"],[1.0,\"#f0f921\"]]}],\"contourcarpet\":[{\"type\":\"contourcarpet\",\"colorbar\":{\"outlinewidth\":0,\"ticks\":\"\"}}],\"contour\":[{\"type\":\"contour\",\"colorbar\":{\"outlinewidth\":0,\"ticks\":\"\"},\"colorscale\":[[0.0,\"#0d0887\"],[0.1111111111111111,\"#46039f\"],[0.2222222222222222,\"#7201a8\"],[0.3333333333333333,\"#9c179e\"],[0.4444444444444444,\"#bd3786\"],[0.5555555555555556,\"#d8576b\"],[0.6666666666666666,\"#ed7953\"],[0.7777777777777778,\"#fb9f3a\"],[0.8888888888888888,\"#fdca26\"],[1.0,\"#f0f921\"]]}],\"surface\":[{\"type\":\"surface\",\"colorbar\":{\"outlinewidth\":0,\"ticks\":\"\"},\"colorscale\":[[0.0,\"#0d0887\"],[0.1111111111111111,\"#46039f\"],[0.2222222222222222,\"#7201a8\"],[0.3333333333333333,\"#9c179e\"],[0.4444444444444444,\"#bd3786\"],[0.5555555555555556,\"#d8576b\"],[0.6666666666666666,\"#ed7953\"],[0.7777777777777778,\"#fb9f3a\"],[0.8888888888888888,\"#fdca26\"],[1.0,\"#f0f921\"]]}],\"mesh3d\":[{\"type\":\"mesh3d\",\"colorbar\":{\"outlinewidth\":0,\"ticks\":\"\"}}],\"scatter\":[{\"fillpattern\":{\"fillmode\":\"overlay\",\"size\":10,\"solidity\":0.2},\"type\":\"scatter\"}],\"parcoords\":[{\"type\":\"parcoords\",\"line\":{\"colorbar\":{\"outlinewidth\":0,\"ticks\":\"\"}}}],\"scatterpolargl\":[{\"type\":\"scatterpolargl\",\"marker\":{\"colorbar\":{\"outlinewidth\":0,\"ticks\":\"\"}}}],\"bar\":[{\"error_x\":{\"color\":\"#2a3f5f\"},\"error_y\":{\"color\":\"#2a3f5f\"},\"marker\":{\"line\":{\"color\":\"white\",\"width\":0.5},\"pattern\":{\"fillmode\":\"overlay\",\"size\":10,\"solidity\":0.2}},\"type\":\"bar\"}],\"scattergeo\":[{\"type\":\"scattergeo\",\"marker\":{\"colorbar\":{\"outlinewidth\":0,\"ticks\":\"\"}}}],\"scatterpolar\":[{\"type\":\"scatterpolar\",\"marker\":{\"colorbar\":{\"outlinewidth\":0,\"ticks\":\"\"}}}],\"histogram\":[{\"marker\":{\"pattern\":{\"fillmode\":\"overlay\",\"size\":10,\"solidity\":0.2}},\"type\":\"histogram\"}],\"scattergl\":[{\"type\":\"scattergl\",\"marker\":{\"colorbar\":{\"outlinewidth\":0,\"ticks\":\"\"}}}],\"scatter3d\":[{\"type\":\"scatter3d\",\"line\":{\"colorbar\":{\"outlinewidth\":0,\"ticks\":\"\"}},\"marker\":{\"colorbar\":{\"outlinewidth\":0,\"ticks\":\"\"}}}],\"scattermapbox\":[{\"type\":\"scattermapbox\",\"marker\":{\"colorbar\":{\"outlinewidth\":0,\"ticks\":\"\"}}}],\"scatterternary\":[{\"type\":\"scatterternary\",\"marker\":{\"colorbar\":{\"outlinewidth\":0,\"ticks\":\"\"}}}],\"scattercarpet\":[{\"type\":\"scattercarpet\",\"marker\":{\"colorbar\":{\"outlinewidth\":0,\"ticks\":\"\"}}}],\"carpet\":[{\"aaxis\":{\"endlinecolor\":\"#2a3f5f\",\"gridcolor\":\"#C8D4E3\",\"linecolor\":\"#C8D4E3\",\"minorgridcolor\":\"#C8D4E3\",\"startlinecolor\":\"#2a3f5f\"},\"baxis\":{\"endlinecolor\":\"#2a3f5f\",\"gridcolor\":\"#C8D4E3\",\"linecolor\":\"#C8D4E3\",\"minorgridcolor\":\"#C8D4E3\",\"startlinecolor\":\"#2a3f5f\"},\"type\":\"carpet\"}],\"table\":[{\"cells\":{\"fill\":{\"color\":\"#EBF0F8\"},\"line\":{\"color\":\"white\"}},\"header\":{\"fill\":{\"color\":\"#C8D4E3\"},\"line\":{\"color\":\"white\"}},\"type\":\"table\"}],\"barpolar\":[{\"marker\":{\"line\":{\"color\":\"white\",\"width\":0.5},\"pattern\":{\"fillmode\":\"overlay\",\"size\":10,\"solidity\":0.2}},\"type\":\"barpolar\"}],\"pie\":[{\"automargin\":true,\"type\":\"pie\"}]},\"layout\":{\"autotypenumbers\":\"strict\",\"colorway\":[\"#636efa\",\"#EF553B\",\"#00cc96\",\"#ab63fa\",\"#FFA15A\",\"#19d3f3\",\"#FF6692\",\"#B6E880\",\"#FF97FF\",\"#FECB52\"],\"font\":{\"color\":\"#2a3f5f\"},\"hovermode\":\"closest\",\"hoverlabel\":{\"align\":\"left\"},\"paper_bgcolor\":\"white\",\"plot_bgcolor\":\"white\",\"polar\":{\"bgcolor\":\"white\",\"angularaxis\":{\"gridcolor\":\"#EBF0F8\",\"linecolor\":\"#EBF0F8\",\"ticks\":\"\"},\"radialaxis\":{\"gridcolor\":\"#EBF0F8\",\"linecolor\":\"#EBF0F8\",\"ticks\":\"\"}},\"ternary\":{\"bgcolor\":\"white\",\"aaxis\":{\"gridcolor\":\"#DFE8F3\",\"linecolor\":\"#A2B1C6\",\"ticks\":\"\"},\"baxis\":{\"gridcolor\":\"#DFE8F3\",\"linecolor\":\"#A2B1C6\",\"ticks\":\"\"},\"caxis\":{\"gridcolor\":\"#DFE8F3\",\"linecolor\":\"#A2B1C6\",\"ticks\":\"\"}},\"coloraxis\":{\"colorbar\":{\"outlinewidth\":0,\"ticks\":\"\"}},\"colorscale\":{\"sequential\":[[0.0,\"#0d0887\"],[0.1111111111111111,\"#46039f\"],[0.2222222222222222,\"#7201a8\"],[0.3333333333333333,\"#9c179e\"],[0.4444444444444444,\"#bd3786\"],[0.5555555555555556,\"#d8576b\"],[0.6666666666666666,\"#ed7953\"],[0.7777777777777778,\"#fb9f3a\"],[0.8888888888888888,\"#fdca26\"],[1.0,\"#f0f921\"]],\"sequentialminus\":[[0.0,\"#0d0887\"],[0.1111111111111111,\"#46039f\"],[0.2222222222222222,\"#7201a8\"],[0.3333333333333333,\"#9c179e\"],[0.4444444444444444,\"#bd3786\"],[0.5555555555555556,\"#d8576b\"],[0.6666666666666666,\"#ed7953\"],[0.7777777777777778,\"#fb9f3a\"],[0.8888888888888888,\"#fdca26\"],[1.0,\"#f0f921\"]],\"diverging\":[[0,\"#8e0152\"],[0.1,\"#c51b7d\"],[0.2,\"#de77ae\"],[0.3,\"#f1b6da\"],[0.4,\"#fde0ef\"],[0.5,\"#f7f7f7\"],[0.6,\"#e6f5d0\"],[0.7,\"#b8e186\"],[0.8,\"#7fbc41\"],[0.9,\"#4d9221\"],[1,\"#276419\"]]},\"xaxis\":{\"gridcolor\":\"#EBF0F8\",\"linecolor\":\"#EBF0F8\",\"ticks\":\"\",\"title\":{\"standoff\":15},\"zerolinecolor\":\"#EBF0F8\",\"automargin\":true,\"zerolinewidth\":2},\"yaxis\":{\"gridcolor\":\"#EBF0F8\",\"linecolor\":\"#EBF0F8\",\"ticks\":\"\",\"title\":{\"standoff\":15},\"zerolinecolor\":\"#EBF0F8\",\"automargin\":true,\"zerolinewidth\":2},\"scene\":{\"xaxis\":{\"backgroundcolor\":\"white\",\"gridcolor\":\"#DFE8F3\",\"linecolor\":\"#EBF0F8\",\"showbackground\":true,\"ticks\":\"\",\"zerolinecolor\":\"#EBF0F8\",\"gridwidth\":2},\"yaxis\":{\"backgroundcolor\":\"white\",\"gridcolor\":\"#DFE8F3\",\"linecolor\":\"#EBF0F8\",\"showbackground\":true,\"ticks\":\"\",\"zerolinecolor\":\"#EBF0F8\",\"gridwidth\":2},\"zaxis\":{\"backgroundcolor\":\"white\",\"gridcolor\":\"#DFE8F3\",\"linecolor\":\"#EBF0F8\",\"showbackground\":true,\"ticks\":\"\",\"zerolinecolor\":\"#EBF0F8\",\"gridwidth\":2}},\"shapedefaults\":{\"line\":{\"color\":\"#2a3f5f\"}},\"annotationdefaults\":{\"arrowcolor\":\"#2a3f5f\",\"arrowhead\":0,\"arrowwidth\":1},\"geo\":{\"bgcolor\":\"white\",\"landcolor\":\"white\",\"subunitcolor\":\"#C8D4E3\",\"showland\":true,\"showlakes\":true,\"lakecolor\":\"white\"},\"title\":{\"x\":0.05},\"mapbox\":{\"style\":\"light\"}}},\"xaxis\":{\"anchor\":\"y\",\"domain\":[0.0,1.0],\"title\":{\"text\":\"Impressions\"}},\"yaxis\":{\"anchor\":\"x\",\"domain\":[0.0,1.0],\"title\":{\"text\":\"count\"}},\"legend\":{\"tracegroupgap\":0},\"title\":{\"text\":\"Distribution of Impressions\"},\"barmode\":\"relative\"},                        {\"responsive\": true}                    ).then(function(){\n",
              "                            \n",
              "var gd = document.getElementById('05db1a64-a21e-47c7-a18b-285e333e57d5');\n",
              "var x = new MutationObserver(function (mutations, observer) {{\n",
              "        var display = window.getComputedStyle(gd).display;\n",
              "        if (!display || display === 'none') {{\n",
              "            console.log([gd, 'removed!']);\n",
              "            Plotly.purge(gd);\n",
              "            observer.disconnect();\n",
              "        }}\n",
              "}});\n",
              "\n",
              "// Listen for the removal of the full notebook cells\n",
              "var notebookContainer = gd.closest('#notebook-container');\n",
              "if (notebookContainer) {{\n",
              "    x.observe(notebookContainer, {childList: true});\n",
              "}}\n",
              "\n",
              "// Listen for the clearing of the current output cell\n",
              "var outputEl = gd.closest('.output');\n",
              "if (outputEl) {{\n",
              "    x.observe(outputEl, {childList: true});\n",
              "}}\n",
              "\n",
              "                        })                };                            </script>        </div>\n",
              "</body>\n",
              "</html>"
            ]
          },
          "metadata": {}
        }
      ]
    },
    {
      "cell_type": "markdown",
      "source": [
        "<font color =tangerine>**WE check no .of impressions on each post over time**</font>"
      ],
      "metadata": {
        "id": "TlrVfaY2ygwv"
      }
    },
    {
      "cell_type": "code",
      "source": [
        "fig=px.line(data,x=data.index,\n",
        "            y=\"Impressions\",\n",
        "            title=\"Impressions Over Time\")\n",
        "fig.show()"
      ],
      "metadata": {
        "colab": {
          "base_uri": "https://localhost:8080/",
          "height": 542
        },
        "id": "aMsMUHTDyaU9",
        "outputId": "0fdf5155-63ed-4e95-e5b9-e224588a1c29"
      },
      "execution_count": 10,
      "outputs": [
        {
          "output_type": "display_data",
          "data": {
            "text/html": [
              "<html>\n",
              "<head><meta charset=\"utf-8\" /></head>\n",
              "<body>\n",
              "    <div>            <script src=\"https://cdnjs.cloudflare.com/ajax/libs/mathjax/2.7.5/MathJax.js?config=TeX-AMS-MML_SVG\"></script><script type=\"text/javascript\">if (window.MathJax && window.MathJax.Hub && window.MathJax.Hub.Config) {window.MathJax.Hub.Config({SVG: {font: \"STIX-Web\"}});}</script>                <script type=\"text/javascript\">window.PlotlyConfig = {MathJaxConfig: 'local'};</script>\n",
              "        <script charset=\"utf-8\" src=\"https://cdn.plot.ly/plotly-2.24.1.min.js\"></script>                <div id=\"5d5c6544-de61-465a-b341-e89ed9a8e7c1\" class=\"plotly-graph-div\" style=\"height:525px; width:100%;\"></div>            <script type=\"text/javascript\">                                    window.PLOTLYENV=window.PLOTLYENV || {};                                    if (document.getElementById(\"5d5c6544-de61-465a-b341-e89ed9a8e7c1\")) {                    Plotly.newPlot(                        \"5d5c6544-de61-465a-b341-e89ed9a8e7c1\",                        [{\"hovertemplate\":\"index=%{x}\\u003cbr\\u003eImpressions=%{y}\\u003cextra\\u003e\\u003c\\u002fextra\\u003e\",\"legendgroup\":\"\",\"line\":{\"color\":\"#636efa\",\"dash\":\"solid\"},\"marker\":{\"symbol\":\"circle\"},\"mode\":\"lines\",\"name\":\"\",\"orientation\":\"v\",\"showlegend\":false,\"x\":[0,1,2,3,4,5,6,7,8,9,10,11,12,13,14,15,16,17,18,19,20,21,22,23,24,25,26,27,28,29,30,31,32,33,34,35,36,37,38,39,40,41,42,43,44,45,46,47,48,49,50,51,52,53,54,55,56,57,58,59,60,61,62,63,64,65,66,67,68,69,70,71,72,73,74,75,76,77,78,79,80,81,82,83,84,85,86,87,88,89,90,91,92,93,94,95,96,97,98,99,100,101,102,103,104,105,106,107,108,109,110,111,112,113,114,115,116,117,118],\"xaxis\":\"x\",\"y\":[3920,5394,4021,4528,2518,3884,2621,3541,3749,4115,2218,3234,4344,3216,9453,5055,4002,3169,6168,2407,2064,3973,7281,3052,4628,4082,5394,2766,3924,3015,6666,3854,4355,4343,6108,2523,2327,3990,2191,1941,16062,4998,4289,3880,3786,4298,3630,2826,7407,10386,2998,7018,2941,6432,10667,3988,4978,3388,4467,3246,5072,6339,4239,3454,7571,3333,3818,10933,5058,3601,3480,3525,3606,5542,6559,3623,10493,4446,2957,5538,4681,5273,5055,4002,3169,6168,2407,3630,2826,7407,10386,2998,3052,4628,4082,5394,2766,3924,3015,5409,5323,8001,4150,4609,6348,11068,7231,17396,6814,17713,5563,4842,11149,10206,13700,5731,4139,32695,36919],\"yaxis\":\"y\",\"type\":\"scatter\"}],                        {\"template\":{\"data\":{\"histogram2dcontour\":[{\"type\":\"histogram2dcontour\",\"colorbar\":{\"outlinewidth\":0,\"ticks\":\"\"},\"colorscale\":[[0.0,\"#0d0887\"],[0.1111111111111111,\"#46039f\"],[0.2222222222222222,\"#7201a8\"],[0.3333333333333333,\"#9c179e\"],[0.4444444444444444,\"#bd3786\"],[0.5555555555555556,\"#d8576b\"],[0.6666666666666666,\"#ed7953\"],[0.7777777777777778,\"#fb9f3a\"],[0.8888888888888888,\"#fdca26\"],[1.0,\"#f0f921\"]]}],\"choropleth\":[{\"type\":\"choropleth\",\"colorbar\":{\"outlinewidth\":0,\"ticks\":\"\"}}],\"histogram2d\":[{\"type\":\"histogram2d\",\"colorbar\":{\"outlinewidth\":0,\"ticks\":\"\"},\"colorscale\":[[0.0,\"#0d0887\"],[0.1111111111111111,\"#46039f\"],[0.2222222222222222,\"#7201a8\"],[0.3333333333333333,\"#9c179e\"],[0.4444444444444444,\"#bd3786\"],[0.5555555555555556,\"#d8576b\"],[0.6666666666666666,\"#ed7953\"],[0.7777777777777778,\"#fb9f3a\"],[0.8888888888888888,\"#fdca26\"],[1.0,\"#f0f921\"]]}],\"heatmap\":[{\"type\":\"heatmap\",\"colorbar\":{\"outlinewidth\":0,\"ticks\":\"\"},\"colorscale\":[[0.0,\"#0d0887\"],[0.1111111111111111,\"#46039f\"],[0.2222222222222222,\"#7201a8\"],[0.3333333333333333,\"#9c179e\"],[0.4444444444444444,\"#bd3786\"],[0.5555555555555556,\"#d8576b\"],[0.6666666666666666,\"#ed7953\"],[0.7777777777777778,\"#fb9f3a\"],[0.8888888888888888,\"#fdca26\"],[1.0,\"#f0f921\"]]}],\"heatmapgl\":[{\"type\":\"heatmapgl\",\"colorbar\":{\"outlinewidth\":0,\"ticks\":\"\"},\"colorscale\":[[0.0,\"#0d0887\"],[0.1111111111111111,\"#46039f\"],[0.2222222222222222,\"#7201a8\"],[0.3333333333333333,\"#9c179e\"],[0.4444444444444444,\"#bd3786\"],[0.5555555555555556,\"#d8576b\"],[0.6666666666666666,\"#ed7953\"],[0.7777777777777778,\"#fb9f3a\"],[0.8888888888888888,\"#fdca26\"],[1.0,\"#f0f921\"]]}],\"contourcarpet\":[{\"type\":\"contourcarpet\",\"colorbar\":{\"outlinewidth\":0,\"ticks\":\"\"}}],\"contour\":[{\"type\":\"contour\",\"colorbar\":{\"outlinewidth\":0,\"ticks\":\"\"},\"colorscale\":[[0.0,\"#0d0887\"],[0.1111111111111111,\"#46039f\"],[0.2222222222222222,\"#7201a8\"],[0.3333333333333333,\"#9c179e\"],[0.4444444444444444,\"#bd3786\"],[0.5555555555555556,\"#d8576b\"],[0.6666666666666666,\"#ed7953\"],[0.7777777777777778,\"#fb9f3a\"],[0.8888888888888888,\"#fdca26\"],[1.0,\"#f0f921\"]]}],\"surface\":[{\"type\":\"surface\",\"colorbar\":{\"outlinewidth\":0,\"ticks\":\"\"},\"colorscale\":[[0.0,\"#0d0887\"],[0.1111111111111111,\"#46039f\"],[0.2222222222222222,\"#7201a8\"],[0.3333333333333333,\"#9c179e\"],[0.4444444444444444,\"#bd3786\"],[0.5555555555555556,\"#d8576b\"],[0.6666666666666666,\"#ed7953\"],[0.7777777777777778,\"#fb9f3a\"],[0.8888888888888888,\"#fdca26\"],[1.0,\"#f0f921\"]]}],\"mesh3d\":[{\"type\":\"mesh3d\",\"colorbar\":{\"outlinewidth\":0,\"ticks\":\"\"}}],\"scatter\":[{\"fillpattern\":{\"fillmode\":\"overlay\",\"size\":10,\"solidity\":0.2},\"type\":\"scatter\"}],\"parcoords\":[{\"type\":\"parcoords\",\"line\":{\"colorbar\":{\"outlinewidth\":0,\"ticks\":\"\"}}}],\"scatterpolargl\":[{\"type\":\"scatterpolargl\",\"marker\":{\"colorbar\":{\"outlinewidth\":0,\"ticks\":\"\"}}}],\"bar\":[{\"error_x\":{\"color\":\"#2a3f5f\"},\"error_y\":{\"color\":\"#2a3f5f\"},\"marker\":{\"line\":{\"color\":\"white\",\"width\":0.5},\"pattern\":{\"fillmode\":\"overlay\",\"size\":10,\"solidity\":0.2}},\"type\":\"bar\"}],\"scattergeo\":[{\"type\":\"scattergeo\",\"marker\":{\"colorbar\":{\"outlinewidth\":0,\"ticks\":\"\"}}}],\"scatterpolar\":[{\"type\":\"scatterpolar\",\"marker\":{\"colorbar\":{\"outlinewidth\":0,\"ticks\":\"\"}}}],\"histogram\":[{\"marker\":{\"pattern\":{\"fillmode\":\"overlay\",\"size\":10,\"solidity\":0.2}},\"type\":\"histogram\"}],\"scattergl\":[{\"type\":\"scattergl\",\"marker\":{\"colorbar\":{\"outlinewidth\":0,\"ticks\":\"\"}}}],\"scatter3d\":[{\"type\":\"scatter3d\",\"line\":{\"colorbar\":{\"outlinewidth\":0,\"ticks\":\"\"}},\"marker\":{\"colorbar\":{\"outlinewidth\":0,\"ticks\":\"\"}}}],\"scattermapbox\":[{\"type\":\"scattermapbox\",\"marker\":{\"colorbar\":{\"outlinewidth\":0,\"ticks\":\"\"}}}],\"scatterternary\":[{\"type\":\"scatterternary\",\"marker\":{\"colorbar\":{\"outlinewidth\":0,\"ticks\":\"\"}}}],\"scattercarpet\":[{\"type\":\"scattercarpet\",\"marker\":{\"colorbar\":{\"outlinewidth\":0,\"ticks\":\"\"}}}],\"carpet\":[{\"aaxis\":{\"endlinecolor\":\"#2a3f5f\",\"gridcolor\":\"#C8D4E3\",\"linecolor\":\"#C8D4E3\",\"minorgridcolor\":\"#C8D4E3\",\"startlinecolor\":\"#2a3f5f\"},\"baxis\":{\"endlinecolor\":\"#2a3f5f\",\"gridcolor\":\"#C8D4E3\",\"linecolor\":\"#C8D4E3\",\"minorgridcolor\":\"#C8D4E3\",\"startlinecolor\":\"#2a3f5f\"},\"type\":\"carpet\"}],\"table\":[{\"cells\":{\"fill\":{\"color\":\"#EBF0F8\"},\"line\":{\"color\":\"white\"}},\"header\":{\"fill\":{\"color\":\"#C8D4E3\"},\"line\":{\"color\":\"white\"}},\"type\":\"table\"}],\"barpolar\":[{\"marker\":{\"line\":{\"color\":\"white\",\"width\":0.5},\"pattern\":{\"fillmode\":\"overlay\",\"size\":10,\"solidity\":0.2}},\"type\":\"barpolar\"}],\"pie\":[{\"automargin\":true,\"type\":\"pie\"}]},\"layout\":{\"autotypenumbers\":\"strict\",\"colorway\":[\"#636efa\",\"#EF553B\",\"#00cc96\",\"#ab63fa\",\"#FFA15A\",\"#19d3f3\",\"#FF6692\",\"#B6E880\",\"#FF97FF\",\"#FECB52\"],\"font\":{\"color\":\"#2a3f5f\"},\"hovermode\":\"closest\",\"hoverlabel\":{\"align\":\"left\"},\"paper_bgcolor\":\"white\",\"plot_bgcolor\":\"white\",\"polar\":{\"bgcolor\":\"white\",\"angularaxis\":{\"gridcolor\":\"#EBF0F8\",\"linecolor\":\"#EBF0F8\",\"ticks\":\"\"},\"radialaxis\":{\"gridcolor\":\"#EBF0F8\",\"linecolor\":\"#EBF0F8\",\"ticks\":\"\"}},\"ternary\":{\"bgcolor\":\"white\",\"aaxis\":{\"gridcolor\":\"#DFE8F3\",\"linecolor\":\"#A2B1C6\",\"ticks\":\"\"},\"baxis\":{\"gridcolor\":\"#DFE8F3\",\"linecolor\":\"#A2B1C6\",\"ticks\":\"\"},\"caxis\":{\"gridcolor\":\"#DFE8F3\",\"linecolor\":\"#A2B1C6\",\"ticks\":\"\"}},\"coloraxis\":{\"colorbar\":{\"outlinewidth\":0,\"ticks\":\"\"}},\"colorscale\":{\"sequential\":[[0.0,\"#0d0887\"],[0.1111111111111111,\"#46039f\"],[0.2222222222222222,\"#7201a8\"],[0.3333333333333333,\"#9c179e\"],[0.4444444444444444,\"#bd3786\"],[0.5555555555555556,\"#d8576b\"],[0.6666666666666666,\"#ed7953\"],[0.7777777777777778,\"#fb9f3a\"],[0.8888888888888888,\"#fdca26\"],[1.0,\"#f0f921\"]],\"sequentialminus\":[[0.0,\"#0d0887\"],[0.1111111111111111,\"#46039f\"],[0.2222222222222222,\"#7201a8\"],[0.3333333333333333,\"#9c179e\"],[0.4444444444444444,\"#bd3786\"],[0.5555555555555556,\"#d8576b\"],[0.6666666666666666,\"#ed7953\"],[0.7777777777777778,\"#fb9f3a\"],[0.8888888888888888,\"#fdca26\"],[1.0,\"#f0f921\"]],\"diverging\":[[0,\"#8e0152\"],[0.1,\"#c51b7d\"],[0.2,\"#de77ae\"],[0.3,\"#f1b6da\"],[0.4,\"#fde0ef\"],[0.5,\"#f7f7f7\"],[0.6,\"#e6f5d0\"],[0.7,\"#b8e186\"],[0.8,\"#7fbc41\"],[0.9,\"#4d9221\"],[1,\"#276419\"]]},\"xaxis\":{\"gridcolor\":\"#EBF0F8\",\"linecolor\":\"#EBF0F8\",\"ticks\":\"\",\"title\":{\"standoff\":15},\"zerolinecolor\":\"#EBF0F8\",\"automargin\":true,\"zerolinewidth\":2},\"yaxis\":{\"gridcolor\":\"#EBF0F8\",\"linecolor\":\"#EBF0F8\",\"ticks\":\"\",\"title\":{\"standoff\":15},\"zerolinecolor\":\"#EBF0F8\",\"automargin\":true,\"zerolinewidth\":2},\"scene\":{\"xaxis\":{\"backgroundcolor\":\"white\",\"gridcolor\":\"#DFE8F3\",\"linecolor\":\"#EBF0F8\",\"showbackground\":true,\"ticks\":\"\",\"zerolinecolor\":\"#EBF0F8\",\"gridwidth\":2},\"yaxis\":{\"backgroundcolor\":\"white\",\"gridcolor\":\"#DFE8F3\",\"linecolor\":\"#EBF0F8\",\"showbackground\":true,\"ticks\":\"\",\"zerolinecolor\":\"#EBF0F8\",\"gridwidth\":2},\"zaxis\":{\"backgroundcolor\":\"white\",\"gridcolor\":\"#DFE8F3\",\"linecolor\":\"#EBF0F8\",\"showbackground\":true,\"ticks\":\"\",\"zerolinecolor\":\"#EBF0F8\",\"gridwidth\":2}},\"shapedefaults\":{\"line\":{\"color\":\"#2a3f5f\"}},\"annotationdefaults\":{\"arrowcolor\":\"#2a3f5f\",\"arrowhead\":0,\"arrowwidth\":1},\"geo\":{\"bgcolor\":\"white\",\"landcolor\":\"white\",\"subunitcolor\":\"#C8D4E3\",\"showland\":true,\"showlakes\":true,\"lakecolor\":\"white\"},\"title\":{\"x\":0.05},\"mapbox\":{\"style\":\"light\"}}},\"xaxis\":{\"anchor\":\"y\",\"domain\":[0.0,1.0],\"title\":{\"text\":\"index\"}},\"yaxis\":{\"anchor\":\"x\",\"domain\":[0.0,1.0],\"title\":{\"text\":\"Impressions\"}},\"legend\":{\"tracegroupgap\":0},\"title\":{\"text\":\"Impressions Over Time\"}},                        {\"responsive\": true}                    ).then(function(){\n",
              "                            \n",
              "var gd = document.getElementById('5d5c6544-de61-465a-b341-e89ed9a8e7c1');\n",
              "var x = new MutationObserver(function (mutations, observer) {{\n",
              "        var display = window.getComputedStyle(gd).display;\n",
              "        if (!display || display === 'none') {{\n",
              "            console.log([gd, 'removed!']);\n",
              "            Plotly.purge(gd);\n",
              "            observer.disconnect();\n",
              "        }}\n",
              "}});\n",
              "\n",
              "// Listen for the removal of the full notebook cells\n",
              "var notebookContainer = gd.closest('#notebook-container');\n",
              "if (notebookContainer) {{\n",
              "    x.observe(notebookContainer, {childList: true});\n",
              "}}\n",
              "\n",
              "// Listen for the clearing of the current output cell\n",
              "var outputEl = gd.closest('.output');\n",
              "if (outputEl) {{\n",
              "    x.observe(outputEl, {childList: true});\n",
              "}}\n",
              "\n",
              "                        })                };                            </script>        </div>\n",
              "</body>\n",
              "</html>"
            ]
          },
          "metadata": {}
        }
      ]
    },
    {
      "cell_type": "code",
      "source": [
        "fig = go.Figure()\n",
        "\n",
        "fig.add_trace(go.Scatter(x=data.index, y=data['Likes'], name='Likes'))\n",
        "fig.add_trace(go.Scatter(x=data.index, y=data['Saves'], name='Saves'))\n",
        "fig.add_trace(go.Scatter(x=data.index, y=data['Follows'], name='Follows'))\n",
        "\n",
        "fig.update_layout(title='Metrics Over Time',\n",
        "                  xaxis_title='Date',\n",
        "                  yaxis_title='Count')\n",
        "\n",
        "fig.show()"
      ],
      "metadata": {
        "colab": {
          "base_uri": "https://localhost:8080/",
          "height": 542
        },
        "id": "yCuyG0gdyzXA",
        "outputId": "b6a282d8-6042-4739-e9b4-574de9dbe802"
      },
      "execution_count": 13,
      "outputs": [
        {
          "output_type": "display_data",
          "data": {
            "text/html": [
              "<html>\n",
              "<head><meta charset=\"utf-8\" /></head>\n",
              "<body>\n",
              "    <div>            <script src=\"https://cdnjs.cloudflare.com/ajax/libs/mathjax/2.7.5/MathJax.js?config=TeX-AMS-MML_SVG\"></script><script type=\"text/javascript\">if (window.MathJax && window.MathJax.Hub && window.MathJax.Hub.Config) {window.MathJax.Hub.Config({SVG: {font: \"STIX-Web\"}});}</script>                <script type=\"text/javascript\">window.PlotlyConfig = {MathJaxConfig: 'local'};</script>\n",
              "        <script charset=\"utf-8\" src=\"https://cdn.plot.ly/plotly-2.24.1.min.js\"></script>                <div id=\"4632fa9d-d7c2-4c82-9784-87f3ed567de5\" class=\"plotly-graph-div\" style=\"height:525px; width:100%;\"></div>            <script type=\"text/javascript\">                                    window.PLOTLYENV=window.PLOTLYENV || {};                                    if (document.getElementById(\"4632fa9d-d7c2-4c82-9784-87f3ed567de5\")) {                    Plotly.newPlot(                        \"4632fa9d-d7c2-4c82-9784-87f3ed567de5\",                        [{\"name\":\"Likes\",\"x\":[0,1,2,3,4,5,6,7,8,9,10,11,12,13,14,15,16,17,18,19,20,21,22,23,24,25,26,27,28,29,30,31,32,33,34,35,36,37,38,39,40,41,42,43,44,45,46,47,48,49,50,51,52,53,54,55,56,57,58,59,60,61,62,63,64,65,66,67,68,69,70,71,72,73,74,75,76,77,78,79,80,81,82,83,84,85,86,87,88,89,90,91,92,93,94,95,96,97,98,99,100,101,102,103,104,105,106,107,108,109,110,111,112,113,114,115,116,117,118],\"y\":[162,224,131,213,123,144,76,124,159,191,81,151,162,142,294,159,205,121,151,72,76,91,195,129,160,175,147,114,151,92,214,150,122,152,196,86,85,156,72,82,416,180,150,127,167,225,137,114,263,328,126,236,99,212,297,142,186,112,149,132,115,248,178,107,269,96,134,301,187,94,114,96,138,122,257,95,244,190,118,178,170,250,159,205,121,151,72,137,114,263,328,126,129,160,175,147,114,151,92,275,192,203,145,168,194,250,171,416,249,308,163,86,210,172,373,148,92,549,443],\"type\":\"scatter\"},{\"name\":\"Saves\",\"x\":[0,1,2,3,4,5,6,7,8,9,10,11,12,13,14,15,16,17,18,19,20,21,22,23,24,25,26,27,28,29,30,31,32,33,34,35,36,37,38,39,40,41,42,43,44,45,46,47,48,49,50,51,52,53,54,55,56,57,58,59,60,61,62,63,64,65,66,67,68,69,70,71,72,73,74,75,76,77,78,79,80,81,82,83,84,85,86,87,88,89,90,91,92,93,94,95,96,97,98,99,100,101,102,103,104,105,106,107,108,109,110,111,112,113,114,115,116,117,118],\"y\":[98,194,41,172,96,74,22,135,155,122,28,122,119,121,100,101,111,106,82,40,49,72,167,63,144,135,61,40,139,52,84,81,79,105,90,34,45,98,35,49,252,167,111,90,144,263,137,67,288,668,42,342,48,250,219,118,143,99,89,148,42,171,109,38,421,38,116,225,144,51,104,33,174,46,179,34,99,174,70,149,207,318,101,111,106,82,40,137,67,288,668,42,63,144,135,61,40,139,52,393,152,83,74,94,188,214,73,285,469,504,149,55,273,182,573,135,36,1095,653],\"type\":\"scatter\"},{\"name\":\"Follows\",\"x\":[0,1,2,3,4,5,6,7,8,9,10,11,12,13,14,15,16,17,18,19,20,21,22,23,24,25,26,27,28,29,30,31,32,33,34,35,36,37,38,39,40,41,42,43,44,45,46,47,48,49,50,51,52,53,54,55,56,57,58,59,60,61,62,63,64,65,66,67,68,69,70,71,72,73,74,75,76,77,78,79,80,81,82,83,84,85,86,87,88,89,90,91,92,93,94,95,96,97,98,99,100,101,102,103,104,105,106,107,108,109,110,111,112,113,114,115,116,117,118],\"y\":[2,10,12,8,0,2,0,6,4,6,4,0,2,4,42,6,2,2,30,0,0,24,100,2,4,6,6,6,2,2,20,2,4,8,26,2,2,4,0,2,94,8,18,10,4,4,4,4,18,38,10,12,4,4,74,0,6,6,0,6,12,10,8,8,46,12,10,94,6,10,6,4,12,16,12,8,32,8,16,6,10,10,6,2,2,30,0,4,4,18,38,10,2,4,6,6,6,2,2,14,8,14,28,18,12,34,26,260,16,96,20,30,58,100,80,18,10,214,228],\"type\":\"scatter\"}],                        {\"template\":{\"data\":{\"histogram2dcontour\":[{\"type\":\"histogram2dcontour\",\"colorbar\":{\"outlinewidth\":0,\"ticks\":\"\"},\"colorscale\":[[0.0,\"#0d0887\"],[0.1111111111111111,\"#46039f\"],[0.2222222222222222,\"#7201a8\"],[0.3333333333333333,\"#9c179e\"],[0.4444444444444444,\"#bd3786\"],[0.5555555555555556,\"#d8576b\"],[0.6666666666666666,\"#ed7953\"],[0.7777777777777778,\"#fb9f3a\"],[0.8888888888888888,\"#fdca26\"],[1.0,\"#f0f921\"]]}],\"choropleth\":[{\"type\":\"choropleth\",\"colorbar\":{\"outlinewidth\":0,\"ticks\":\"\"}}],\"histogram2d\":[{\"type\":\"histogram2d\",\"colorbar\":{\"outlinewidth\":0,\"ticks\":\"\"},\"colorscale\":[[0.0,\"#0d0887\"],[0.1111111111111111,\"#46039f\"],[0.2222222222222222,\"#7201a8\"],[0.3333333333333333,\"#9c179e\"],[0.4444444444444444,\"#bd3786\"],[0.5555555555555556,\"#d8576b\"],[0.6666666666666666,\"#ed7953\"],[0.7777777777777778,\"#fb9f3a\"],[0.8888888888888888,\"#fdca26\"],[1.0,\"#f0f921\"]]}],\"heatmap\":[{\"type\":\"heatmap\",\"colorbar\":{\"outlinewidth\":0,\"ticks\":\"\"},\"colorscale\":[[0.0,\"#0d0887\"],[0.1111111111111111,\"#46039f\"],[0.2222222222222222,\"#7201a8\"],[0.3333333333333333,\"#9c179e\"],[0.4444444444444444,\"#bd3786\"],[0.5555555555555556,\"#d8576b\"],[0.6666666666666666,\"#ed7953\"],[0.7777777777777778,\"#fb9f3a\"],[0.8888888888888888,\"#fdca26\"],[1.0,\"#f0f921\"]]}],\"heatmapgl\":[{\"type\":\"heatmapgl\",\"colorbar\":{\"outlinewidth\":0,\"ticks\":\"\"},\"colorscale\":[[0.0,\"#0d0887\"],[0.1111111111111111,\"#46039f\"],[0.2222222222222222,\"#7201a8\"],[0.3333333333333333,\"#9c179e\"],[0.4444444444444444,\"#bd3786\"],[0.5555555555555556,\"#d8576b\"],[0.6666666666666666,\"#ed7953\"],[0.7777777777777778,\"#fb9f3a\"],[0.8888888888888888,\"#fdca26\"],[1.0,\"#f0f921\"]]}],\"contourcarpet\":[{\"type\":\"contourcarpet\",\"colorbar\":{\"outlinewidth\":0,\"ticks\":\"\"}}],\"contour\":[{\"type\":\"contour\",\"colorbar\":{\"outlinewidth\":0,\"ticks\":\"\"},\"colorscale\":[[0.0,\"#0d0887\"],[0.1111111111111111,\"#46039f\"],[0.2222222222222222,\"#7201a8\"],[0.3333333333333333,\"#9c179e\"],[0.4444444444444444,\"#bd3786\"],[0.5555555555555556,\"#d8576b\"],[0.6666666666666666,\"#ed7953\"],[0.7777777777777778,\"#fb9f3a\"],[0.8888888888888888,\"#fdca26\"],[1.0,\"#f0f921\"]]}],\"surface\":[{\"type\":\"surface\",\"colorbar\":{\"outlinewidth\":0,\"ticks\":\"\"},\"colorscale\":[[0.0,\"#0d0887\"],[0.1111111111111111,\"#46039f\"],[0.2222222222222222,\"#7201a8\"],[0.3333333333333333,\"#9c179e\"],[0.4444444444444444,\"#bd3786\"],[0.5555555555555556,\"#d8576b\"],[0.6666666666666666,\"#ed7953\"],[0.7777777777777778,\"#fb9f3a\"],[0.8888888888888888,\"#fdca26\"],[1.0,\"#f0f921\"]]}],\"mesh3d\":[{\"type\":\"mesh3d\",\"colorbar\":{\"outlinewidth\":0,\"ticks\":\"\"}}],\"scatter\":[{\"fillpattern\":{\"fillmode\":\"overlay\",\"size\":10,\"solidity\":0.2},\"type\":\"scatter\"}],\"parcoords\":[{\"type\":\"parcoords\",\"line\":{\"colorbar\":{\"outlinewidth\":0,\"ticks\":\"\"}}}],\"scatterpolargl\":[{\"type\":\"scatterpolargl\",\"marker\":{\"colorbar\":{\"outlinewidth\":0,\"ticks\":\"\"}}}],\"bar\":[{\"error_x\":{\"color\":\"#2a3f5f\"},\"error_y\":{\"color\":\"#2a3f5f\"},\"marker\":{\"line\":{\"color\":\"white\",\"width\":0.5},\"pattern\":{\"fillmode\":\"overlay\",\"size\":10,\"solidity\":0.2}},\"type\":\"bar\"}],\"scattergeo\":[{\"type\":\"scattergeo\",\"marker\":{\"colorbar\":{\"outlinewidth\":0,\"ticks\":\"\"}}}],\"scatterpolar\":[{\"type\":\"scatterpolar\",\"marker\":{\"colorbar\":{\"outlinewidth\":0,\"ticks\":\"\"}}}],\"histogram\":[{\"marker\":{\"pattern\":{\"fillmode\":\"overlay\",\"size\":10,\"solidity\":0.2}},\"type\":\"histogram\"}],\"scattergl\":[{\"type\":\"scattergl\",\"marker\":{\"colorbar\":{\"outlinewidth\":0,\"ticks\":\"\"}}}],\"scatter3d\":[{\"type\":\"scatter3d\",\"line\":{\"colorbar\":{\"outlinewidth\":0,\"ticks\":\"\"}},\"marker\":{\"colorbar\":{\"outlinewidth\":0,\"ticks\":\"\"}}}],\"scattermapbox\":[{\"type\":\"scattermapbox\",\"marker\":{\"colorbar\":{\"outlinewidth\":0,\"ticks\":\"\"}}}],\"scatterternary\":[{\"type\":\"scatterternary\",\"marker\":{\"colorbar\":{\"outlinewidth\":0,\"ticks\":\"\"}}}],\"scattercarpet\":[{\"type\":\"scattercarpet\",\"marker\":{\"colorbar\":{\"outlinewidth\":0,\"ticks\":\"\"}}}],\"carpet\":[{\"aaxis\":{\"endlinecolor\":\"#2a3f5f\",\"gridcolor\":\"#C8D4E3\",\"linecolor\":\"#C8D4E3\",\"minorgridcolor\":\"#C8D4E3\",\"startlinecolor\":\"#2a3f5f\"},\"baxis\":{\"endlinecolor\":\"#2a3f5f\",\"gridcolor\":\"#C8D4E3\",\"linecolor\":\"#C8D4E3\",\"minorgridcolor\":\"#C8D4E3\",\"startlinecolor\":\"#2a3f5f\"},\"type\":\"carpet\"}],\"table\":[{\"cells\":{\"fill\":{\"color\":\"#EBF0F8\"},\"line\":{\"color\":\"white\"}},\"header\":{\"fill\":{\"color\":\"#C8D4E3\"},\"line\":{\"color\":\"white\"}},\"type\":\"table\"}],\"barpolar\":[{\"marker\":{\"line\":{\"color\":\"white\",\"width\":0.5},\"pattern\":{\"fillmode\":\"overlay\",\"size\":10,\"solidity\":0.2}},\"type\":\"barpolar\"}],\"pie\":[{\"automargin\":true,\"type\":\"pie\"}]},\"layout\":{\"autotypenumbers\":\"strict\",\"colorway\":[\"#636efa\",\"#EF553B\",\"#00cc96\",\"#ab63fa\",\"#FFA15A\",\"#19d3f3\",\"#FF6692\",\"#B6E880\",\"#FF97FF\",\"#FECB52\"],\"font\":{\"color\":\"#2a3f5f\"},\"hovermode\":\"closest\",\"hoverlabel\":{\"align\":\"left\"},\"paper_bgcolor\":\"white\",\"plot_bgcolor\":\"white\",\"polar\":{\"bgcolor\":\"white\",\"angularaxis\":{\"gridcolor\":\"#EBF0F8\",\"linecolor\":\"#EBF0F8\",\"ticks\":\"\"},\"radialaxis\":{\"gridcolor\":\"#EBF0F8\",\"linecolor\":\"#EBF0F8\",\"ticks\":\"\"}},\"ternary\":{\"bgcolor\":\"white\",\"aaxis\":{\"gridcolor\":\"#DFE8F3\",\"linecolor\":\"#A2B1C6\",\"ticks\":\"\"},\"baxis\":{\"gridcolor\":\"#DFE8F3\",\"linecolor\":\"#A2B1C6\",\"ticks\":\"\"},\"caxis\":{\"gridcolor\":\"#DFE8F3\",\"linecolor\":\"#A2B1C6\",\"ticks\":\"\"}},\"coloraxis\":{\"colorbar\":{\"outlinewidth\":0,\"ticks\":\"\"}},\"colorscale\":{\"sequential\":[[0.0,\"#0d0887\"],[0.1111111111111111,\"#46039f\"],[0.2222222222222222,\"#7201a8\"],[0.3333333333333333,\"#9c179e\"],[0.4444444444444444,\"#bd3786\"],[0.5555555555555556,\"#d8576b\"],[0.6666666666666666,\"#ed7953\"],[0.7777777777777778,\"#fb9f3a\"],[0.8888888888888888,\"#fdca26\"],[1.0,\"#f0f921\"]],\"sequentialminus\":[[0.0,\"#0d0887\"],[0.1111111111111111,\"#46039f\"],[0.2222222222222222,\"#7201a8\"],[0.3333333333333333,\"#9c179e\"],[0.4444444444444444,\"#bd3786\"],[0.5555555555555556,\"#d8576b\"],[0.6666666666666666,\"#ed7953\"],[0.7777777777777778,\"#fb9f3a\"],[0.8888888888888888,\"#fdca26\"],[1.0,\"#f0f921\"]],\"diverging\":[[0,\"#8e0152\"],[0.1,\"#c51b7d\"],[0.2,\"#de77ae\"],[0.3,\"#f1b6da\"],[0.4,\"#fde0ef\"],[0.5,\"#f7f7f7\"],[0.6,\"#e6f5d0\"],[0.7,\"#b8e186\"],[0.8,\"#7fbc41\"],[0.9,\"#4d9221\"],[1,\"#276419\"]]},\"xaxis\":{\"gridcolor\":\"#EBF0F8\",\"linecolor\":\"#EBF0F8\",\"ticks\":\"\",\"title\":{\"standoff\":15},\"zerolinecolor\":\"#EBF0F8\",\"automargin\":true,\"zerolinewidth\":2},\"yaxis\":{\"gridcolor\":\"#EBF0F8\",\"linecolor\":\"#EBF0F8\",\"ticks\":\"\",\"title\":{\"standoff\":15},\"zerolinecolor\":\"#EBF0F8\",\"automargin\":true,\"zerolinewidth\":2},\"scene\":{\"xaxis\":{\"backgroundcolor\":\"white\",\"gridcolor\":\"#DFE8F3\",\"linecolor\":\"#EBF0F8\",\"showbackground\":true,\"ticks\":\"\",\"zerolinecolor\":\"#EBF0F8\",\"gridwidth\":2},\"yaxis\":{\"backgroundcolor\":\"white\",\"gridcolor\":\"#DFE8F3\",\"linecolor\":\"#EBF0F8\",\"showbackground\":true,\"ticks\":\"\",\"zerolinecolor\":\"#EBF0F8\",\"gridwidth\":2},\"zaxis\":{\"backgroundcolor\":\"white\",\"gridcolor\":\"#DFE8F3\",\"linecolor\":\"#EBF0F8\",\"showbackground\":true,\"ticks\":\"\",\"zerolinecolor\":\"#EBF0F8\",\"gridwidth\":2}},\"shapedefaults\":{\"line\":{\"color\":\"#2a3f5f\"}},\"annotationdefaults\":{\"arrowcolor\":\"#2a3f5f\",\"arrowhead\":0,\"arrowwidth\":1},\"geo\":{\"bgcolor\":\"white\",\"landcolor\":\"white\",\"subunitcolor\":\"#C8D4E3\",\"showland\":true,\"showlakes\":true,\"lakecolor\":\"white\"},\"title\":{\"x\":0.05},\"mapbox\":{\"style\":\"light\"}}},\"title\":{\"text\":\"Metrics Over Time\"},\"xaxis\":{\"title\":{\"text\":\"Date\"}},\"yaxis\":{\"title\":{\"text\":\"Count\"}}},                        {\"responsive\": true}                    ).then(function(){\n",
              "                            \n",
              "var gd = document.getElementById('4632fa9d-d7c2-4c82-9784-87f3ed567de5');\n",
              "var x = new MutationObserver(function (mutations, observer) {{\n",
              "        var display = window.getComputedStyle(gd).display;\n",
              "        if (!display || display === 'none') {{\n",
              "            console.log([gd, 'removed!']);\n",
              "            Plotly.purge(gd);\n",
              "            observer.disconnect();\n",
              "        }}\n",
              "}});\n",
              "\n",
              "// Listen for the removal of the full notebook cells\n",
              "var notebookContainer = gd.closest('#notebook-container');\n",
              "if (notebookContainer) {{\n",
              "    x.observe(notebookContainer, {childList: true});\n",
              "}}\n",
              "\n",
              "// Listen for the clearing of the current output cell\n",
              "var outputEl = gd.closest('.output');\n",
              "if (outputEl) {{\n",
              "    x.observe(outputEl, {childList: true});\n",
              "}}\n",
              "\n",
              "                        })                };                            </script>        </div>\n",
              "</body>\n",
              "</html>"
            ]
          },
          "metadata": {}
        }
      ]
    },
    {
      "cell_type": "code",
      "source": [
        "reach_sources = ['From Home', 'From Hashtags', 'From Explore', 'From Other']\n",
        "reach_counts = [data[source].sum() for source in reach_sources]\n",
        "\n",
        "colors = ['#FFB6C1', '#87CEFA', '#90EE90', '#FFDAB9']\n",
        "\n",
        "fig = px.pie(data_frame=data, names=reach_sources,\n",
        "             values=reach_counts,\n",
        "             title='Reach from Different Sources',\n",
        "             color_discrete_sequence=colors)\n",
        "fig.show()"
      ],
      "metadata": {
        "colab": {
          "base_uri": "https://localhost:8080/",
          "height": 542
        },
        "id": "2jR0lYmjy7sA",
        "outputId": "7f98d6ae-9822-4ab0-e276-de0f867f34a1"
      },
      "execution_count": 14,
      "outputs": [
        {
          "output_type": "display_data",
          "data": {
            "text/html": [
              "<html>\n",
              "<head><meta charset=\"utf-8\" /></head>\n",
              "<body>\n",
              "    <div>            <script src=\"https://cdnjs.cloudflare.com/ajax/libs/mathjax/2.7.5/MathJax.js?config=TeX-AMS-MML_SVG\"></script><script type=\"text/javascript\">if (window.MathJax && window.MathJax.Hub && window.MathJax.Hub.Config) {window.MathJax.Hub.Config({SVG: {font: \"STIX-Web\"}});}</script>                <script type=\"text/javascript\">window.PlotlyConfig = {MathJaxConfig: 'local'};</script>\n",
              "        <script charset=\"utf-8\" src=\"https://cdn.plot.ly/plotly-2.24.1.min.js\"></script>                <div id=\"8993a47a-7f9f-42ef-b7ed-7d30d7bbf00d\" class=\"plotly-graph-div\" style=\"height:525px; width:100%;\"></div>            <script type=\"text/javascript\">                                    window.PLOTLYENV=window.PLOTLYENV || {};                                    if (document.getElementById(\"8993a47a-7f9f-42ef-b7ed-7d30d7bbf00d\")) {                    Plotly.newPlot(                        \"8993a47a-7f9f-42ef-b7ed-7d30d7bbf00d\",                        [{\"domain\":{\"x\":[0.0,1.0],\"y\":[0.0,1.0]},\"hovertemplate\":\"label=%{label}\\u003cbr\\u003evalue=%{value}\\u003cextra\\u003e\\u003c\\u002fextra\\u003e\",\"labels\":[\"From Home\",\"From Hashtags\",\"From Explore\",\"From Other\"],\"legendgroup\":\"\",\"name\":\"\",\"showlegend\":true,\"values\":[294619,224614,128294,20360],\"type\":\"pie\"}],                        {\"template\":{\"data\":{\"histogram2dcontour\":[{\"type\":\"histogram2dcontour\",\"colorbar\":{\"outlinewidth\":0,\"ticks\":\"\"},\"colorscale\":[[0.0,\"#0d0887\"],[0.1111111111111111,\"#46039f\"],[0.2222222222222222,\"#7201a8\"],[0.3333333333333333,\"#9c179e\"],[0.4444444444444444,\"#bd3786\"],[0.5555555555555556,\"#d8576b\"],[0.6666666666666666,\"#ed7953\"],[0.7777777777777778,\"#fb9f3a\"],[0.8888888888888888,\"#fdca26\"],[1.0,\"#f0f921\"]]}],\"choropleth\":[{\"type\":\"choropleth\",\"colorbar\":{\"outlinewidth\":0,\"ticks\":\"\"}}],\"histogram2d\":[{\"type\":\"histogram2d\",\"colorbar\":{\"outlinewidth\":0,\"ticks\":\"\"},\"colorscale\":[[0.0,\"#0d0887\"],[0.1111111111111111,\"#46039f\"],[0.2222222222222222,\"#7201a8\"],[0.3333333333333333,\"#9c179e\"],[0.4444444444444444,\"#bd3786\"],[0.5555555555555556,\"#d8576b\"],[0.6666666666666666,\"#ed7953\"],[0.7777777777777778,\"#fb9f3a\"],[0.8888888888888888,\"#fdca26\"],[1.0,\"#f0f921\"]]}],\"heatmap\":[{\"type\":\"heatmap\",\"colorbar\":{\"outlinewidth\":0,\"ticks\":\"\"},\"colorscale\":[[0.0,\"#0d0887\"],[0.1111111111111111,\"#46039f\"],[0.2222222222222222,\"#7201a8\"],[0.3333333333333333,\"#9c179e\"],[0.4444444444444444,\"#bd3786\"],[0.5555555555555556,\"#d8576b\"],[0.6666666666666666,\"#ed7953\"],[0.7777777777777778,\"#fb9f3a\"],[0.8888888888888888,\"#fdca26\"],[1.0,\"#f0f921\"]]}],\"heatmapgl\":[{\"type\":\"heatmapgl\",\"colorbar\":{\"outlinewidth\":0,\"ticks\":\"\"},\"colorscale\":[[0.0,\"#0d0887\"],[0.1111111111111111,\"#46039f\"],[0.2222222222222222,\"#7201a8\"],[0.3333333333333333,\"#9c179e\"],[0.4444444444444444,\"#bd3786\"],[0.5555555555555556,\"#d8576b\"],[0.6666666666666666,\"#ed7953\"],[0.7777777777777778,\"#fb9f3a\"],[0.8888888888888888,\"#fdca26\"],[1.0,\"#f0f921\"]]}],\"contourcarpet\":[{\"type\":\"contourcarpet\",\"colorbar\":{\"outlinewidth\":0,\"ticks\":\"\"}}],\"contour\":[{\"type\":\"contour\",\"colorbar\":{\"outlinewidth\":0,\"ticks\":\"\"},\"colorscale\":[[0.0,\"#0d0887\"],[0.1111111111111111,\"#46039f\"],[0.2222222222222222,\"#7201a8\"],[0.3333333333333333,\"#9c179e\"],[0.4444444444444444,\"#bd3786\"],[0.5555555555555556,\"#d8576b\"],[0.6666666666666666,\"#ed7953\"],[0.7777777777777778,\"#fb9f3a\"],[0.8888888888888888,\"#fdca26\"],[1.0,\"#f0f921\"]]}],\"surface\":[{\"type\":\"surface\",\"colorbar\":{\"outlinewidth\":0,\"ticks\":\"\"},\"colorscale\":[[0.0,\"#0d0887\"],[0.1111111111111111,\"#46039f\"],[0.2222222222222222,\"#7201a8\"],[0.3333333333333333,\"#9c179e\"],[0.4444444444444444,\"#bd3786\"],[0.5555555555555556,\"#d8576b\"],[0.6666666666666666,\"#ed7953\"],[0.7777777777777778,\"#fb9f3a\"],[0.8888888888888888,\"#fdca26\"],[1.0,\"#f0f921\"]]}],\"mesh3d\":[{\"type\":\"mesh3d\",\"colorbar\":{\"outlinewidth\":0,\"ticks\":\"\"}}],\"scatter\":[{\"fillpattern\":{\"fillmode\":\"overlay\",\"size\":10,\"solidity\":0.2},\"type\":\"scatter\"}],\"parcoords\":[{\"type\":\"parcoords\",\"line\":{\"colorbar\":{\"outlinewidth\":0,\"ticks\":\"\"}}}],\"scatterpolargl\":[{\"type\":\"scatterpolargl\",\"marker\":{\"colorbar\":{\"outlinewidth\":0,\"ticks\":\"\"}}}],\"bar\":[{\"error_x\":{\"color\":\"#2a3f5f\"},\"error_y\":{\"color\":\"#2a3f5f\"},\"marker\":{\"line\":{\"color\":\"white\",\"width\":0.5},\"pattern\":{\"fillmode\":\"overlay\",\"size\":10,\"solidity\":0.2}},\"type\":\"bar\"}],\"scattergeo\":[{\"type\":\"scattergeo\",\"marker\":{\"colorbar\":{\"outlinewidth\":0,\"ticks\":\"\"}}}],\"scatterpolar\":[{\"type\":\"scatterpolar\",\"marker\":{\"colorbar\":{\"outlinewidth\":0,\"ticks\":\"\"}}}],\"histogram\":[{\"marker\":{\"pattern\":{\"fillmode\":\"overlay\",\"size\":10,\"solidity\":0.2}},\"type\":\"histogram\"}],\"scattergl\":[{\"type\":\"scattergl\",\"marker\":{\"colorbar\":{\"outlinewidth\":0,\"ticks\":\"\"}}}],\"scatter3d\":[{\"type\":\"scatter3d\",\"line\":{\"colorbar\":{\"outlinewidth\":0,\"ticks\":\"\"}},\"marker\":{\"colorbar\":{\"outlinewidth\":0,\"ticks\":\"\"}}}],\"scattermapbox\":[{\"type\":\"scattermapbox\",\"marker\":{\"colorbar\":{\"outlinewidth\":0,\"ticks\":\"\"}}}],\"scatterternary\":[{\"type\":\"scatterternary\",\"marker\":{\"colorbar\":{\"outlinewidth\":0,\"ticks\":\"\"}}}],\"scattercarpet\":[{\"type\":\"scattercarpet\",\"marker\":{\"colorbar\":{\"outlinewidth\":0,\"ticks\":\"\"}}}],\"carpet\":[{\"aaxis\":{\"endlinecolor\":\"#2a3f5f\",\"gridcolor\":\"#C8D4E3\",\"linecolor\":\"#C8D4E3\",\"minorgridcolor\":\"#C8D4E3\",\"startlinecolor\":\"#2a3f5f\"},\"baxis\":{\"endlinecolor\":\"#2a3f5f\",\"gridcolor\":\"#C8D4E3\",\"linecolor\":\"#C8D4E3\",\"minorgridcolor\":\"#C8D4E3\",\"startlinecolor\":\"#2a3f5f\"},\"type\":\"carpet\"}],\"table\":[{\"cells\":{\"fill\":{\"color\":\"#EBF0F8\"},\"line\":{\"color\":\"white\"}},\"header\":{\"fill\":{\"color\":\"#C8D4E3\"},\"line\":{\"color\":\"white\"}},\"type\":\"table\"}],\"barpolar\":[{\"marker\":{\"line\":{\"color\":\"white\",\"width\":0.5},\"pattern\":{\"fillmode\":\"overlay\",\"size\":10,\"solidity\":0.2}},\"type\":\"barpolar\"}],\"pie\":[{\"automargin\":true,\"type\":\"pie\"}]},\"layout\":{\"autotypenumbers\":\"strict\",\"colorway\":[\"#636efa\",\"#EF553B\",\"#00cc96\",\"#ab63fa\",\"#FFA15A\",\"#19d3f3\",\"#FF6692\",\"#B6E880\",\"#FF97FF\",\"#FECB52\"],\"font\":{\"color\":\"#2a3f5f\"},\"hovermode\":\"closest\",\"hoverlabel\":{\"align\":\"left\"},\"paper_bgcolor\":\"white\",\"plot_bgcolor\":\"white\",\"polar\":{\"bgcolor\":\"white\",\"angularaxis\":{\"gridcolor\":\"#EBF0F8\",\"linecolor\":\"#EBF0F8\",\"ticks\":\"\"},\"radialaxis\":{\"gridcolor\":\"#EBF0F8\",\"linecolor\":\"#EBF0F8\",\"ticks\":\"\"}},\"ternary\":{\"bgcolor\":\"white\",\"aaxis\":{\"gridcolor\":\"#DFE8F3\",\"linecolor\":\"#A2B1C6\",\"ticks\":\"\"},\"baxis\":{\"gridcolor\":\"#DFE8F3\",\"linecolor\":\"#A2B1C6\",\"ticks\":\"\"},\"caxis\":{\"gridcolor\":\"#DFE8F3\",\"linecolor\":\"#A2B1C6\",\"ticks\":\"\"}},\"coloraxis\":{\"colorbar\":{\"outlinewidth\":0,\"ticks\":\"\"}},\"colorscale\":{\"sequential\":[[0.0,\"#0d0887\"],[0.1111111111111111,\"#46039f\"],[0.2222222222222222,\"#7201a8\"],[0.3333333333333333,\"#9c179e\"],[0.4444444444444444,\"#bd3786\"],[0.5555555555555556,\"#d8576b\"],[0.6666666666666666,\"#ed7953\"],[0.7777777777777778,\"#fb9f3a\"],[0.8888888888888888,\"#fdca26\"],[1.0,\"#f0f921\"]],\"sequentialminus\":[[0.0,\"#0d0887\"],[0.1111111111111111,\"#46039f\"],[0.2222222222222222,\"#7201a8\"],[0.3333333333333333,\"#9c179e\"],[0.4444444444444444,\"#bd3786\"],[0.5555555555555556,\"#d8576b\"],[0.6666666666666666,\"#ed7953\"],[0.7777777777777778,\"#fb9f3a\"],[0.8888888888888888,\"#fdca26\"],[1.0,\"#f0f921\"]],\"diverging\":[[0,\"#8e0152\"],[0.1,\"#c51b7d\"],[0.2,\"#de77ae\"],[0.3,\"#f1b6da\"],[0.4,\"#fde0ef\"],[0.5,\"#f7f7f7\"],[0.6,\"#e6f5d0\"],[0.7,\"#b8e186\"],[0.8,\"#7fbc41\"],[0.9,\"#4d9221\"],[1,\"#276419\"]]},\"xaxis\":{\"gridcolor\":\"#EBF0F8\",\"linecolor\":\"#EBF0F8\",\"ticks\":\"\",\"title\":{\"standoff\":15},\"zerolinecolor\":\"#EBF0F8\",\"automargin\":true,\"zerolinewidth\":2},\"yaxis\":{\"gridcolor\":\"#EBF0F8\",\"linecolor\":\"#EBF0F8\",\"ticks\":\"\",\"title\":{\"standoff\":15},\"zerolinecolor\":\"#EBF0F8\",\"automargin\":true,\"zerolinewidth\":2},\"scene\":{\"xaxis\":{\"backgroundcolor\":\"white\",\"gridcolor\":\"#DFE8F3\",\"linecolor\":\"#EBF0F8\",\"showbackground\":true,\"ticks\":\"\",\"zerolinecolor\":\"#EBF0F8\",\"gridwidth\":2},\"yaxis\":{\"backgroundcolor\":\"white\",\"gridcolor\":\"#DFE8F3\",\"linecolor\":\"#EBF0F8\",\"showbackground\":true,\"ticks\":\"\",\"zerolinecolor\":\"#EBF0F8\",\"gridwidth\":2},\"zaxis\":{\"backgroundcolor\":\"white\",\"gridcolor\":\"#DFE8F3\",\"linecolor\":\"#EBF0F8\",\"showbackground\":true,\"ticks\":\"\",\"zerolinecolor\":\"#EBF0F8\",\"gridwidth\":2}},\"shapedefaults\":{\"line\":{\"color\":\"#2a3f5f\"}},\"annotationdefaults\":{\"arrowcolor\":\"#2a3f5f\",\"arrowhead\":0,\"arrowwidth\":1},\"geo\":{\"bgcolor\":\"white\",\"landcolor\":\"white\",\"subunitcolor\":\"#C8D4E3\",\"showland\":true,\"showlakes\":true,\"lakecolor\":\"white\"},\"title\":{\"x\":0.05},\"mapbox\":{\"style\":\"light\"}}},\"legend\":{\"tracegroupgap\":0},\"title\":{\"text\":\"Reach from Different Sources\"},\"piecolorway\":[\"#FFB6C1\",\"#87CEFA\",\"#90EE90\",\"#FFDAB9\"]},                        {\"responsive\": true}                    ).then(function(){\n",
              "                            \n",
              "var gd = document.getElementById('8993a47a-7f9f-42ef-b7ed-7d30d7bbf00d');\n",
              "var x = new MutationObserver(function (mutations, observer) {{\n",
              "        var display = window.getComputedStyle(gd).display;\n",
              "        if (!display || display === 'none') {{\n",
              "            console.log([gd, 'removed!']);\n",
              "            Plotly.purge(gd);\n",
              "            observer.disconnect();\n",
              "        }}\n",
              "}});\n",
              "\n",
              "// Listen for the removal of the full notebook cells\n",
              "var notebookContainer = gd.closest('#notebook-container');\n",
              "if (notebookContainer) {{\n",
              "    x.observe(notebookContainer, {childList: true});\n",
              "}}\n",
              "\n",
              "// Listen for the clearing of the current output cell\n",
              "var outputEl = gd.closest('.output');\n",
              "if (outputEl) {{\n",
              "    x.observe(outputEl, {childList: true});\n",
              "}}\n",
              "\n",
              "                        })                };                            </script>        </div>\n",
              "</body>\n",
              "</html>"
            ]
          },
          "metadata": {}
        }
      ]
    },
    {
      "cell_type": "code",
      "source": [
        "engagement_metrics = ['Saves', 'Comments', 'Shares', 'Likes']\n",
        "engagement_counts = [data[metric].sum() for metric in engagement_metrics]\n",
        "\n",
        "colors = ['#FFB6C1', '#87CEFA', '#90EE90', '#FFDAB9']\n",
        "\n",
        "fig = px.pie(data_frame=data, names=engagement_metrics,\n",
        "             values=engagement_counts,\n",
        "             title='Engagement Sources',\n",
        "             color_discrete_sequence=colors)\n",
        "fig.show()"
      ],
      "metadata": {
        "colab": {
          "base_uri": "https://localhost:8080/",
          "height": 542
        },
        "id": "W8HFzzgyzOff",
        "outputId": "cb56111f-9ee3-4020-ab26-828c7bb9d4fb"
      },
      "execution_count": 15,
      "outputs": [
        {
          "output_type": "display_data",
          "data": {
            "text/html": [
              "<html>\n",
              "<head><meta charset=\"utf-8\" /></head>\n",
              "<body>\n",
              "    <div>            <script src=\"https://cdnjs.cloudflare.com/ajax/libs/mathjax/2.7.5/MathJax.js?config=TeX-AMS-MML_SVG\"></script><script type=\"text/javascript\">if (window.MathJax && window.MathJax.Hub && window.MathJax.Hub.Config) {window.MathJax.Hub.Config({SVG: {font: \"STIX-Web\"}});}</script>                <script type=\"text/javascript\">window.PlotlyConfig = {MathJaxConfig: 'local'};</script>\n",
              "        <script charset=\"utf-8\" src=\"https://cdn.plot.ly/plotly-2.24.1.min.js\"></script>                <div id=\"1d8aed7f-267c-46c6-b925-18b1d68faf5f\" class=\"plotly-graph-div\" style=\"height:525px; width:100%;\"></div>            <script type=\"text/javascript\">                                    window.PLOTLYENV=window.PLOTLYENV || {};                                    if (document.getElementById(\"1d8aed7f-267c-46c6-b925-18b1d68faf5f\")) {                    Plotly.newPlot(                        \"1d8aed7f-267c-46c6-b925-18b1d68faf5f\",                        [{\"domain\":{\"x\":[0.0,1.0],\"y\":[0.0,1.0]},\"hovertemplate\":\"label=%{label}\\u003cbr\\u003evalue=%{value}\\u003cextra\\u003e\\u003c\\u002fextra\\u003e\",\"labels\":[\"Saves\",\"Comments\",\"Shares\",\"Likes\"],\"legendgroup\":\"\",\"name\":\"\",\"showlegend\":true,\"values\":[18244,793,1114,20680],\"type\":\"pie\"}],                        {\"template\":{\"data\":{\"histogram2dcontour\":[{\"type\":\"histogram2dcontour\",\"colorbar\":{\"outlinewidth\":0,\"ticks\":\"\"},\"colorscale\":[[0.0,\"#0d0887\"],[0.1111111111111111,\"#46039f\"],[0.2222222222222222,\"#7201a8\"],[0.3333333333333333,\"#9c179e\"],[0.4444444444444444,\"#bd3786\"],[0.5555555555555556,\"#d8576b\"],[0.6666666666666666,\"#ed7953\"],[0.7777777777777778,\"#fb9f3a\"],[0.8888888888888888,\"#fdca26\"],[1.0,\"#f0f921\"]]}],\"choropleth\":[{\"type\":\"choropleth\",\"colorbar\":{\"outlinewidth\":0,\"ticks\":\"\"}}],\"histogram2d\":[{\"type\":\"histogram2d\",\"colorbar\":{\"outlinewidth\":0,\"ticks\":\"\"},\"colorscale\":[[0.0,\"#0d0887\"],[0.1111111111111111,\"#46039f\"],[0.2222222222222222,\"#7201a8\"],[0.3333333333333333,\"#9c179e\"],[0.4444444444444444,\"#bd3786\"],[0.5555555555555556,\"#d8576b\"],[0.6666666666666666,\"#ed7953\"],[0.7777777777777778,\"#fb9f3a\"],[0.8888888888888888,\"#fdca26\"],[1.0,\"#f0f921\"]]}],\"heatmap\":[{\"type\":\"heatmap\",\"colorbar\":{\"outlinewidth\":0,\"ticks\":\"\"},\"colorscale\":[[0.0,\"#0d0887\"],[0.1111111111111111,\"#46039f\"],[0.2222222222222222,\"#7201a8\"],[0.3333333333333333,\"#9c179e\"],[0.4444444444444444,\"#bd3786\"],[0.5555555555555556,\"#d8576b\"],[0.6666666666666666,\"#ed7953\"],[0.7777777777777778,\"#fb9f3a\"],[0.8888888888888888,\"#fdca26\"],[1.0,\"#f0f921\"]]}],\"heatmapgl\":[{\"type\":\"heatmapgl\",\"colorbar\":{\"outlinewidth\":0,\"ticks\":\"\"},\"colorscale\":[[0.0,\"#0d0887\"],[0.1111111111111111,\"#46039f\"],[0.2222222222222222,\"#7201a8\"],[0.3333333333333333,\"#9c179e\"],[0.4444444444444444,\"#bd3786\"],[0.5555555555555556,\"#d8576b\"],[0.6666666666666666,\"#ed7953\"],[0.7777777777777778,\"#fb9f3a\"],[0.8888888888888888,\"#fdca26\"],[1.0,\"#f0f921\"]]}],\"contourcarpet\":[{\"type\":\"contourcarpet\",\"colorbar\":{\"outlinewidth\":0,\"ticks\":\"\"}}],\"contour\":[{\"type\":\"contour\",\"colorbar\":{\"outlinewidth\":0,\"ticks\":\"\"},\"colorscale\":[[0.0,\"#0d0887\"],[0.1111111111111111,\"#46039f\"],[0.2222222222222222,\"#7201a8\"],[0.3333333333333333,\"#9c179e\"],[0.4444444444444444,\"#bd3786\"],[0.5555555555555556,\"#d8576b\"],[0.6666666666666666,\"#ed7953\"],[0.7777777777777778,\"#fb9f3a\"],[0.8888888888888888,\"#fdca26\"],[1.0,\"#f0f921\"]]}],\"surface\":[{\"type\":\"surface\",\"colorbar\":{\"outlinewidth\":0,\"ticks\":\"\"},\"colorscale\":[[0.0,\"#0d0887\"],[0.1111111111111111,\"#46039f\"],[0.2222222222222222,\"#7201a8\"],[0.3333333333333333,\"#9c179e\"],[0.4444444444444444,\"#bd3786\"],[0.5555555555555556,\"#d8576b\"],[0.6666666666666666,\"#ed7953\"],[0.7777777777777778,\"#fb9f3a\"],[0.8888888888888888,\"#fdca26\"],[1.0,\"#f0f921\"]]}],\"mesh3d\":[{\"type\":\"mesh3d\",\"colorbar\":{\"outlinewidth\":0,\"ticks\":\"\"}}],\"scatter\":[{\"fillpattern\":{\"fillmode\":\"overlay\",\"size\":10,\"solidity\":0.2},\"type\":\"scatter\"}],\"parcoords\":[{\"type\":\"parcoords\",\"line\":{\"colorbar\":{\"outlinewidth\":0,\"ticks\":\"\"}}}],\"scatterpolargl\":[{\"type\":\"scatterpolargl\",\"marker\":{\"colorbar\":{\"outlinewidth\":0,\"ticks\":\"\"}}}],\"bar\":[{\"error_x\":{\"color\":\"#2a3f5f\"},\"error_y\":{\"color\":\"#2a3f5f\"},\"marker\":{\"line\":{\"color\":\"white\",\"width\":0.5},\"pattern\":{\"fillmode\":\"overlay\",\"size\":10,\"solidity\":0.2}},\"type\":\"bar\"}],\"scattergeo\":[{\"type\":\"scattergeo\",\"marker\":{\"colorbar\":{\"outlinewidth\":0,\"ticks\":\"\"}}}],\"scatterpolar\":[{\"type\":\"scatterpolar\",\"marker\":{\"colorbar\":{\"outlinewidth\":0,\"ticks\":\"\"}}}],\"histogram\":[{\"marker\":{\"pattern\":{\"fillmode\":\"overlay\",\"size\":10,\"solidity\":0.2}},\"type\":\"histogram\"}],\"scattergl\":[{\"type\":\"scattergl\",\"marker\":{\"colorbar\":{\"outlinewidth\":0,\"ticks\":\"\"}}}],\"scatter3d\":[{\"type\":\"scatter3d\",\"line\":{\"colorbar\":{\"outlinewidth\":0,\"ticks\":\"\"}},\"marker\":{\"colorbar\":{\"outlinewidth\":0,\"ticks\":\"\"}}}],\"scattermapbox\":[{\"type\":\"scattermapbox\",\"marker\":{\"colorbar\":{\"outlinewidth\":0,\"ticks\":\"\"}}}],\"scatterternary\":[{\"type\":\"scatterternary\",\"marker\":{\"colorbar\":{\"outlinewidth\":0,\"ticks\":\"\"}}}],\"scattercarpet\":[{\"type\":\"scattercarpet\",\"marker\":{\"colorbar\":{\"outlinewidth\":0,\"ticks\":\"\"}}}],\"carpet\":[{\"aaxis\":{\"endlinecolor\":\"#2a3f5f\",\"gridcolor\":\"#C8D4E3\",\"linecolor\":\"#C8D4E3\",\"minorgridcolor\":\"#C8D4E3\",\"startlinecolor\":\"#2a3f5f\"},\"baxis\":{\"endlinecolor\":\"#2a3f5f\",\"gridcolor\":\"#C8D4E3\",\"linecolor\":\"#C8D4E3\",\"minorgridcolor\":\"#C8D4E3\",\"startlinecolor\":\"#2a3f5f\"},\"type\":\"carpet\"}],\"table\":[{\"cells\":{\"fill\":{\"color\":\"#EBF0F8\"},\"line\":{\"color\":\"white\"}},\"header\":{\"fill\":{\"color\":\"#C8D4E3\"},\"line\":{\"color\":\"white\"}},\"type\":\"table\"}],\"barpolar\":[{\"marker\":{\"line\":{\"color\":\"white\",\"width\":0.5},\"pattern\":{\"fillmode\":\"overlay\",\"size\":10,\"solidity\":0.2}},\"type\":\"barpolar\"}],\"pie\":[{\"automargin\":true,\"type\":\"pie\"}]},\"layout\":{\"autotypenumbers\":\"strict\",\"colorway\":[\"#636efa\",\"#EF553B\",\"#00cc96\",\"#ab63fa\",\"#FFA15A\",\"#19d3f3\",\"#FF6692\",\"#B6E880\",\"#FF97FF\",\"#FECB52\"],\"font\":{\"color\":\"#2a3f5f\"},\"hovermode\":\"closest\",\"hoverlabel\":{\"align\":\"left\"},\"paper_bgcolor\":\"white\",\"plot_bgcolor\":\"white\",\"polar\":{\"bgcolor\":\"white\",\"angularaxis\":{\"gridcolor\":\"#EBF0F8\",\"linecolor\":\"#EBF0F8\",\"ticks\":\"\"},\"radialaxis\":{\"gridcolor\":\"#EBF0F8\",\"linecolor\":\"#EBF0F8\",\"ticks\":\"\"}},\"ternary\":{\"bgcolor\":\"white\",\"aaxis\":{\"gridcolor\":\"#DFE8F3\",\"linecolor\":\"#A2B1C6\",\"ticks\":\"\"},\"baxis\":{\"gridcolor\":\"#DFE8F3\",\"linecolor\":\"#A2B1C6\",\"ticks\":\"\"},\"caxis\":{\"gridcolor\":\"#DFE8F3\",\"linecolor\":\"#A2B1C6\",\"ticks\":\"\"}},\"coloraxis\":{\"colorbar\":{\"outlinewidth\":0,\"ticks\":\"\"}},\"colorscale\":{\"sequential\":[[0.0,\"#0d0887\"],[0.1111111111111111,\"#46039f\"],[0.2222222222222222,\"#7201a8\"],[0.3333333333333333,\"#9c179e\"],[0.4444444444444444,\"#bd3786\"],[0.5555555555555556,\"#d8576b\"],[0.6666666666666666,\"#ed7953\"],[0.7777777777777778,\"#fb9f3a\"],[0.8888888888888888,\"#fdca26\"],[1.0,\"#f0f921\"]],\"sequentialminus\":[[0.0,\"#0d0887\"],[0.1111111111111111,\"#46039f\"],[0.2222222222222222,\"#7201a8\"],[0.3333333333333333,\"#9c179e\"],[0.4444444444444444,\"#bd3786\"],[0.5555555555555556,\"#d8576b\"],[0.6666666666666666,\"#ed7953\"],[0.7777777777777778,\"#fb9f3a\"],[0.8888888888888888,\"#fdca26\"],[1.0,\"#f0f921\"]],\"diverging\":[[0,\"#8e0152\"],[0.1,\"#c51b7d\"],[0.2,\"#de77ae\"],[0.3,\"#f1b6da\"],[0.4,\"#fde0ef\"],[0.5,\"#f7f7f7\"],[0.6,\"#e6f5d0\"],[0.7,\"#b8e186\"],[0.8,\"#7fbc41\"],[0.9,\"#4d9221\"],[1,\"#276419\"]]},\"xaxis\":{\"gridcolor\":\"#EBF0F8\",\"linecolor\":\"#EBF0F8\",\"ticks\":\"\",\"title\":{\"standoff\":15},\"zerolinecolor\":\"#EBF0F8\",\"automargin\":true,\"zerolinewidth\":2},\"yaxis\":{\"gridcolor\":\"#EBF0F8\",\"linecolor\":\"#EBF0F8\",\"ticks\":\"\",\"title\":{\"standoff\":15},\"zerolinecolor\":\"#EBF0F8\",\"automargin\":true,\"zerolinewidth\":2},\"scene\":{\"xaxis\":{\"backgroundcolor\":\"white\",\"gridcolor\":\"#DFE8F3\",\"linecolor\":\"#EBF0F8\",\"showbackground\":true,\"ticks\":\"\",\"zerolinecolor\":\"#EBF0F8\",\"gridwidth\":2},\"yaxis\":{\"backgroundcolor\":\"white\",\"gridcolor\":\"#DFE8F3\",\"linecolor\":\"#EBF0F8\",\"showbackground\":true,\"ticks\":\"\",\"zerolinecolor\":\"#EBF0F8\",\"gridwidth\":2},\"zaxis\":{\"backgroundcolor\":\"white\",\"gridcolor\":\"#DFE8F3\",\"linecolor\":\"#EBF0F8\",\"showbackground\":true,\"ticks\":\"\",\"zerolinecolor\":\"#EBF0F8\",\"gridwidth\":2}},\"shapedefaults\":{\"line\":{\"color\":\"#2a3f5f\"}},\"annotationdefaults\":{\"arrowcolor\":\"#2a3f5f\",\"arrowhead\":0,\"arrowwidth\":1},\"geo\":{\"bgcolor\":\"white\",\"landcolor\":\"white\",\"subunitcolor\":\"#C8D4E3\",\"showland\":true,\"showlakes\":true,\"lakecolor\":\"white\"},\"title\":{\"x\":0.05},\"mapbox\":{\"style\":\"light\"}}},\"legend\":{\"tracegroupgap\":0},\"title\":{\"text\":\"Engagement Sources\"},\"piecolorway\":[\"#FFB6C1\",\"#87CEFA\",\"#90EE90\",\"#FFDAB9\"]},                        {\"responsive\": true}                    ).then(function(){\n",
              "                            \n",
              "var gd = document.getElementById('1d8aed7f-267c-46c6-b925-18b1d68faf5f');\n",
              "var x = new MutationObserver(function (mutations, observer) {{\n",
              "        var display = window.getComputedStyle(gd).display;\n",
              "        if (!display || display === 'none') {{\n",
              "            console.log([gd, 'removed!']);\n",
              "            Plotly.purge(gd);\n",
              "            observer.disconnect();\n",
              "        }}\n",
              "}});\n",
              "\n",
              "// Listen for the removal of the full notebook cells\n",
              "var notebookContainer = gd.closest('#notebook-container');\n",
              "if (notebookContainer) {{\n",
              "    x.observe(notebookContainer, {childList: true});\n",
              "}}\n",
              "\n",
              "// Listen for the clearing of the current output cell\n",
              "var outputEl = gd.closest('.output');\n",
              "if (outputEl) {{\n",
              "    x.observe(outputEl, {childList: true});\n",
              "}}\n",
              "\n",
              "                        })                };                            </script>        </div>\n",
              "</body>\n",
              "</html>"
            ]
          },
          "metadata": {}
        }
      ]
    },
    {
      "cell_type": "code",
      "source": [
        "fig = px.scatter(data,\n",
        "                 x='Profile Visits',\n",
        "                 y='Follows',\n",
        "                 trendline = 'ols',\n",
        "                 title='Profile Visits vs. Follows')\n",
        "fig.show()"
      ],
      "metadata": {
        "colab": {
          "base_uri": "https://localhost:8080/",
          "height": 542
        },
        "id": "x0eQEpPQzSR_",
        "outputId": "c3155509-0c25-4cee-b81b-4a956f317764"
      },
      "execution_count": 16,
      "outputs": [
        {
          "output_type": "display_data",
          "data": {
            "text/html": [
              "<html>\n",
              "<head><meta charset=\"utf-8\" /></head>\n",
              "<body>\n",
              "    <div>            <script src=\"https://cdnjs.cloudflare.com/ajax/libs/mathjax/2.7.5/MathJax.js?config=TeX-AMS-MML_SVG\"></script><script type=\"text/javascript\">if (window.MathJax && window.MathJax.Hub && window.MathJax.Hub.Config) {window.MathJax.Hub.Config({SVG: {font: \"STIX-Web\"}});}</script>                <script type=\"text/javascript\">window.PlotlyConfig = {MathJaxConfig: 'local'};</script>\n",
              "        <script charset=\"utf-8\" src=\"https://cdn.plot.ly/plotly-2.24.1.min.js\"></script>                <div id=\"095bcb18-fef1-4914-bb34-36906cd5b285\" class=\"plotly-graph-div\" style=\"height:525px; width:100%;\"></div>            <script type=\"text/javascript\">                                    window.PLOTLYENV=window.PLOTLYENV || {};                                    if (document.getElementById(\"095bcb18-fef1-4914-bb34-36906cd5b285\")) {                    Plotly.newPlot(                        \"095bcb18-fef1-4914-bb34-36906cd5b285\",                        [{\"hovertemplate\":\"Profile Visits=%{x}\\u003cbr\\u003eFollows=%{y}\\u003cextra\\u003e\\u003c\\u002fextra\\u003e\",\"legendgroup\":\"\",\"marker\":{\"color\":\"#636efa\",\"symbol\":\"circle\"},\"mode\":\"markers\",\"name\":\"\",\"orientation\":\"v\",\"showlegend\":false,\"x\":[35,48,62,23,8,9,26,12,36,31,29,15,8,20,181,17,16,21,77,10,9,11,144,14,10,19,69,11,19,9,57,13,11,24,81,4,7,14,18,8,330,21,19,32,19,21,14,30,39,42,31,20,12,22,306,13,26,16,15,15,39,21,8,45,50,37,25,347,26,48,16,26,17,52,22,41,155,12,22,20,23,25,17,16,21,77,10,14,30,39,42,31,14,10,19,69,11,19,9,38,42,92,75,21,26,39,74,467,24,70,22,46,61,237,73,20,34,148,611],\"xaxis\":\"x\",\"y\":[2,10,12,8,0,2,0,6,4,6,4,0,2,4,42,6,2,2,30,0,0,24,100,2,4,6,6,6,2,2,20,2,4,8,26,2,2,4,0,2,94,8,18,10,4,4,4,4,18,38,10,12,4,4,74,0,6,6,0,6,12,10,8,8,46,12,10,94,6,10,6,4,12,16,12,8,32,8,16,6,10,10,6,2,2,30,0,4,4,18,38,10,2,4,6,6,6,2,2,14,8,14,28,18,12,34,26,260,16,96,20,30,58,100,80,18,10,214,228],\"yaxis\":\"y\",\"type\":\"scatter\"},{\"hovertemplate\":\"\\u003cb\\u003eOLS trendline\\u003c\\u002fb\\u003e\\u003cbr\\u003eFollows = 0.400884 * Profile Visits + 0.46283\\u003cbr\\u003eR\\u003csup\\u003e2\\u003c\\u002fsup\\u003e=0.727868\\u003cbr\\u003e\\u003cbr\\u003eProfile Visits=%{x}\\u003cbr\\u003eFollows=%{y} \\u003cb\\u003e(trend)\\u003c\\u002fb\\u003e\\u003cextra\\u003e\\u003c\\u002fextra\\u003e\",\"legendgroup\":\"\",\"marker\":{\"color\":\"#636efa\",\"symbol\":\"circle\"},\"mode\":\"lines\",\"name\":\"\",\"showlegend\":false,\"x\":[4,7,8,8,8,8,9,9,9,9,10,10,10,10,11,11,11,11,12,12,12,13,13,14,14,14,14,14,15,15,15,16,16,16,16,17,17,17,18,19,19,19,19,19,19,20,20,20,20,21,21,21,21,21,21,22,22,22,22,23,23,24,24,25,25,26,26,26,26,26,29,30,30,31,31,31,32,34,35,36,37,38,39,39,39,39,41,42,42,42,45,46,48,48,50,52,57,61,62,69,69,70,73,74,75,77,77,81,92,144,148,155,181,237,306,330,347,467,611],\"xaxis\":\"x\",\"y\":[2.066365070422533,3.269016056338026,3.669899718309857,3.669899718309857,3.669899718309857,3.669899718309857,4.0707833802816875,4.0707833802816875,4.0707833802816875,4.0707833802816875,4.471667042253519,4.471667042253519,4.471667042253519,4.471667042253519,4.87255070422535,4.87255070422535,4.87255070422535,4.87255070422535,5.273434366197181,5.273434366197181,5.273434366197181,5.6743180281690115,5.6743180281690115,6.075201690140843,6.075201690140843,6.075201690140843,6.075201690140843,6.075201690140843,6.476085352112674,6.476085352112674,6.476085352112674,6.876969014084505,6.876969014084505,6.876969014084505,6.876969014084505,7.277852676056336,7.277852676056336,7.277852676056336,7.678736338028167,8.079619999999998,8.079619999999998,8.079619999999998,8.079619999999998,8.079619999999998,8.079619999999998,8.480503661971829,8.480503661971829,8.480503661971829,8.480503661971829,8.88138732394366,8.88138732394366,8.88138732394366,8.88138732394366,8.88138732394366,8.88138732394366,9.282270985915492,9.282270985915492,9.282270985915492,9.282270985915492,9.683154647887322,9.683154647887322,10.084038309859153,10.084038309859153,10.484921971830984,10.484921971830984,10.885805633802814,10.885805633802814,10.885805633802814,10.885805633802814,10.885805633802814,12.088456619718308,12.48934028169014,12.48934028169014,12.89022394366197,12.89022394366197,12.89022394366197,13.291107605633801,14.092874929577462,14.493758591549295,14.894642253521125,15.295525915492956,15.696409577464788,16.097293239436617,16.097293239436617,16.097293239436617,16.097293239436617,16.89906056338028,17.29994422535211,17.29994422535211,17.29994422535211,18.502595211267604,18.903478873239436,19.705246197183097,19.705246197183097,20.50701352112676,21.30878084507042,23.313199154929578,24.9167338028169,25.317617464788732,28.123803098591548,28.123803098591548,28.52468676056338,29.727337746478874,30.128221408450703,30.529105070422535,31.330872394366196,31.330872394366196,32.934407042253525,37.34412732394367,58.19007774647888,59.79361239436619,62.59979802816902,73.02277323943662,95.47225830985916,123.13323098591549,132.75443887323945,139.56946112676056,187.6755005633803,245.40274788732395],\"yaxis\":\"y\",\"type\":\"scatter\"}],                        {\"template\":{\"data\":{\"histogram2dcontour\":[{\"type\":\"histogram2dcontour\",\"colorbar\":{\"outlinewidth\":0,\"ticks\":\"\"},\"colorscale\":[[0.0,\"#0d0887\"],[0.1111111111111111,\"#46039f\"],[0.2222222222222222,\"#7201a8\"],[0.3333333333333333,\"#9c179e\"],[0.4444444444444444,\"#bd3786\"],[0.5555555555555556,\"#d8576b\"],[0.6666666666666666,\"#ed7953\"],[0.7777777777777778,\"#fb9f3a\"],[0.8888888888888888,\"#fdca26\"],[1.0,\"#f0f921\"]]}],\"choropleth\":[{\"type\":\"choropleth\",\"colorbar\":{\"outlinewidth\":0,\"ticks\":\"\"}}],\"histogram2d\":[{\"type\":\"histogram2d\",\"colorbar\":{\"outlinewidth\":0,\"ticks\":\"\"},\"colorscale\":[[0.0,\"#0d0887\"],[0.1111111111111111,\"#46039f\"],[0.2222222222222222,\"#7201a8\"],[0.3333333333333333,\"#9c179e\"],[0.4444444444444444,\"#bd3786\"],[0.5555555555555556,\"#d8576b\"],[0.6666666666666666,\"#ed7953\"],[0.7777777777777778,\"#fb9f3a\"],[0.8888888888888888,\"#fdca26\"],[1.0,\"#f0f921\"]]}],\"heatmap\":[{\"type\":\"heatmap\",\"colorbar\":{\"outlinewidth\":0,\"ticks\":\"\"},\"colorscale\":[[0.0,\"#0d0887\"],[0.1111111111111111,\"#46039f\"],[0.2222222222222222,\"#7201a8\"],[0.3333333333333333,\"#9c179e\"],[0.4444444444444444,\"#bd3786\"],[0.5555555555555556,\"#d8576b\"],[0.6666666666666666,\"#ed7953\"],[0.7777777777777778,\"#fb9f3a\"],[0.8888888888888888,\"#fdca26\"],[1.0,\"#f0f921\"]]}],\"heatmapgl\":[{\"type\":\"heatmapgl\",\"colorbar\":{\"outlinewidth\":0,\"ticks\":\"\"},\"colorscale\":[[0.0,\"#0d0887\"],[0.1111111111111111,\"#46039f\"],[0.2222222222222222,\"#7201a8\"],[0.3333333333333333,\"#9c179e\"],[0.4444444444444444,\"#bd3786\"],[0.5555555555555556,\"#d8576b\"],[0.6666666666666666,\"#ed7953\"],[0.7777777777777778,\"#fb9f3a\"],[0.8888888888888888,\"#fdca26\"],[1.0,\"#f0f921\"]]}],\"contourcarpet\":[{\"type\":\"contourcarpet\",\"colorbar\":{\"outlinewidth\":0,\"ticks\":\"\"}}],\"contour\":[{\"type\":\"contour\",\"colorbar\":{\"outlinewidth\":0,\"ticks\":\"\"},\"colorscale\":[[0.0,\"#0d0887\"],[0.1111111111111111,\"#46039f\"],[0.2222222222222222,\"#7201a8\"],[0.3333333333333333,\"#9c179e\"],[0.4444444444444444,\"#bd3786\"],[0.5555555555555556,\"#d8576b\"],[0.6666666666666666,\"#ed7953\"],[0.7777777777777778,\"#fb9f3a\"],[0.8888888888888888,\"#fdca26\"],[1.0,\"#f0f921\"]]}],\"surface\":[{\"type\":\"surface\",\"colorbar\":{\"outlinewidth\":0,\"ticks\":\"\"},\"colorscale\":[[0.0,\"#0d0887\"],[0.1111111111111111,\"#46039f\"],[0.2222222222222222,\"#7201a8\"],[0.3333333333333333,\"#9c179e\"],[0.4444444444444444,\"#bd3786\"],[0.5555555555555556,\"#d8576b\"],[0.6666666666666666,\"#ed7953\"],[0.7777777777777778,\"#fb9f3a\"],[0.8888888888888888,\"#fdca26\"],[1.0,\"#f0f921\"]]}],\"mesh3d\":[{\"type\":\"mesh3d\",\"colorbar\":{\"outlinewidth\":0,\"ticks\":\"\"}}],\"scatter\":[{\"fillpattern\":{\"fillmode\":\"overlay\",\"size\":10,\"solidity\":0.2},\"type\":\"scatter\"}],\"parcoords\":[{\"type\":\"parcoords\",\"line\":{\"colorbar\":{\"outlinewidth\":0,\"ticks\":\"\"}}}],\"scatterpolargl\":[{\"type\":\"scatterpolargl\",\"marker\":{\"colorbar\":{\"outlinewidth\":0,\"ticks\":\"\"}}}],\"bar\":[{\"error_x\":{\"color\":\"#2a3f5f\"},\"error_y\":{\"color\":\"#2a3f5f\"},\"marker\":{\"line\":{\"color\":\"white\",\"width\":0.5},\"pattern\":{\"fillmode\":\"overlay\",\"size\":10,\"solidity\":0.2}},\"type\":\"bar\"}],\"scattergeo\":[{\"type\":\"scattergeo\",\"marker\":{\"colorbar\":{\"outlinewidth\":0,\"ticks\":\"\"}}}],\"scatterpolar\":[{\"type\":\"scatterpolar\",\"marker\":{\"colorbar\":{\"outlinewidth\":0,\"ticks\":\"\"}}}],\"histogram\":[{\"marker\":{\"pattern\":{\"fillmode\":\"overlay\",\"size\":10,\"solidity\":0.2}},\"type\":\"histogram\"}],\"scattergl\":[{\"type\":\"scattergl\",\"marker\":{\"colorbar\":{\"outlinewidth\":0,\"ticks\":\"\"}}}],\"scatter3d\":[{\"type\":\"scatter3d\",\"line\":{\"colorbar\":{\"outlinewidth\":0,\"ticks\":\"\"}},\"marker\":{\"colorbar\":{\"outlinewidth\":0,\"ticks\":\"\"}}}],\"scattermapbox\":[{\"type\":\"scattermapbox\",\"marker\":{\"colorbar\":{\"outlinewidth\":0,\"ticks\":\"\"}}}],\"scatterternary\":[{\"type\":\"scatterternary\",\"marker\":{\"colorbar\":{\"outlinewidth\":0,\"ticks\":\"\"}}}],\"scattercarpet\":[{\"type\":\"scattercarpet\",\"marker\":{\"colorbar\":{\"outlinewidth\":0,\"ticks\":\"\"}}}],\"carpet\":[{\"aaxis\":{\"endlinecolor\":\"#2a3f5f\",\"gridcolor\":\"#C8D4E3\",\"linecolor\":\"#C8D4E3\",\"minorgridcolor\":\"#C8D4E3\",\"startlinecolor\":\"#2a3f5f\"},\"baxis\":{\"endlinecolor\":\"#2a3f5f\",\"gridcolor\":\"#C8D4E3\",\"linecolor\":\"#C8D4E3\",\"minorgridcolor\":\"#C8D4E3\",\"startlinecolor\":\"#2a3f5f\"},\"type\":\"carpet\"}],\"table\":[{\"cells\":{\"fill\":{\"color\":\"#EBF0F8\"},\"line\":{\"color\":\"white\"}},\"header\":{\"fill\":{\"color\":\"#C8D4E3\"},\"line\":{\"color\":\"white\"}},\"type\":\"table\"}],\"barpolar\":[{\"marker\":{\"line\":{\"color\":\"white\",\"width\":0.5},\"pattern\":{\"fillmode\":\"overlay\",\"size\":10,\"solidity\":0.2}},\"type\":\"barpolar\"}],\"pie\":[{\"automargin\":true,\"type\":\"pie\"}]},\"layout\":{\"autotypenumbers\":\"strict\",\"colorway\":[\"#636efa\",\"#EF553B\",\"#00cc96\",\"#ab63fa\",\"#FFA15A\",\"#19d3f3\",\"#FF6692\",\"#B6E880\",\"#FF97FF\",\"#FECB52\"],\"font\":{\"color\":\"#2a3f5f\"},\"hovermode\":\"closest\",\"hoverlabel\":{\"align\":\"left\"},\"paper_bgcolor\":\"white\",\"plot_bgcolor\":\"white\",\"polar\":{\"bgcolor\":\"white\",\"angularaxis\":{\"gridcolor\":\"#EBF0F8\",\"linecolor\":\"#EBF0F8\",\"ticks\":\"\"},\"radialaxis\":{\"gridcolor\":\"#EBF0F8\",\"linecolor\":\"#EBF0F8\",\"ticks\":\"\"}},\"ternary\":{\"bgcolor\":\"white\",\"aaxis\":{\"gridcolor\":\"#DFE8F3\",\"linecolor\":\"#A2B1C6\",\"ticks\":\"\"},\"baxis\":{\"gridcolor\":\"#DFE8F3\",\"linecolor\":\"#A2B1C6\",\"ticks\":\"\"},\"caxis\":{\"gridcolor\":\"#DFE8F3\",\"linecolor\":\"#A2B1C6\",\"ticks\":\"\"}},\"coloraxis\":{\"colorbar\":{\"outlinewidth\":0,\"ticks\":\"\"}},\"colorscale\":{\"sequential\":[[0.0,\"#0d0887\"],[0.1111111111111111,\"#46039f\"],[0.2222222222222222,\"#7201a8\"],[0.3333333333333333,\"#9c179e\"],[0.4444444444444444,\"#bd3786\"],[0.5555555555555556,\"#d8576b\"],[0.6666666666666666,\"#ed7953\"],[0.7777777777777778,\"#fb9f3a\"],[0.8888888888888888,\"#fdca26\"],[1.0,\"#f0f921\"]],\"sequentialminus\":[[0.0,\"#0d0887\"],[0.1111111111111111,\"#46039f\"],[0.2222222222222222,\"#7201a8\"],[0.3333333333333333,\"#9c179e\"],[0.4444444444444444,\"#bd3786\"],[0.5555555555555556,\"#d8576b\"],[0.6666666666666666,\"#ed7953\"],[0.7777777777777778,\"#fb9f3a\"],[0.8888888888888888,\"#fdca26\"],[1.0,\"#f0f921\"]],\"diverging\":[[0,\"#8e0152\"],[0.1,\"#c51b7d\"],[0.2,\"#de77ae\"],[0.3,\"#f1b6da\"],[0.4,\"#fde0ef\"],[0.5,\"#f7f7f7\"],[0.6,\"#e6f5d0\"],[0.7,\"#b8e186\"],[0.8,\"#7fbc41\"],[0.9,\"#4d9221\"],[1,\"#276419\"]]},\"xaxis\":{\"gridcolor\":\"#EBF0F8\",\"linecolor\":\"#EBF0F8\",\"ticks\":\"\",\"title\":{\"standoff\":15},\"zerolinecolor\":\"#EBF0F8\",\"automargin\":true,\"zerolinewidth\":2},\"yaxis\":{\"gridcolor\":\"#EBF0F8\",\"linecolor\":\"#EBF0F8\",\"ticks\":\"\",\"title\":{\"standoff\":15},\"zerolinecolor\":\"#EBF0F8\",\"automargin\":true,\"zerolinewidth\":2},\"scene\":{\"xaxis\":{\"backgroundcolor\":\"white\",\"gridcolor\":\"#DFE8F3\",\"linecolor\":\"#EBF0F8\",\"showbackground\":true,\"ticks\":\"\",\"zerolinecolor\":\"#EBF0F8\",\"gridwidth\":2},\"yaxis\":{\"backgroundcolor\":\"white\",\"gridcolor\":\"#DFE8F3\",\"linecolor\":\"#EBF0F8\",\"showbackground\":true,\"ticks\":\"\",\"zerolinecolor\":\"#EBF0F8\",\"gridwidth\":2},\"zaxis\":{\"backgroundcolor\":\"white\",\"gridcolor\":\"#DFE8F3\",\"linecolor\":\"#EBF0F8\",\"showbackground\":true,\"ticks\":\"\",\"zerolinecolor\":\"#EBF0F8\",\"gridwidth\":2}},\"shapedefaults\":{\"line\":{\"color\":\"#2a3f5f\"}},\"annotationdefaults\":{\"arrowcolor\":\"#2a3f5f\",\"arrowhead\":0,\"arrowwidth\":1},\"geo\":{\"bgcolor\":\"white\",\"landcolor\":\"white\",\"subunitcolor\":\"#C8D4E3\",\"showland\":true,\"showlakes\":true,\"lakecolor\":\"white\"},\"title\":{\"x\":0.05},\"mapbox\":{\"style\":\"light\"}}},\"xaxis\":{\"anchor\":\"y\",\"domain\":[0.0,1.0],\"title\":{\"text\":\"Profile Visits\"}},\"yaxis\":{\"anchor\":\"x\",\"domain\":[0.0,1.0],\"title\":{\"text\":\"Follows\"}},\"legend\":{\"tracegroupgap\":0},\"title\":{\"text\":\"Profile Visits vs. Follows\"}},                        {\"responsive\": true}                    ).then(function(){\n",
              "                            \n",
              "var gd = document.getElementById('095bcb18-fef1-4914-bb34-36906cd5b285');\n",
              "var x = new MutationObserver(function (mutations, observer) {{\n",
              "        var display = window.getComputedStyle(gd).display;\n",
              "        if (!display || display === 'none') {{\n",
              "            console.log([gd, 'removed!']);\n",
              "            Plotly.purge(gd);\n",
              "            observer.disconnect();\n",
              "        }}\n",
              "}});\n",
              "\n",
              "// Listen for the removal of the full notebook cells\n",
              "var notebookContainer = gd.closest('#notebook-container');\n",
              "if (notebookContainer) {{\n",
              "    x.observe(notebookContainer, {childList: true});\n",
              "}}\n",
              "\n",
              "// Listen for the clearing of the current output cell\n",
              "var outputEl = gd.closest('.output');\n",
              "if (outputEl) {{\n",
              "    x.observe(outputEl, {childList: true});\n",
              "}}\n",
              "\n",
              "                        })                };                            </script>        </div>\n",
              "</body>\n",
              "</html>"
            ]
          },
          "metadata": {}
        }
      ]
    },
    {
      "cell_type": "code",
      "source": [
        "from wordcloud import WordCloud\n",
        "\n",
        "hashtags = ' '.join(data['Hashtags'].astype(str))\n",
        "wordcloud = WordCloud().generate(hashtags)\n",
        "\n",
        "fig = px.imshow(wordcloud, title='Hashtags Word Cloud')\n",
        "fig.show()"
      ],
      "metadata": {
        "colab": {
          "base_uri": "https://localhost:8080/",
          "height": 542
        },
        "id": "vhDfinqRzUqf",
        "outputId": "877501e6-6964-454b-f76a-56ec3bd7bb73"
      },
      "execution_count": 17,
      "outputs": [
        {
          "output_type": "display_data",
          "data": {
            "text/html": [
              "<html>\n",
              "<head><meta charset=\"utf-8\" /></head>\n",
              "<body>\n",
              "    <div>            <script src=\"https://cdnjs.cloudflare.com/ajax/libs/mathjax/2.7.5/MathJax.js?config=TeX-AMS-MML_SVG\"></script><script type=\"text/javascript\">if (window.MathJax && window.MathJax.Hub && window.MathJax.Hub.Config) {window.MathJax.Hub.Config({SVG: {font: \"STIX-Web\"}});}</script>                <script type=\"text/javascript\">window.PlotlyConfig = {MathJaxConfig: 'local'};</script>\n",
              "        <script charset=\"utf-8\" src=\"https://cdn.plot.ly/plotly-2.24.1.min.js\"></script>                <div id=\"1ea70a39-a1bf-4c42-8cf8-f49752c85743\" class=\"plotly-graph-div\" style=\"height:525px; width:100%;\"></div>            <script type=\"text/javascript\">                                    window.PLOTLYENV=window.PLOTLYENV || {};                                    if (document.getElementById(\"1ea70a39-a1bf-4c42-8cf8-f49752c85743\")) {                    Plotly.newPlot(                        \"1ea70a39-a1bf-4c42-8cf8-f49752c85743\",                        [{\"name\":\"0\",\"source\":\"data:image\\u002fpng;base64,iVBORw0KGgoAAAANSUhEUgAAAZAAAADICAIAAABJdyC1AABlxklEQVR4Xu2dd3zURvbAn8pqey\\u002fuHRtcwJjeewsQAuk9l0vvvfd2afdLcimX3hNyIYSQhCQQCL2F3kwH9962d0m\\u002fP7TIa+1KuwbbGND34z\\u002fkN29m3nvSjmZGoxGAiIiIiIiIiIiIiIiIiIiIiIiIiIiIiIiIiIiIiIiIiIhIl\\u002fPZAtMbHxi4UpFO8saHhsee13GlZw5n6GXw\\u002fe+Wq29QcaUigqBcQa9Ep0dz+0m4UpEuAkEgEKC50t6HeBkIcy7EB+cKeiWz5imyc\\u002fEXHrNyE0S6gvtubuWKeiVn2WVw2cxGrujUOMviE5Uzo4c1apyUKxI59xAvA2HOhfggXEH38OUi85rlXkIKl16jVKvRzRt8LzxmbawnASAnF\\u002f\\u002fpr4S7rm9Z85eX1X\\u002fvC6NKg153YdObHxkGD5fq9B0a1pLsGjIIAPDZAlNzI3XkUOCya5QaLXr0UOD1F2w7t\\u002foZtZFjpXc+qMkrkLid9PLfPW++bHM5QwOfzxaYNq3z0RRcdq1Sq+NmFLAWADaWJt13c2tSCnbTXerEZKyuhrzlquaaqlCqQKVjJ8nufFCTnYtLpaGwb9nou\\u002fHy5pjFGozoDXeox06UJaVgdju1\\u002fW\\u002f\\u002f68\\u002fbmhrI0RNkdzyg\\u002fu0nz90Pa1Yv9370tv2dz404jjx0R+vu7X7hVKbS39YlpGXgALD0V8\\u002fDd7T3s4TjA7F84UMgsOfIZUAQyN8Hk7ETA5sVv3vuv7VD9zYvX3L\\u002fE9pBQ4lgkF6zwvvqczZrK8WmyuTIrfeqp82SJyRhbhd97HDw0btb62tJ4fgAwLBR0jse0OT2w1EUqa0O\\u002fvyD+8uPnOHKIh34cpF53Z6kNz4wDB8tnXKefOmmxG8Wm8NT3\\u002frYyP6r06M7jidfcpUSABKTseRU7NfVCa+8rU9OxZg\\u002fVvOzBaaNpUnf\\u002fmweP1k2bJT0y0XmtbuTVCoEAIaNku4qS3n2Vd3QkdJps+RL1iZ8sdCMnsj62QLT2t3RM0IsazeWJr39qfHDb03jJ8sGDSNuvEONnrhOBCrNyMa3H0u+8U61To+OHCvdeiT5xjvUbJkgWKxCibz+X8OcixUDBxPnX6TYsC\\u002fpnc+NADB6gmzr4eSHntbOvlCxpzLl+98tYybKPv7O9MHXsVMZEAQ0WvS7JebX3uswaS0cn5i+8CEc2HPhMmCQyhCDEf1msZnzrCA1Hd+4P\\u002fmdz4zDR0snTpP9sirhi4XtNaIYfP6DacO+pGtuVJUMJcZPlt37mIapVDg+JjO29Ujyo89piwcTw0ZJ\\u002f3GLau6lCjZVJApfLjKv2ZlEEKFLYfQE2Z7KlJIhBPPv+Rcpdh5PMZpCJ\\u002fzSa5TbjiarNe23i59WWJ56Wcf+y\\u002fLZAtPWw8k6Q0izX6FkT2XKsFFSAPhykTn8ZOf2k+ypTJk6Ux4zI8SydmNp0q+rE9ibZDgClV71T9Wm\\u002fcnIiR7tWx8b\\u002f\\u002ftl+48TBIvlcNdDmo37k+GEYeYEDACWbUp88iUdAFx6jfKPDYkxU8P5clGUBksgPjF94UM4sOfCZRBO5MPNZ1\\u002fVrdiSyNZYMoTYU5kyYkzInknTZXsqU8ZOkrVn6AhffJhyzo75+Parobs5uD\\u002fg94e64ts2+QAgryAUwT9\\u002f87hc1PkXhVr9WXMVa1Z4Hfb2nrAA+\\u002fcG2D5zbTUJACYLJpEgxSXE+lXtg4sjBwMNdeTwE+ceeDKyqQLWAsD6NV62s80iXKlCiQSDNH3iWVz4MUvUYiOprgyqVAj7U2lpIgHAbqPqakgAcLtoadglLZwqgEB84vGFD4HAnguXgTBDR0m3bPSxNZbuCdA09CsK1Th0pNTpoNatbC85Tkr3BCqOBz\\u002f81njD7WpzmHdnIj3XYNlt7Veez0f7vLTBGIqdz0svWeSed7kSAJJSsIFDiF8WulllYVpbQrMGAMD8bFAUlGoExcDa1uFab2ul9CfupcCTkUXAWgBoa4nyKxKudP0qr1qDXnq1kiCQomJi9HjZ6uXcKy9qsQCA4XDFP5Sf\\u002f2Ba\\u002fnfi1iPJz7yqZ5MoEqgTmXy+0IWOnOj8CKcKIxCfeHzhQyCw58JlIIxOjzLjd+Zv29FkBAFLQqhGrQ5taoxSY0z8fvqK2Y0Lv3VffaPqz82JL72lZzuVZxzRerTdg1rd\\u002fjuRShGpDGFu\\u002fgw\\u002ffue+8nrVgEHEoGGEtZVavzreHwAd7Qw67TQZBM5Z0RvQPTvbtaNmZBG2NirClR7YF3jtOduT\\u002f9I98py2sZ769D3HwvmucE0BHnlGN2ue\\u002fJWnbdv\\u002f9jU3UXMuVjz9io6r1NUIxOdUfBEO7Fl\\u002fGQhjt9Eb13o+fc8RLmw90Sw6HTQ7Xu4sTif93zfsH73tmDFH\\u002fsCT2n\\u002f\\u002fF4v5hKR3cpL+nwQFAwh2cD50lBQADh0IsKlHDgb27PCfN0c+bab891\\u002fcnJ62x03L5HH1CxiCQXr7Fl\\u002f4aD+3nyQhCWN69fEgbG1UYlY652LF26\\u002faB+fUnje6\\u002fpP3HPEPoyZMlf3xs+fXRe7aGtLvp\\u002fsVnv7JiJP2RTiw58JlIMDfG3zZffDDBwIHS9v\\u002f2OeS2\\u002f\\u002f2abTo8NG8Q8uY8QkG6SWL3J++5ygeFJqJO+PouQaLIJA3PjKMGCOdPEP+1L90O7f52YfrDAvnuyZOkxcMIH6NGAjs2emfMEU2eYa8cADBzkEK8+7r9v4DJc++ph86Ujp1pvzNjwz7dvuX\\u002f+Hh6vEQ09qoCFQqlSL9CiR1tWR8A7IOVJYHh42SDhhE5OVLbrxTPfk87vTtSYPjiM6AEgTIZIhOj+J4XMadii8xA3t2XwbCfPS23ZKIvfmRccxEWfFgYsb58pfe0rOLFf5a6t232\\u002f\\u002f6fw2XXascOJgYPUF29yOa8DkpvvhMmi67\\u002f3Ht+CmyooHE5Bnyi65Ubtscu\\u002fXsnfTckHDFH576WvKVdwxKJbJ5ve\\u002f5iPW4S3\\u002f1PPyMtuxYcP9e7k3s\\u002fTcdRjP23Os6FIXyY8HN65s4CpHs2u6\\u002f+cqWex7RvP+10e2kVy7zvPEve+QUKR8xrY2KQKWBAL1ulffl\\u002f+hf\\u002fo8eAKxt1Ka1vhcea3OeWBMkwPOPWZ9+WffJd6ZAgF693Hvj5c0\\u002frbBwlTrPNTeqHnpay\\u002f67dncSADz3qPXHWOO7U\\u002fElZmDP7stAmNpq8qoLmu5+WPPK23qZHGlqoDav83q9oagGg\\u002fTNVzTf8ZCGmTt32Kn9e\\u002f3h71TxxaexgSoaKJl7qUKlQVqaqPWrvP95zc7mEonCl4vMr71r4Eo7IpEgG\\u002fYl3XC7mpvQ48RjbadAEPjwW9M7nxkHDSP6FUryiyTjJslWbEm89zENV7XXcyq+xBPYs\\u002fgy4PDZAtP\\u002fnYHvbJ9eeq6HFXNR\\u002fdRZcpkc+fkH7kDg9BDL2k6RkY2PHCu99LzGg6WhXsMBCJQdCyYmnXnPmE\\u002fVl1iBPYsvAw5GM3bkYBz9LpEwerDB4kGlQjL7SBISsQee1Cz42tUc6ynMmUh9Lely0v+4RfX1Jy6HgzIa0cnnyYeNkj5wWytXtdfTTb6cC5cBAMycq6irCVIUTJ0pz8zGX3rCytUQEeT0N1ipGfhH3xppGpb\\u002f7n3r5bNzaO310Lde03zHA5r3vzZqNKjDQR3aH7j\\u002flta\\u002flsaeiO1tdJMv58JlAABXXKfMy5egKJQfDz5yV+uWjWfq5LeIiIiIiIiIiIiIiIiIiIiIiIiIiIiIiIiIiIiIiIiIiIjIOcn73ye+\\u002fH4XvIF42jlrHDm9vPKB5YHnzrwXg4R2azBmlIT\\u002fK1XGdk9lTOeKTgqlIQVBotsWjxl8sB5xXBOGUGiT8idwpb0VrR7N6Xembh4SzlnjSC8FgSD37fIzgOgr3dWmTLk+iZCpZRqzNiHX1VZDU2RC3ui6g2toijwhoeTaBGdzBQCtS+rnaK4IeO1KQ6qzpVKpT1GZM91tNYRCj0mkHlt9wOtkdICmTiTpMInMY61HUEyqNnpsDQCg0Ca62mqDPpc2Mc\\u002fraJapTIxye3agGTNQVMLU7nWEXklnTZVrE3BC4ffYXK3VjESqNDBmSGQqQq6RaSwyjdnSZ4THVh\\u002fwuRgdFMUZMzBcKlUbvY5mv9vKJDmbKzpEp3czY54qs4\\u002fk1cdbuAlnGmeNI72TR2\\u002fp4q8i9gzRezFqS1bjkU0UGcAkMr\\u002fHpjZnudtq3dZaj7WelQBQOCGngj5DWv\\u002f6w+tdrVV+tw3BMAAwZAwk\\u002fV6lIU2mNjYe3aw0prE6bBKh1Dce3ay2ZBEKnaPxuLO5Qm3KbDz2tyaxj8\\u002fV6nfbERRnldnsrBls7azNrGEoipMBH4YTrIQ1A4BOLpxsbzgKNMVIWB3WDKnaqDKkyVSGME\\u002fPJIaP7bLdsk4vZ40jIl1I9B5WwOs0ZQ9BMYnanEX6PUDTNE1JZBq5xsJKEAQL+lxqS7bH3pjUb7yjqYwMeJW6FKUhxd1WixNyR3O52pzJFMjqsEn61EJz9tCA1wkAZMAHAH6P3ZQ1OOC2sWawyoRcw2R3tlQyZrC1t1TsYpTbTQWa2fiWlZBsu4YgDUc2mjIHsxJWB06YQcjUTce3ahJz1biUSZJrExW6JIU+2d1WGyqnO\\u002floYdK6v9wEgVx4tVqlRrdu8Lz6REtTPQkAWbmS75anPHhD4\\u002fq\\u002f2jczeOPzBJUavfniulc+tJQMk2n1KADMuzK0PcvoPhVksH1DpX\\u002fcqb3oao1aix4\\u002f7P\\u002fPi227t4b2IB42Vn7LA7rcfMLtolb+7n735Ta3K7Qz7\\u002fvfJ\\u002f69zkNTcNE1ao0O42QU4LQ4Avy+CDsiYC3Dir3pj93amJCMX3+nzpKMNdQE776mobYqKFAjw6iJ8lse0GflSogT33Dcvsl7xxX1wmXqjdi1t2tHTZQnJuMOO7Vri\\u002fetF1qbG0gAGDFefvP9umU\\u002fu259UL9uhfvzd6z\\u002f\\u002fjQBl8CTdzQp1Shf0t4doWv+xzWpKRk4AKxY4nryzvY9xYTjA4KO9ALY3ST5D9hppsj5JgEJc5DYd2x7gSwIAgAytSl1wHQUk0BELlang4SFp8AYCOgIJHUbHy1M+nNX+svvW4aOlk2YoVi8IfWTn5LCU1\\u002f9qH3KWatH1x\\u002fNYH7VCUl4Uiq+YFXKc\\u002f8xJ6XizB+r+f73iSv2pn+6OGnMZMWQUbKPFiYt25muVKEAMGSUbOOxzMdfMQ4aIZs8S7lwdcoHCxLZ7+i9\\u002f33isp3RMwrT846AoC\\u002fCjghbCwAr9qa\\u002f\\u002frHl7a8TxkxWDBwmu+52LfO5CoEaASA9S7LuSMY\\u002f7tBq9eiwsfK1hzKuu71900S+MgFArkRfetc86yJV\\u002f8HSmReplu9J\\u002f\\u002fenoXCNGC9fczDjnqcMM+apNpdnfrkkeeQE+TvfJr71VYJAElspgoBai37+S9KL77Z\\u002fiwxixUfYkbMfiUzFFZ2AkGtw4tz90ONHC5OW7kiTnNhKfMR4+ebyzAFDQjvezrxIteFohsEU+kFceLV63eGM8I\\u002f3zf8z5ZF\\u002fGdl\\u002fWd7\\u002fPnHNwQydIZQxr4DYXJ45ZJQMAD5amPTBgkRWM6cfsbk8c9JMZcyMwvS8IyDoS8yMAtYCwIq96QtWpWARu0gL1AgAl\\u002f1Ts7I0nb3xvfqR5c0v2tsOvjIjufVB\\u002fV\\u002f7Qk+0GNtMCRgALN6Y+vCLRgC48Gr1onWpAkntZQEAwEcLozRYAvERdqTHiH2f7CaYwWBU\\u002fB570N879m87TRwu9QdOfJxux2YvAOTmh56X\\u002ffWby+2iz7sw1NxPv0C5boU7zo\\u002f3Hdzrs7aGxjh1NUEAMJoxiQQpKpFuWt2+Ocyxg\\u002f7GuuCQ0e1NUtSMbKoAPekIAMT0hS8jg4C1DJtXe9hhKUPMGuUKJBgIfUAMAIIB7jccI8uMSk1lQKlCw5u21iYSABw2qr4mCKEvToZSBZKEEYhPTEd6htPWYIkI4Aj7HJ7fR\\u002fu8tD7s431Lf3LOuUwFAInJ+IAhst8XxdiCnaXtxBdDAQBoAAAERZRqFMXAZu3QUljbKPbbB8CTsV3CT086AgAxfeHLyCBgLUOH7AAQR42bVntUGvTCq9QSAikolo6cIF+3vMPNOLJMBgxHLrlO8\\u002f6CxF82pa49lPHYK6bw1PAvTvrbvzgZIykmAvGJ6UjPIDZYvRFl2MiIkCJSGcLcMxkW\\u002f8+ZkSMpKpFOOV9payPDb+\\u002fCRP0Gn9NOkUE6vHkCAJ0eDf8UaNSM8dCTjkAcvvBlZBC2Nioxazy0z\\u002f\\u002fm860Pv2RcWZr+4rvmL9+zLf7OEa7Mx31PG25+QPfL\\u002f5w3X1w\\u002fuX\\u002fla0+2cDW6AYH4nLQjXUv0p4Qip5f8\\u002flIJgTDDk8EjZQBw5ED716WOHfTv2+mber6y\\u002f2Dpnz+7OAMKr4eSxdf\\u002fZwgG6V1bfaMmKr54z8ZIcvoRliR8xyZvR8WToScdgVP2RdjaqMRT46yLVO+\\u002f1vblf0MKcTJ2qnz5L64\\u002fFoVmTvIKTv8a2pNzpGsRe1i9EYKAVz6wDB0jnzBd8ci\\u002fjHu2+dhn0gyL5zvGTVP06y\\u002f9\\u002fcQFzVK60zdmimLCdEX+AOnQMXEtZfrg320FA4nHXzUNGiGbNFP56gfm\\u002fbt9q5Z2QYe\\u002fhx2BU\\u002fMlprVREa6RkCJ5BUR9bTDOQRlLVVlw8ChZUYm0Tz\\u002fiH3doJ8zossdQOI7oDJiEAKkU0cb9McqTdqRrEXtYvZGVS92NtcHn\\u002f2NSKNGt6z2vPMEdDqxY4rr3aUPFscDBvdwuwMdvWQ0m7InXTAgKlccDW9fHHmft3e6766qG2x\\u002fR\\u002f+erBJeTWvun+52X2+KZCY5JDzsCp+ZLTGujIlxjMEBvXOV+7i3zc2+ZAcDWRv29zvPq4y0uJ\\u002f\\u002foCwAAXn2i5ZGXjO\\u002fOTwwE6HXL3XdeWT\\u002f\\u002fzxSuUue54gbNPU8Z2H+X7UwHgJcfa\\u002fk51vjupB0ROcv5aGHSC+90eN4ciUSCLN+Tfu1tWm5Cb+LMciQeazsLgsDbXyf8+xPLwGGyvAKibxExepL8181pdzyi56r2bnqPI2IPqzcSs9c9aaZCJkd+W8gdRvU2zixHYlrbWdKzJMPGyq+dWXt4f6j\\u002feAig\\u002fFjAknyG\\u002fe56jyM9XZ\\u002fIqaBUoRk5EksidtcThkVfO1piPcPqtZw1jgjTUBd0u6irbtH+71O700HpjejEGcoho2SP336GvXjcexwRG6wziZR0\\u002fO1vEmgaVv3hfu\\u002fVNm7ymcNZ44gwXg99zzUNN9+ve+vLBLUGdTqow\\u002fv9j93auHpZXA8Beg9njSMiIiIiIiIiIiIiIiIiIiIiIiIivYCBs1NuXzCGK+1xJt6aO\\u002fnOPK70tNJLIsMhe5jxnl\\u002fGP7NtxrT7+nHTOk8vDLuIiBBx\\u002fiylSvzCF4u50rOaeCJzusJy0UvFXdJgifQqxHcJu4ysYUZtYvseUiIMYlhEuhBxHVZ01GbpvOeLM0r0bbXuQ2vaV8fljbNMvj3XlKkKBqjDaxsXP7uXDFAKPXHFm4OS+mokMuzRNVMAYONXZWs\\u002fPRZVGQAUemLes\\u002f0zBhswCdpS4Vr01J76Q3am\\u002fMEXpo26JkuXLA\\u002f6qXWfHlv\\u002fxXEASCnSXfyvYm2ibPeS2p+f38saQ8ixGQ\\u002fl509IQFBk79LaZW8cDPqp53bN\\u002fPGxXVPv7avQEdV7rT8+vtveGNo5IGrhUQthq4gkamSiesoXFj59AXlUp\\u002fiUo5I72nzhCwNen7KSomgA0CXJ7\\u002ft9wutTVjpbfHynI2rY+ZRFRE4nV7095NLXSiRSTJcsv+\\u002f3CezAx5SpTO2vQzFEY5E9uHxSyQWpbJYRV2Ze\\u002f8lw9l\\u002fgV552b79LXy\\u002fBcATDkcwhBkIe2iWueHbKIysnpxXrEBRRW2SG1A4v6M96tOCCp\\u002fuHS+Y9P+Dy\\u002fxtEKHC5RnLjlyOZqZbn98y88cuRSgMhkWHXvj+MzcJXeNRCBIgaGT5PIVpYgF+fTx7VKT5lBs6QEEHgvt8n9B1nYf4dd2POVf8ZzBzznQ4GTtiFlUW6G3FIGAUUQ\\u002fpOsKz99FjAR1prPTt+qmaTmstd1XutFEnbG71lW1sMaUKbfvApW2s9aQN0\\u002fSYlAoKUb2v1e0Ivpgy5OG3dF8erdltpinY0elurhZYRYzhSckHqyv8e9ruDHntg2w+VRdNDH01Y99kxV6s\\u002f4CUPrKy39FExwqiFCxQSFb7I8HnKB58+nxyiOSWgHAlNw9YFlYMvTGP+LZ6Vsm1RFXPMdzqi0illkS5HHBJGQaEnUBRxnBhJOZraN2PLKNGPu6mPNkFGU6BNkm1ZUMkmRcKnvGVBhcceGH1d1pwnizZ8dXz9Z8fZcUpbTVybqACA2ixDMeTW\\u002f7XPeftdQebAVhcymAxQGB66J0UtXKCQqPBFhs9TPvj0+eQQzSkB5ahsX1Q14dZcpZ5QmaQKHXFkXegLV3ynIyqdUhbpcsQGKwruNj9F0SqT1NXmBwClPrTZIy5Fr\\u002fto+C\\u002fP7d21pAYALv+\\u002fQeG5OJvyCyvvXVq7d2ltYp7myrcHO1v8O36qAgB7g1eXFO9OdY4mL0XS7164trWK2xGL+nmAqIULFBKVqJER9jTSGD59PjlDp8IbFY89sH95XfHsFKWB2LG4KryhiXo6+OiUskjXIg4Jo0CR9OE1jWNvyMGlqNoiGzgnNDmCE5hEhjVXugAgtb+uzyhTeC5Ho8+cpZJrJACASVAB5ZwRJo1FBgDWOo+7zc9+CmXH4uox\\u002f8hKLtAiCCh0RGJfDZslEjJI7\\u002fipavp9\\u002feRaCYKAPkWRVqzjKoURtfDOFhI1MgKeQkRYBPT55FHplDLL5u8qCqcl5U9K3LG4fZjPdzqi0illkS5H7GFF5+fn9174QvFja6a21bj\\u002f\\u002fq5iyMVpAOB1BJb934Gr3xkCNFTsaF3\\u002f+XFc1j7nenB1Q+G0pAf+nBTwkCveObR9URWfcvpA\\u002fcUvD5SqcL87WLq8nr1F7\\u002fipSiLHLnl1oDZR7ncFV398lHkCdcEz\\u002fbOGGjUWKYIi2cONdQft\\u002f3tgBwD89vL+SXfk3r5grFIvsTf6Vn9wpGq3NWRNBHyFd6oQiBaZzoaFT59PHhUB5UtfK0kp1GoSZDRFF0xOrNjR+tPTe5ik2v02BAF3m7+lwsUWxXc6ooadT1lERESk67l1\\u002fuiSE11mkTMOcUgock7A7CY6YGayJkG2549abrLIGYI4JBQ5JyiYknjhi8X2Ru93928XWF8qIiIiIiIiIiIiIiIiIiIiIiIiIiIiIiIiItI7GVx4w4C8y7nSXs\\u002fwAbelJ43iSs8Bevn5wjBiysgXks0l3IReibgOq\\u002fciwRUqRQJXKnKC3haf3mbPWYnYYPVekszFaYncnaTOXP7e835l3Uau9BTobfHpbfaclYgNVu\\u002fFoO3DFYmE0dvi09vsiRfubhq9GnGlezcypOim5raDKIKnJg7DMWmr7fiB47\\u002f4\\u002fHYAUMotIwfetevgN81th1j9gf2uwXHZtn0fD+h7hV6TKcEVAJCSMJRJ\\u002fWvzMzQdWqJN01RWyvjUxGE4Lne5Gw6XL7U6KpgkgzYnJ32KWpEYJH2NraVHKv4kSR+TNLjwhlbrURrotMThkRkFrAWACcOe2HPoO5lUl5UyXirVen22nfu\\u002f8PhCX5nnqxRF8YnDnkKQ0H2xsaV0z+H\\u002fMccMKkVibsZ0nSaDpsnmtkOHyn4PBNs3usFQSVbqxARjkVSqIUm\\u002fy92478gPXr8tZnwM2uzstEkqRQICqMfXVte0s6J2A1ssHwIR6L7zBfzREz5fwB8fgTIZLIaCPhlTZYTO5Wk8XL6U02gJn5TTi7g5RjcypOgmpdzcZjte3bAFx2R5mef5\\u002fI6t+z5iUwMB1+5D85l\\u002fJbhi3JCHD5b9VtOwVUZoEQQpKbjO7qw9VrmcUfD4rMzB4MIb1MpEl6e5rHo1RQWy0yYr5aYNO94Ikj6DNrsk\\u002f7rapp31TbsJiTInfarf79i+\\u002fzPmlzO48AaVwuL2tkZmZOwRsHbCsCfa7OUYKqms2xQkvTp1RkXNOhpoABCuFABQVIJjRHHfq3x+e3iDJZfphw+4o81eVlW3CcOkuenT\\u002fAHXttJPmFQEQQcVXK9WJB6vXmV31uC4TKfOOFa5nAZaOD6ERDVm0AM1jdvqm\\u002fdgqEStTA4E3bWNO5hUAYQj0B3nCwSjJ3y+BOIjUCYAqBSJw4tvb2jeW9OwTSbVZqdNkkl1B47+VNu0E2KdlNOO2MPqXmia2nd0IUUFAYCkAiX51+rU6VZHJQDUNGwtyJlHSFT+gBMAEoxFNE03tOwFAOYmSVMUSfrY6z4cFMF2Hfiaue8Fgp7hA27XqFJabcez0ybbHFUHji1m1FyephHFd5oN+Y0tpYwEQyVRMzKpAtYCgFJu2rTrHeait9rb7\\u002fMxK6WogJ8KUDR3N+HMlPEk6dt7+HumxkDANaToJoM2p9V2DABM+r56Teaug183tx1m9NnejXB8FDIDiuI1Dduc7gYAYL2LB4EIdMf5gljREzhfAvERLjM9aaTPby89spC531A02T\\u002f3UkYTYp2U0444h9W9ON31zIkHgDZ7GQColInMvw0tpUHSl2QeyPybaB7Q3HYoGGzfjlkAu6uW7aV7fVYAICQqFMG0qtRma+jyBQCnu8Hntxu0OawkakY2VcBaAGhpO8J2mljiqZQPgyar1VbG1mh31QLQamVoU3m9JitIetlfY\\u002fzYXbVub\\u002fOggn9kpoyTEmpusiACEejy8wVxRI8vI\\u002fDHJ2aZamVSm62caa0AwGYP3ZAYhE\\u002fKaUfsYXUvgWD7NuoUFaSoAHvBUVSgvnl3smVQRe16mVSrU6fvPhgabsTEH2jff4658hAEwTApgqCc6QZ\\u002fwEXgivB\\u002f2WM2IysRsBYA\\u002fNEmMuKplA8JrkgyFyeZi8OFbBMjwRU+vyM8KU4oKrhlzwfpyaPTk0bmpE2ub95zuPyPOGdhBCLQ5ecL4ogeX0bgj0\\u002fMMgmJMhiWGiA7tLnCJ+W0IzZY3QuOydhjFMVRVOIPu8hqGralJY7QqtN06gx\\u002fwB1+V4xBxEbpABAkfTRNEbgyXEhIlDZn+3bAUTOyCFsblbgq5SFAelpsR8tr1oYL2Z9okPSGN5edIkj6jletLKtek2gqys2Y0T\\u002fvsh37P+cqRUM4Al17viCe6PFkBP74xCzTH3DhePvu\\u002fkTYMcQ6KacdcUjYvWhUySgauivoNdkA4HDXs6lOd4PNUZVg7J9gLGxo3sMZcJGUH0Ul4RJhaJq02iuM+jxWolIkSAlNm60sTEsIYWujciqVttmOK+Vmp6ve4apj\\u002f9jnklZ7uQSXG7TZHTO1EzM+NE3WNe0ur1mnU4e+7hUT4Qh07fmCU4seX3xilul01+s1mciJB26ajsERPimnHbHB6l5QBB+Qd7lBm2MxFORnz7E6Km2ODruA1zRuMxvy1aqUuqZd4XIAsDmrzfp+FkOBRpUSz5QQABytWqFVpRTkzNVrsizGwgF9r7Q7axpbQ5PfMYlpbVROutKy6tVSQjOg7xVGXZ5WnZZg7F\\u002fY5yJmcQAANLYesDtr+uddlpo4TKtON+py+6RPDR+b8MXHbMjPzZhu1vfTqFIthoKUhMFt9nI2VZiYEeja8wWnED2B+AiXWVm3SSrVFvS5SK\\u002fJTDQNyE6dGN7yCp+U0444JOxeGltLvT5bUe4lOEa02I4dPP4LR6GheW9e5nluT5PdVctJOl61kpCo8nPmIgji9jRv2Rv7MY3NUblj\\u002fxd90qeV5F9LUv7G1gNHK5ZFzpTzEdPaqJx0pR6fdeveD3PSpxTlXoyhEl\\u002fA0Wo9RlEBJpWmyR37P89Jm5yZMk4qUQdJr91ZS1Htjxr54uPzOzSq1GTLIByT+gOu5rbDR08sNYhJzAh07fmCU4ieQHyEy3S46vYdXpCTPiXBVORyN+w\\u002ftriwzzy2WOGTInI2M6TopvAHxlFBEWzC0CcyU8ZxE3qceKw9FXr5O8AQXwR6z\\u002fk6NxGHhN1MrJW5FmMhikniWdbYE8Sy9lQgJEpfwMmV9jZiRaB3na9zD3FIeHrAMalCbpYRmtyMGdX1W5i1iGcfiaYBXp+NBirBWKiUmw6VLeFqnCGcI+er9yM2WKcHucwwqOA6oKGxtfRo5Z\\u002fc5LOFtMQRKmUCAojL07L3yA+dWnTeqzhHzpeIyLlOemGUtUJRwQm0ZIrRnN6+Eqqz4ARqSJZypaeGJUMmU2Lsv\\u002fFU0dscScjssNLqjEacwxLpXiZfk8wV8UAGKZKkiycauAlxQ8hQrYngSk+NkilGY1jbEU8Vvc0Rc1rspnPIDBOKxZrA6wWIQ0KRbkGlw+fcnWFt8AFNy1XYjJvTcAmy+efG5move1x10DV0psmYLNMnSdd+X19z2NVW77OkywAgPIu1yT\\u002ft+hSlFv\\u002fr6zprg2\\u002fiVUlyNX5sl2PHsuahM03mNJkhSbbtj6ajO+xTrktuKPeU7XGEy6sPuWbemiZVYLVH3X991WEtwqSrkywZ8pYan0yFrf6ujq2l9qjrgrszCBl6aIsNAEZdmCCVY5wqACC8lopSZ7hfMR2pOexSanHWFwyDzjoSHrrwsBzeYptxUyqCwLoF9bbmwNhLEpJyFPvWtXGMqT7c7qO1wT\\u002ftnymWTPnhrbaaw+6596TTNGxc3FhZGu9UHaZRaedMof2BtgW\\u002fcdO6FLGHJdItjJybsHFRw6r59RIpOurCBGuD78BG68xb08KPAcCQJD26w77wtbIp13XoiIWrOVoCq+bXHdpiGzjFgEvQxGzFD6+W7VjWzGQv2+v8\\u002fpXjIy6wBAP0lt+aDElSjjxnkObYTsfOFS32Zn94FQCQnKvcuLgx4KekCiy8lv7jDI0VngWvlO1e2QoA+9a1RVYBHWvh+MXC5wgAhPtyEo6Ehy68qEnXJK35ru7Hf5dPvzHV4wj++VkN23UKNybcx4pSZ80R99KPq49utyu1uFyNL\\u002f24Ov7WCgAor8+5dkuw1Qphr6Z2B13fYGV88ZIklXdna+0Fk3QXTeVKO4MsPzv5lfvSP3lef+kMblo3c+rGdx\\u002fCYe95CAXqdZE+N0lRIFdhXhcZ8FG\\u002ff1gVfsxo+n1U0E9hkg4XerjaiDmWoeeZPE4SwxAAaKtv34gOAOxN\\u002foCXQlDu74SVH9xsGz7HnNZPuWd1G0cn6KdIP+X3UggC4bXIVJizLbRdAfBXEZ4U6ReDgCPQ0Re+WgQcCQ8dW5RUjnldJEXSnJBCR2M4PtInXlpsrvYufqtixk2phWN0bGpMiIwUVKWg\\u002fd2+vrSnh4S2n1dyRZ3Ee+B47aNvGm++hJvQ\\u002fZy68V0CKpPqrzm\\u002f5eOF3ITexI5lLbPvSK8\\u002f7vZ7yE2LG8+\\u002fM72p2lux1xl+XAUuABh7SQJAws4\\u002fWxKz5KPmJVjSZXXHPOFqZJAyp8sJOUaRvG8CA4AlQzbm4sSUPEXN4Q4bFcgUmNog0ZqJPoM0peu5bRZLeC1717Rd9UxOVrG6fG+Hd7\\u002fDq9izujU8KdzgQBbVM46woQtXW7+wYe69GT4PuX1pc7gcOhoZ7iPTybr44cztS1u8zuCg6SZMgsRekxYG5fJgeo13\\u002f1GBt7V7KT1zqzfefEnP97B6CfJB+QmP3MgR9kzYOwWKhW9dAxje\\u002fg97PP2GlMQsOd90L6uGR3QW4ueyx7NVOhxB4PqXc7lpHeHUEm5wnPBl6Q5HBEKHIBAuv+WtfmGJ0U8EAOBEaLyFS5CoxQqAaVSGq+fqL53FTehq2ntY6qkjJUlm+YC+lMdr\\u002f22t4bo53gNlTW9\\u002fAwDy4r66eVPwJDMdDHp2H2r9bBEdDL3SpRo\\u002fRDN9DGbS0YGg\\u002fbc19t\\u002fXAYB8QJ7lvutQtcJ\\u002frLr5owVkmx0AiOxU082X4Aadc9PO1s8Xs\\u002fWmf\\u002f5iy4c\\u002f6C6ZztFHpIT+ipmKknxAEffmPW3fL6WD7T1YDnzKfJYrhhYphvX37juinTcFUynsf6yz\\u002frgc+I2JajyfMqpWGm+4UJJowk16RIL7q+ob\\u002f+8LJikqGV+81MyUIyfcW0tbv\\u002f6FDgTl\\u002ffOMN15Ufd+rQFEAgBt1ya8\\u002fWHPfK6Y7riTSkxBCkvrOEwBgX7bevmQNU07UsGNqpf7q82WFORAknet3WH9aASQF\\u002fMZ3IZx+BBls\\u002f5c9bij3et0kX4+DVQsGoivEw6bFjVOvTyGD9F9f13HTOsKpJdzgOOHL0h2OCISOpoEmaQAoHKPPH6X7+9em8NSoJwIAgv7Qy4YnYSQzhyXNywIE6aFOlnrqyOTXHkCkRNLzd1oe+AciJdLeexK3GABAkmSWZqcBhmJ6Tcqbj6jGDGKyKEcNTP3PY9I+6YAgmF7DKGd88VLiE7dgGhVCSCwP\\u002fsNw\\u002fdywSsBw1WyOhE\\u002ffeMNF5juvRGQEqpQnPnELZ\\u002fKI08PiU+azXDG0KO29J\\u002fWXzkAICSIjcJOOkfMZw8Axnk\\u002fZcN0Fxn9eCAC4UZf+6QtMWATI+Opl8z3XIDICUyuTnr9Te8EkAAAESXn9QfnA0L1RO3uC+Z5rmGP11JFRe1hRjUl45EbDtXMQQoJpVYlP3KKbN0VYX0Sk0yAIplUzf9ykrqbDpLu\\u002fvIb2+f1V9d5DZbTPH2y1YRoVAATqmnzHq4CkyDa778BxPMHI6KsmDLP\\u002fsc53tBJommyzBxtDo3rbb2tIu5P2B9zb9xMpsccpkfoIhqnGDLL+tIL2+imXx7Fqi2JYf262Ewgo81kOAIBhbQv\\u002fpP0B2usPNltZcaQxAkRVJjKSvQePA0CwxRpsbpMkmDrkiYbjzw201086XI4VmxVDiwAAaNqx8m\\u002fVuCGMgnJksXPN1vAskUQagxt1ssIc6w\\u002fLaH+AtDltv6xSTRouoC8icjIgiKxvtmJYsWrC8O5+Sthh0p32BQAAKJr2+QEAaBpQFACkuRna8ydgBi3QNG7UOVb+zejjRl2wqcPUIwPZYg0dBUnA2lcJ8xGpj+nUgKFJz97B6lDeDs+GwhFQ5rMcAMg2GzPa4hBpjABRlYP1zdLsNNfGXZhWjek1gboOHfKokHZX6MDmwLShpeHOtdu0F0zC1EpUq0LVSs+eGPtbRhqDGbSU10d5QtEIttowrQrBMWZcHKnfVSAoQlNRxgXJgy3jHhv2v0uWRH4LT5OimvjMSHO+Iegjt36wu3ThEUYukIWPTmXRZWou+HCKTCv1tHm\\u002fOu8nTmqnimLg8z0qfLXzyVlOwrBuhKLcu\\u002fYrR5aQHm9nx4OddST2U0JEgic8\\u002fM+Wzxe7Nu4EAPOdV7JJZJsNM+nbVU\\u002fAPiKNk0h90uoAkqp94u1gY4cnIFHhUxawXIBIYwSIqtz2w7KkZ26XFfUBkmr7ZkmwuY2rEQGmUwdqGgAA02tIW2j9C+XyuLeVKkcNRNVK57rt7c1rlDoBohkTbLGiMimqkFFuLwDgRi1pc7Lzj5H6XcXlP8z+\\u002ftIlUadXqCD79YMODLm5P01R317wMyZBA54Ok5V8WQSIP4u13P7l9EV5M7NG3DWQmwYAnSmKQcD3SPhq55OH01nDuhXaH3Cu2cKVxkenHOkwJIwKIsERQhJsaAYAaXaarKj9UYtz3XbNeWOJzBRAEFSlINK77NMaNEk6123XXzYDVSoAQXCzXtonnat0Aj5lAcu7FSIzJdDUWvfE27VP\\u002fMe5dhs3ORqa6aNRuRRTK9WTR7i37mPljhWbFMP6KwYXOtdtZ4Vkm12SZEKVcgBAcKGeEdlq8+w5pLtkOkJIMI1Ke\\u002f7EmOPKU0dpUegyNVwpAADUbm9ccHn0ldCaVHXNtkZPq9fZ4PbZ21d4CmTh4ySy8NHZogR871o6a1ivpbOOxO5hUW5v2\\u002fd\\u002fmO+9FoD2Ha6w\\u002f74WISRMknPtdoQgTLddhhu0lNdn+2W1v5L3QYzx+nnS\\u002fGxcpwEUkefn+Cvrmt6dz1UKo\\u002fWbX3XzpiS9cCemUgatdtvilb6jlQBguu1yaVYKZtACRcuHFPoOlbd8+mNUZQHLO0vnjKdpWZ+MtA+eBgShPF7bL6sdyzdydTri2Xs48dk7MI3SvbXU\\u002fvtaVu4vrwEA0ukK1revqXHvOqAYVpTyfw\\u002fT\\u002foD1xz+da4TaxOb3FxiumZ3y5iMQCLo27rIt\\u002fourwU9CkWnobQMsBUYUR5oPW9e\\u002ftrX5UBsAmPrqp7827re7V018ZoQ53+hp9fx43TJ3swcjsHmfT9NnaQHg5s1XMIV8OPw7mqJVicoLv5gu00pJP\\u002fnp+AXhtVwyf6Y2XS2R44kDTENv6Q8A8+f9Yq92CmRJHpww7PZic76BJmlrue23e1Z7Wr0AwJeFzxEB+Ir6x\\u002fKL1r26dcCV\\u002fcz5Rleje\\u002fO7u44trwAAAd8BYOC1Bf0v7yvVEM0HWzf83\\u002famA1EmUuKEzzCMwMY8NCR9dLJUQ0jkuN8VOPTr8fWvbwP+2vl8Af4I85bG83BQIPJ8joj0KER6Uspbj7KPSyRpiemfvwiYUE8246uXJUlmrvQEic\\u002fcrjzxcLOH0aar+52frUpQyA2ySc+NvPib8xi5qa\\u002f+5k2Xn\\u002ffmhIT+JqmGSB2eGJ4rob\\u002fptu1XRV3IkzE25YY10bf0nPfZtME3FnGl0bJo09S3bL5i6K0DVIlKhUmePZnb9Y6ShccRlryZWdf+MY8jhGhF\\u002fWP5Rf9cdUnG2BSZVlpyXcFNGy+X66VsalTf8+fmXL5wtqmvXqaVDrq+8PqVF8t07VmAv3Y+OUQzbND1hRd\\u002fc55EjqMSdPZ7k8Y9NoyRC9TO54tAhPlKww06aVaHd5IYYkY+0hFhhH5IIicBplEBSTHzRAiOyfKzyVY7s\\u002fSpcyAIAChHFuN6jXvzbm5qj2CrdBz89bizwe1p9e5fdNSYq2MXP2MEtmf+wYa9zT67v\\u002frv9u\\u002fK9ADFV+fX72ne+sEeZ73L3ew5\\u002flclVyMCAUdOgoO\\u002fHq9YV+O1+XZ9fQDFEEOfKNO44Qy8tmD7J\\u002fuaD7V5bb4dn5ciCJIxJoWrdMpYCo212xsCniAVoKr\\u002frjfkaBm5cO1RfRGIMF9ppNNFZKQoR5awmgxdG3mIZ0go0ik8pUddf+9OevEuBMeAon1l1Y1vfMlVigPFkELjTReTbfamd+ez0+Q9jNwgG3xDUcrQREIlQRBAcRRFEXY6ueVwjFFVN6HP1jbsif3gNRxhRzpL6zErc0BTdNBLEkqheQZUgmrT1FNeGj3lpdGsUJ2kDFPpGqwV9qQSC0agVJBOKrEwZydm7VF94YuwQGmoUkFkpXp27eeMDbs28iA2WF0PTVsXLLMuWMaV81Nx7WNcEYB7677w2ffTwox\\u002fj\\u002fM7A0vuXOlqdCcWm+d9Ni08lQycnmYUQZFosyVCCDvSWYJe3jcuIkEQBEGQ3+5eVbO1gRXSJ9HjjsX2T0vnfJB43bKLfA5\\u002fY2nLlvf3QBy1R\\u002fWFL8ICpVEOV7C5DVXIOTNZXRt5EBssET4wAkscYP71jr9cjW4A0KXHu4iZuX8iGAKncCMVoK3MZikIWwAci5N25CSI9J30k7YqhzFXX7mhtoNqV6NJViotivlzf\\u002fHaQsvu4GRr54uwQGmoQoYqZJSjQ2ezOyIvzmGJRIf0k+5WT8qQBFSCmguMJdcXcjV4sFc7qCDVZ1qmRIGrEhTc5FNmz7cHkwdbBv2zSGmWyw2yrAmphEpoUHbSjpwEUX3f9snekusKMselSDWEJlVVcFGuRN71HYWAN4jLsOtXXnzb9qtuXHfZ9NfHSRQ4nFTtAhEWKC3Y2ELaO2xu0R2Rj2G6yLnMymc2jX146MBrClqOWVc\\u002fv\\u002fn896dwNaLhs\\u002fvXvrxl2O3F4x4baqtyMqtsxjw0pM+0DKmaQCXojesu8zv9a17aUrG+hps5DL4sbWW23+9dPey24iE39aeCVMuRtrqdoQkXviwCjkx8ZkTG2FSpWoLi6I3rLvU5An89tbF2ewNfUWzGqET1\\u002ffBvZbgMH3nvIE2Kymf31+1sPLzkOKPPVzufHHh8rN3ROPfjqWv\\u002ftaViXQ1F0nK9dMa\\u002fxxVd2nfnF6UCtfMhEGG+0ki703e0InLZkEDkozoSM8IiIiJnPClDEv6x4uJwyZSXRo+8h\\u002fvMrvvANCr9ZbPUE0ZwE7oacUgoInLGY6tySFWSzHEpKIYQSknujMzM8amRM03dSuSQsDs4tUURIiIivYOcKemDb+qvTVOTPrKtzLb7mwPHV3bYrLlb6bGPUIiIiIicKgghIdKT1VNGd\\u002ff2Mr2XJOOAEQU3c6U9TnbS+D4pE7nSLqJbCz91pg5+WiW3cKUA0BWWG9RZo4vumDzoidzUuObyu5BTN16EyznbTrHE2WDhmLQocy5X2pvoKgu7qpz4EWiwuoqirLk932CJdDl87xJ2OWf8pLtenSkjemJDj5OmqyzsqnJERLoc9l1CVNX1K+\\u002fC6V3rsKQSdWHmHJ0q3eO3NlvbN9g0aXNzkicoZSaKDjbbjuwv\\u002f5WiSQmuGJhzqVqRiKKSCcUPAkBFw+ay+vVRlQFAgisKM+foVekIgrl9raXlPzvcobd2U0yDMhJGyAgtRQfL6zeU128EAK0ypShrrozQ1rXs2V+xhDUGQ4m8tGkWXV8ApKF13+HqFRQdnDr4qb1lP+WmTJbgCrurZm\\u002f5Yp\\u002ffzmehQOFRjRQoJ5J0yzClzGTS5gZJb1n9hvz0Wa2O8t3HvgeeMDK5okYAAEzaPiV9rgh3is\\u002fyqBEAnnCxuSKJqs9neYK+IEFf0GI\\u002fnpM8XoIrKho2Hq1ZBfzGdMp45lwoZUY5oUNQ3Olu2HHkW1+g2x+EnYngBi1CSFAUUQ4rdqzcxE0+WxnY5\\u002fIB2RehqERO6Mb0v5sdEiplJq0yBUFQKaEZN+C+ZONANku6ZdiQvGvZf4FfOTd1yoDsixEEQxBMr87AUIKRJxkHjC9+QKtMRQCRStRyaYeX7\\u002fulzSjImB0uKcycU5xzCYYSEkw+tN\\u002f1zGzI1MFPD+13PYErMVQyKPeq8CyRFrJEFs5nJAiWE066ZdiYorswlBhRcPOg3KswlJg48GHGKb7I8EVAwKlIy\\u002fmUo4aLJXJIGFWfz\\u002fIEfcHEgQ\\u002fnpk7BUAmGEnJCx8j5jGGI0\\u002fj8jFkFGecDgIzQThn0JOfCEAkHwTHV6MHKESXKUYO5aV1KLxoSIghq1uaV1W+gqIDHb61p3skmubzNNlcNTVM+v73VUa6QCV06fMpen1WrTLHo+iIAbY4Kkgpta5lqGlRev9HmqqaB9gUcHp\\u002fQJgQIgiUbBx6rXU1S\\u002fgDpqW7anqAPvXBQXrfBH3SRVKDRevCkp374jOwUdncdSfmd7kamBK\\u002ffJpWogD8yAhHolFORygLhigqfPp\\u002flAIAg6NGalSQVICm\\u002fx29l5ZHGCBOpr5YntjkrAMDrt3n8VoU0yut1Igx0kPTsOejZfcC1sX1r3O6gFw0JCVyBIKjPH+pyh\\u002fe9dar0rKQxMokGgJYR2qomoT02+ZSrmrYFSG9Gwsj8jFkV9ZvKGzbSNAUAMkIr3EiFI5WoEAQdnn8TKwmSoTbF67cxBxRNIshJ3gn4jOwUTDNHA3XigGYW3PFFRiACnXIqUlkgXFHh0+ezHAC8fnvUEEUaI0ykvtvXqlWm1LXskUpUUona7WvukEEkDEyrlhf1RVVy+5\\u002fro2492lX0ogbLH3TTNEVIVP6gCwAIPLRrD4rig\\u002fOu3l+xpK5lDwAU51wSnosTG2Hl+tZ99a371PKEgX0u9wddTCfOF3DIpLpwNQF8ASdNU5tKP3D7WjlJfDvpR5fyE9VI6Hw5HAQiIxABPqeiEqksEK6oRNUXsFyASGOEidQ\\u002fUvPX8H43GjXZNE0dqlrq8Vk5CiIslMeLyAja5+\\u002fW1gp61ZCQpqlm25GsxNEoiksl6mRjMSNHERxDJW5vKwBolSlGTU54Ll\\u002fAoZCZJJgcAFAEE1A2aLKlhAYAPH6bP+hm77o1zbsyE0ZqFMkAiARXqBUdNvzlQNNkTfPO3NQpElwOgMileq0ylavUEY6F3OSO8BkJnSwnEoHIdCoCnaKz4YqqL2B5t6JRJHl8bRtLP9hY+n74BIVIJJhK6T9e5Vj9Nzehq+lFPSwA2F+xpDDzggnFD3l8bVWNW1LMgwAgSHoPVy8v6XM5DWB1VpbXb0TRdrObrIcS9AVjB9xDUoGjNatqmnfwKeuUaf2z5uGYlCT9DW0Happ3MfKa5p0YKumffaGM0ARJf1ndOubpYUHG+QZ1ppRQAyAGdZbDU7\\u002f72A8AcLBqaZ\\u002fkCSPybyEkCp\\u002ffcaxujc1VHbImGpEWAn\\u002fhfEbylRM\\u002fAmHki0BU+Czngy9cA7Iv0iiSpYQGgE7Q5bc5K0rLf+HT57O8s3TOeJrWqdImlTwCgARJX1ndusrGbv9BnqGQTpd8QD880eTadCa37OPGS02m9j5CRia2fLUpLL17KRkkmf+DgSvtIjiuAYBOjy5czJ2XTUnFfv7d+OtS46dfts8TR9WMJB61y66Q\\u002f\\u002fCTkRPVeDIyRHoRSWQVkRKG+Ovt\\u002fagVieMG3Mc8rAAAlTxh6uCn4pkLOzfB9Fr1hOHamRPO7CXvH32mz+nTfjM8mxosjmt8XH+j8rmXNFxpl3IqUY3Ti8gqIiVnGUZNztj+90jw0AA83TJ8bP97uEoiJ0DlMs1547XnT1YOH8hN61JiX6wccvrgL76iqa4k+xXgLS3UfXfZ2lqpuRfKx44nHrjHBgAaDbpijemSeS2PPqEeOZp4822t10svWuj933w3AKAo8tob2n79cBRD7r\\u002fbevhQcPxE6f0PqTAMOX4s+OSjdrudysjEXn9DW15OhqsBQEIi9tyL6vQMXCKBBd95Pv7QFZkXAKZOlz30qMpuo\\u002ffsDjA2lwySPPy4WqlA7Hb68UdslRW8m5HffZ9q5mxZIEDbbfSdt1nbWqlnX9QcKA2cf4Fcb0B\\u002f+9Xz33dcGZlYpGtzL5RfdqU8IwMbNTS01ZnFgr74ijavH45jkJ9v+GuF78P\\u002fugAgUjPSr6hqkbYxcg6RGaPGM6oX8Qcqksh6AWDKNOmNtyhxDCkZLPlrue\\u002fOW62FRTiniqjmRY3JqZjXWVrsx+vbSkcW3IogGNCUzV278+h3XCWRE1Ben\\u002f2PNVxpbyCnD364PDE7BweA+x9SPfO8BgAIAlm32axSIQBw6eXyf72mZZSXLDNxeljHqhKHDCUA4OprFf9+U2s0oes2m81mFACuv1HJZIxUY7J\\u002f8a3+2utDC\\u002f\\u002flciRqXoUC2bLTkpaOAcDTz2nm\\u002f2CQSpFffjdqNCgAzJwt++yr9qFZJGYzynRpH3pU\\u002fc+blADw7Iuab783yOUIAOBhzTvHNQAwm9GNW83hEgC46Rbl\\u002fQ+HhhUsHE2OX6ycoxZpG0NkZ4eTkS+e0NELgUBFVhEpgYh6AWDdZrPRhALAF9\\u002fqR4wiolYR1bzImETNK9JL6LF3CTvdwwKAmmry+LEgACxf5nvxFQ0A+P30b0u8s+fI\\u002fzffff4F8nfecnLznKChnty21Q8ABw8Ep82QlZRI9u4JNDVRAPDzT54lS0MzIBw1AMBwGDacuOG6NkbB46FHjyEi8+b0wevqyKpKEgBWrvD2K1Dl9cWzsnF2bNjUKHRbHj9ROvdCuctFp6VjK5aHPnX75zKvx0MDQDDYQblLiPSrY3o7UW2Lk8h4RtKpQMUJIUUCfgCAYAAQhLcKjnlRY8KXV6Q30GOT7ifTYKEnHqmHf4Js\\u002ftfuf7+p\\u002fWu5NzUN27qFd3Ggy9X+g0QQoMJ+nuGzdRw1YBY+QofFSFHzhpsUCIYk1dXk7OmxV\\u002f1lZeP3PqCaPrnZ5aTvvEdFnPg6r5e\\u002fETl1Iv2KCp9tcRIZz0jiD1T8\\u002fPsVx4+\\u002fGMqOk42N1OaN\\u002fv4DJFGr4JgXNSbdYZ5IV8H3XcIu52SeeqSkYH374QAwZZp0x7bQPFFlBely09ffqPz1Zw9rsNNJGY1CVezYHigoklgsKADMmStfv463pQsGYef2wKVXhIYJShUSNe\\u002fRo8GUFCw1FQOAseOkAHD4UFCjQYYNJwAAQUDgoZhGg9jttMtJS6XI5KkxmoSYrsVJpF8d00N0yrb4Cfci\\u002fkDFT588\\u002fP33XDf\\u002fs+3xh200HW8VUWMSZ16R0wLfdwm7nJPpYR07FrzpFmXffLy1lb73Tisrn\\u002f+15813tHPOa2ElH3\\u002fg+tdrGpuN\\u002fuZL908\\u002felg5i7WNeuIR20ef6zEMqirJJx61czXCePgB23Mvaq6+VoGisOgHz8cfuiLzul30U4\\u002fbP\\u002f9G39pKrfrLBwBeL33rjdYnn1UrlSiKwuefuH74PoolALBnd+DQweDPvxsddnoDf9PJwHHtjbe1KamYwYh+Od+wb0\\u002fg9Vcc3AwniNSM9CtS7d+vOqLa9t6HuoQELDkF++Jb\\u002fY5tgbffdEaW3153BBwvogYqsopICUQYzNRLSJA771b980alXI588anr6y\\u002fdUauIJDIm8Z9HkdOC\\u002fc91tC\\u002fGr+Y0kNMH\\u002f2MFd7aVYcxYYtGvZ8kyHJFTZ9oM2av\\u002fp2WO5XJk0\\u002fbYbyCLnKEgGKYYVKieMpqb0NWcTL+abxLkiqsV8792c6Ui5ypqNeL3hQYI+YV4szhNfvaCSHBULvOXVXETupqTGRJGMu9i+a23K\\u002feXBhctFHvpIiF++9U7cbJ04WIjRdF+Pzx0v42rIXK2gMhl0rwsyu3p7kl3ERERkVMFwXHt+ZNVowdzE7qakxkSioiIiLSDooohRcHGZtxydk1hz7497aWlg7jS3opchb27bcSnh0Z\\u002femh07uAuex+QkKGvrRqSN7TLCoyHXhv5noxGT9Z1ToFgGKbXAoAkifumR5fTe3tYCg0ulZ9Yono68DjJO4dsfnhi++aW8SNkPAIAEAz03nG+kPFdTldHQ8j4k6pLqEARAACgSZK02gEgUN\\u002fty3p7b4N11dPZBaN1XGmPQ4UvqI8bAeP9HurhiduO7xJaHnV6ETC+y+nyaAgYf3J1CRQowoKbDUR6sqKkENDubVK6t3QucT8+QFAoGKnjSs8QeqPxYuRPii4v8Gwl2NxGZKYiMgKo6JuIdBVds6yBDwSBOXemT7giUabA9qxpbShvf2U3IUM+5660vkO1agNubfSvWdDw+4fVTNKj8\\u002fun5yulCuzO9\\u002foxkiXvV\\u002f\\u002f0VoVwLoGkF5aULP2sJn+EtmSKMRig961r++a5Yx4HKZyLj4xC1dOLip+9YFfVQRcjSeunfPbngc9fuLui1ClgPAC8s3W4XI0jCLx964Hdq1oZIUNilvzC+zL6jdBKFZityb\\u002fiq9o\\u002fP69lkiZfkzTpqiRTitTrIisPuOa\\u002fcLzueIzlIz0ZeRC0UMAvgWgMn22efWuqJUPWUudbu6Dhz89rKZIGwVMpYDwI1sVnvHCBIuFgWrU0J70H3iXsXkZfaPlw78gxFyUkZcunXJv0\\u002fu6R7NSv1kRc\\u002fFBm3hCNJUM2+kLLx\\u002ftH9R+nZ5Kkckylwz89NHrYLJNUgUkVGC4JrVUVyCWQ9MKSkv\\u002fuGjH3nvTkPoqiMbr\\u002fbB526cOZMXMx6BOJyEn3J74fcPWzOey\\u002flz+e9cKSEuZYwHhW4dNDo4snGsKFOgvxn83DHvyisO8wbUKGfNBUI1tj32HaD\\u002feOLJ5kMKfJckrUs29LlSljT6n0ZOQFLBTwiyFqNIrG6N7bMWL4+eaEDHnxRMObG4bNujW0E7zAqRQwnlWIrEvA+JgFirD02LKG7u1hTbwyactvzet\\u002fbACAuuOewtF6S0ZobxNbs3\\u002fh6+XMcWOFd8q1yRmFyr1r2wDA5yEpCgWAgI\\u002f2uTssjxbIJZAEABX7XIv\\u002fUwkAtUfdm39tzhkU+tkI5+Jj5bd1Vz+b88Nr5T43iWLI8NnmZZ\\u002fVMEkCxjNEnRQbf3kiTcM7tx9ksjRUtHegpAqUpsHW6G+q8jZVeY\\u002ftjGsKpicjL2ChgF8MUaNx\\u002fp3pK7+p+\\u002fvXJgBoqPCs\\u002fr5+wuWJv30Q6tDxnUoB4xmi1iVgfMwCRVjoYNCxfD0iJbgJXU33NliJmXLmsmOoOepmfzZSBTb9+uTiSQZjshTFELkK27M6dsdBIJdAEgCU7W2\\u002fEN32oEIVVy4+tv7RfOmjWcNnm9YuaBgwXq\\u002fS4Zt+bnfzJMjIV5btdUb9Vexd27b+x4YnFgwo2+Nc\\u002f2PDpl+aAr7Y0wQ9GXkBCwX8EiA1T9GnRD3zlg7f18FwhAzSwH8qTw4B40XiB9NpFAMLAo0tpC2uG+pJ070NFnSc7SX97ZfCja\\u002fmJvVRfPnk0YpSp99LPfPTwHY9fgRyCSQBgM8d\\u002fSoUzsVHMECv+6FhwuWJaxc0jJprKd1gtTWd2nvqCNDR7v8AQFPwzXPHf\\u002f+oZvQ8y5y70s+7KfXlK\\u002ffYm0O7+gjQY5EXspDfLz4QFKRy7Kf\\u002fVG5Y1BAuZ1or4D+VJ4eQ8SJxgqLywlxUpcB8Pm5SV9O9TwkbKz1p\\u002fdo3803uE9rhCACKxulXza87st3u91I4gZrTOmyDSZE0TQMWce8UyCWQJMDJ5QKAVd\\u002fVpfVT5g7WFE\\u002fUb\\u002fypMTyJz3gBao64M\\u002furCBnv6Wit8\\u002f3636onpu+QSNGRF8Te9qAnI88Q1cKYfkVCU1B10JXSR9FW7w\\u002f\\u002f4+pFg8\\u002f4mEQ1Hk6hwHMLigo0tviOVyISCe\\u002fWCF1E9\\u002fawVn9Xf9XT2Ye32Y7tdOQN1eSP1NmaQ1dec5W3cLRu+7IWmRKbe086hnfwkwzSjZWekXMtVYfcQIPXTTJdGIFcAkkCxMyF4SgAoBhX3lbv37Wy9YonsvxeaudfHZ468RnPwFTBKXDVd\\u002fUTr0i67T\\u002f9fvugyt4aMKXKZApsx\\u002fIWABg83ShX4ZX7nR4nmVGoUmrxxnLuTFAkPRl5AQsF\\u002fGKIGo2f36m8491+tUfTti9vQRFIyVOiGLLp5w53hajwGc8QtS4B4yFWgSIslMuD6TXe\\u002fUe7+xEh93fYtSAozLsnY\\u002fxlCYQM27miZd8G66xbUp+YsQMAsvqrrnkuJyVXYW8JLPusxpwm87qo8GfGfQZprno6Oylb7rQGF71ZwfRiBHIJJL2wpGTbspaf36lkSr7grvQh041Pzd4pnOuqp7LHXpIgkYZ6B2SQPrrD\\u002fto1+5h\\u002fASB\\u002fhPbBL4vW\\u002fK\\u002f+q2eOsUKGqMbPuzdj2vXJbHeDDNK1R93PXrCL+Tc1T3Hh\\u002fRl5Q7USKWpt8C39pGbVd\\u002fUAUDzJMO+edHOaDMOR5hrf6u\\u002fqV3wVWhYgQE9GXthCPr+EozFggv7829LS8pVkkK4v8\\u002fz+UfX2ZS0geCoZohovUJew8cBToIjImUfWANWnh0bnlKi5CSIiIt1DJyYXRDgMn22uPeqOc51B9yHNyki45zauNAx5fl9MfUqtag9UwQFVKhIfuIsrFTnnERusTiOVY+Y02aCpxvGXJS55P8ay+N6AetxoVCHnSruULq+Ccrnr\\u002f+8drlTknKd7J93PStILlPd9UuD3Un98VP33klNafnUqKAYU6S6YSbk9\\u002fooqVqidOU1ZMoAmKcrtbvrsa1Qu18+dLevbx\\u002fSPq+hAwPn3VueGvyPVKGfoHSMOXVuFYkCh9rxpgCIIhjV\\u002f9T9\\u002fZRUAYDqt4dJ5EpMRMNy58W\\u002f7X6sBQDl0sGr0cInJWP3kC0yl0qwM3QWzUKmU8nha5v8QbG7BzSbTNZcHGpuIlGRAkeYv5wdq66OWFpn3hCsiIiI9AkIQqS8\\u002fi5uMAGC4eC47XsM0aua5sm7OTM2kcYww6bH7JQkdVkJEVePQ5VUkPnAXkZ4KAAghQU6sFLDccbN6\\u002fBjmGCEkocwAmEad+uJTIbkET3rkPlQuBwBFSbHl9hsBADebMt79tzQnCwDU40aZrrkcopUWNa\\u002fImYvYwzojkSQmkG1WprPg3rdfm5LEyOUF\\u002fZTDBlNen8RkcO8t7ZAnjHjUurwKx7qN5uuvdm7d4dywmbTZAQBQVNYnu\\u002fH9T5gstD\\u002f6ck1JUpLEYkq4N9RihvICkFab71gZAPhr6hTF\\u002faOWxpdX5AxFbLDOTBBo\\u002fzIyGXrxRWIxa2dNr3vpdcrr0543FcGjr3eMU63Lq3Bt2e7Zd0A1Ymji\\u002fXc2f\\u002fGtr6wCiXORIQLBlra6l9\\u002fgiKmOX8GLXhpPXpEzFHHS\\u002fYwkUN+IGfS40QAAsvy+jBCVy2mPh\\u002fL6EAmuKCpglWmvD1Or2H\\u002f51Dh0eRWYVkO53faVa9w790izMwGAJklfWbl61PBQLpn0RAEdCNTWowq5rE82AACC8D2OjFpanHlFzhTEHtYZCe3ztf5vkeX2myin01N6gBH6Kqv8tfVJD99Leb2eQ0dYZduKVYYrL6HcHsfaDa4t2\\u002fnUOHR5FcYrLsZNRjpIkna77atVjLDlm+8Nl16oGjsKQRDn39uYaXLTdVfiBj2qViXcebOvstr6y++NH31huGgOIpMiCGJftc65acuJmjsQWRodCMSZV0RERERERERERERERERERESIJzdMKZqWyJVGA0GjPQbqfsxZysdWT3ph1\\u002fRHV07kpp0UWUMN9\\u002f46NupDrZPmLA4jn8HdEUaRXs6Z9JTw3l\\u002fGRm7z0gM0lblenrDyx6f2chNOASpId\\u002fM+HLyccWEUMLhnwpikDD0kBQCdNPpdQYapsjSDuVJ++MoRRkNYEJ7frBzXcEVhhLsAsZQZTs7CSE7a5qicMU8JNQkyc1b7jnRnNGVbW9+et54r7RHOuDAKGNy1YUxVFUpQmZd02f0NRlma3d\\u002fkJz1meabVV6fE9Wmq\\u002fs5Aiydo1xAJVl99krIvjhDOQAtJB3XSJIe\\u002fqc0X2pRGQ1gYiZ\\u002fyMOWgCKbAtc5AqxzXMLkiy6GBUkmMJB0EABwhHIFmNhcAqCRGpkCTLN0dtCpwHVOFj3QzFtJAZ6gHltm3Ywiukhis\\u002fnpXoI2xRydNUhNmKaZQSvSMPRRNMso0UIyEpikmF03TTIE+0sVYyLojw9WMqeGVhid1oc0CnIYGC5Ogc54sKJ6Z7PcE135aFvCFFiWmDdBNuSs3tVCL4kjdIcevL+2vO2gHAFyK3vrNSHO2EgCe3zmdUX66ZBlF0nxZBEp7fO2kX1\\u002faP\\u002frazOQCrb3Bu+ytw3uX1gno85E11HD9h0P\\u002fNf4vryPISC59pRgAFjy6GwAQFJl2b17J+SkKncTZ4tv5S+3ytw8DgC5Jfuv8kQqdJOijnh+xnC2NT18AvjACjy8CYeTLIiDnC6NAFj74Irnomb18BvOFkSF7qGHK3XkpBRqagqYy55e3bnO2+mNGGEXwIO3HERxHCC\\u002fp0kuTEUCO27cBgEmeUeXcm6kpafPVoggKAApce8y2JVNTQmBKp79ZQySwDVaiMo+RWH21TDk+0tXqrXEHrUZZGpMrspwA5SNpMkD51BJTmX1btmaIl3QyuTI1g8rtO7I0Q8rs27ykEwWMrQJDMMZCBFBHoMkZaNEQFhyVBan2JbUGacpx+7ZszRDWr3L7TkZZSyQwkhZvFZMrRZnPFAgAjIVsXTgqYUxFIVRpnn4Mk4QiWNfaLMBpaLDG3ZCVO9r00XWbXS3+WY\\u002fma8yh5YJuW2D3b7WLntpL+qkZD\\u002fa78Pmi9y7dCABBH\\u002fXuJRvSinW3zR\\u002fJ\\u002fsCEswgnzX2m6IfH9lTubhtyUdrFL\\u002fU\\u002fvqXF1eoX0I9K2dZWa52n\\u002f\\u002fSkrQurAAAn0PyJlm\\u002fu3sGkDpyd3H964ifX\\u002f+1s8ZuzlVJFaEW4tc7zysSV\\u002fcZbLn21mC1KQF8AvjACj+8CYeTLIiAHnjAKZ4kKXyQFDOYLIwAY0xXXfzx0zSfHFzy8mwxSGQP1zlY\\u002fxBFhGmhmeKmXpQQoLw20K2jN1Axq89WSdOidIaXEoJaYNYSFlTj8TRJUavXVqiRGNWHSEGZWwpYDAIy+QDlByqeUGBzuJr00OUVV6KM8rL6PdCUr832kk9GEsEqluIqx0OarJzClUmJAEDRAeQyy1DrXIUbZR3lSVAUoirP20EAxyqyEzeUMtjEFBik\\u002fY2GYO8lMgawOm2RR5HStzb2Lh5ZNGH1tJnOsS5L\\u002fq\\u002fS8yNni9IH6F3bPCJ9PTSvW\\u002fav0PL65DIiWhSU86fG1k2Y9ks\\u002fIERR5YfeMnOHGcGXgKWrg+cmc2eLxN2Tf\\u002fPUI5jh\\u002fouWhPyewWYZflv7gsvEaS\\u002fSl2\\u002f3GW57ePDVcIqwflXjCCBG+xAwjRGSJKo8njBCtqMgwgmAkBQyODCMAXPB04U1fDOcIoZMRRk7sxMseCBCp06nsDDnaYRrCkq0dmqEuiczFSBS4Llc3EkNwVsJzwJ0wiqYTeRDKxVd7VAlz0B0289HTPSwUQ7RJssZjoabXWucJnviqkspATLilT84Io0yFIwhgOIKgCN2xI8BBIItAUv0RB5OdpuiAh5SqcGF9PrYvrplyd54hVdFa7e4\\u002fPWnHzzXsBPDOX2r6jjM\\u002fuGzC\\u002fhUN678sq95n65Azgs7qC4QRTsoXvix8cuAJo0BRbF2RCESys1hyVJW7rFxpJyPMdIvCDwSI1OlUdoYy+w4Fri2zbZdgsshcbDet3L6TmeeKrCLsoP1KOCGJ1Ik8COXiqz2qhDmocx\\u002fi0zlpm\\u002fno6QYLABAEwr0jgyFbr3p7kNcR\\u002fPzmrfYGb\\u002fpA\\u002fa3fhm65AghkEUgKeNune1gE9PlwtvgOrWksmZO8+uPj\\u002fSaY37l4A5vk95Bf3bE9pVA74or0W74d+de7R1Z\\u002ffCwsK5fO6gN\\u002fGOGkfOHLwicHnjCCYBY+BCLZWRAUifrg8CQi3JNQdNAZaAEAP+nmpp3AR0bftuy005M2x9sT6yookrbWec05oRdlVUapVIkDAC5F0wfqN3xVZm\\u002fwAoApUxGeCwCoIA3Q4ZMnAlkEkqLSWX2WrT9WDZiZ3GeksfaAva3aw0mtKbX9+OTeHx7bPfHWHE5SVOLX5wsjxPIlMozAn4VPLsBJZGHgi2RUgwVoOu5MLdJxpSeIP8IivZOebrAAYPui6jHXZiYXaDQW6XkP9GUmU4M+ytniyx5mxCRoSqF2wk3c66m12k0G6f7nJREKTJsgE84ikBSVzuqzHFnfTCiw4Zenb\\u002f8p9Kl6hvyJlqyhBqWeUBmI9GJ9axXvLYihs\\u002frAE0aI5UtkGAWy8MkFOIksDHyRjGqwABu+LM8aaphwc47GIlUZpQWTEmRqHE4qwlFR6CR3zh\\u002fGlfKQUay97cuhXGknGX5xyh3fDnv4t9HchC6lU36dRk7DkHDtZ8f1qfKbvxrhdwdXfXjMmBG6CS98fM+cJwrGXp\\u002fVcMS56Km9\\u002f\\u002fy0Q\\u002fg8tsDPz++bdk\\u002fe3KcLWyrdzAIcgSwCSVER0L\\u002foxf79xltkGgmGI89smep1Bn94ZPfxra0AQJH09p+qR1+d+d39u1h9AFDoiZkP52ssUjJAV++1\\u002fu\\u002fBUOrsxwoGzEySq3FMgj67dZrXEfjpuX2H1jTx6QvAF0YQ9CVqGAWy8MkF4MsiEEbgj2RUg\\u002fnCCACNx51f3b5t6l15k27rQwXp+sP28h2twH9GOovbGnj3yi1caXfy98KaY1va\\u002fvl+CTehS+l5v06OeHvaInxMv7+vXCNZ\\u002fOw+boJIJ+lVkZx6R07x9AQySHtsga\\u002fv3+1qCwDAoPOThl+SakxTvDhxDTdDGEWTLefdl+uxB6r22ZP7qt+\\u002fbmtGsXbmA3lSBeZxBBc+vb+lyg0AkUJLtvKiZwtaqz3J\\u002fdTOFv\\u002f8h\\u002fcw9ZrSFf98v+S1We1Te5F5oxo878n82oP2gbOSlDrJ7j\\u002fq\\u002f\\u002fqozJSuuOxfRc0V7qS+KgRDvnt4b\\u002f0RZ6RfUdUKJ1nGX5+BYkjGQN3+VU1f37c76I93slzkNIMTqFSJ5ww3Pr15iolnKbZIPPTOSKpNUmZpxcz7csddlxEuf3LVePbfSAg59sz6CcY0OQBc8Hi\\u002f274cikvRexeOkKtxABgwPeGGDwcBQFShJVv56t6pzMr+6Xf3mftEP6ZMU7oifEgYNW9Ug+c9mX\\u002fr50MkMgxOfPjalK54ff+0rEE6ABh1RdrlLxcxmhy\\u002foqo98dc4lYEAgJs+Hpwz3MAq9ySnYUh4dpA9zHj124NcVv\\u002fPL+xvLuviRyHnFL0zkv3GmgbNSfK5goZUxf5Vjdxkfiw5Smudt6XKAwAHVjcl91Un5qpMmcpbvwpNZjmafAAQVQgAbbWepjIXAJSubLzomQJGyCFqXj6D9\\u002f3VyDzPJYOhWU5bg69shxUA6g45iqZYWE0OkWoYgZIBCgDIIHW6hmZig3WSHF7f9PSgZVypSOfphZE0Zyqm3ZXz7\\u002fM3+lzBKbdl40Qnnk0hgLDLTZg2AgGkrcbz5rxNHLVIIQCgJ7amCC+HQ2ReAYMjV5\\u002f43aFXoACY1THRiVT7480jd\\u002f1veFO5297kP7YlNPnYw3TiTIiInCPI1BKPPehzBXEpWjDRzE0WpPG4U58s06fIASBvlBEA6o865Bo8e4geABAE1EaCTwgAumR5Up4KAAommcujrYCFaHlPxeD4SchRrvy47PM7di58ujTaWreeQOxhiYhwqd5nqz\\u002fsuOeHEV5n8MjG9q7EFa\\u002f11yfLVQbJTZ8Mrim1\\u002f\\u002f7mkbBMIXxu8sfnD9z00SBnW+DAmiYACHipL+7aNefRflIlhiDIuq8qti6qiSoEgKYy1\\u002fjrM5P6qp2t\\u002fvkP7QGAa98q1likuiT5TR8PLt9lXf7esci8236qiWpwnMTjFwDgBDr51uyx12UQMmzd1xUb51dxNURERM4dLNnKB34exZX2DoqmWC59qZA5lsiwp9YIPXnoPsQeFgDAoJvesJbtOb7iC24CAAAkD5mZWDLlwMLXPW2hHVR6MynD5yQMmMActx7dXr7q2w7JXUFPBqQH3OlV8M8pnWZkapxdxJCSr3Y0+zum9xBig3W20bBnpbVsN6HSZ02+lpt2BnKWuXPmsvuP+vzx5jvnD6MpCAao7x8\\u002fPcvlxAbrbCPocQY9Tq+1E0\\u002fi+bAUjfO7rNayPdyEHqQL3en9NB53\\u002fXvORq60dxDwUl\\u002ffu5sr7XHEp4QivJgLRkvVRq5UROT0ITZYItEh1AaptrsekIuInBync0ioTS805g1RmNIkSi0V8Lubq+p2\\u002fOmsPw4AUo2p8LLHD\\u002f70RvqYi2W6hIa9q5v3b8yeer1Mn9h2bGflhoVwYh2IQCEAkDxkpil\\u002fZOn3L6UMm63N7I9JpD5HS1PphuYDmzrsJtURqdacN+t2igoe+e19vyP0kBjFJeljLuYrRNgMhpThc\\u002fTZxfu+e8FcMMpcOE6qNgT9npZDW2q3\\u002fjbg2hdbD2+t3vwzAGjTC3Km32ivPnj0j48AgFAbii5\\u002f8viKL61lu+Os6BRJKJ5k6DNYpksAgJTh56cMP5+R1+9cUbvtd1ZNOCAMpn4jTQWjZLoEmgy6Gsrqti9zNVWGK8h0loTiyeqUXIlcTQX8Pmdr6+GtjfvWhuvEhK8WXKrof9WztqoDx5d\\u002fHq6vy+yfPfX66k0\\u002fNe5bxwr5CmEQOHchhWGzDblD9y98JXX4HG1GEYoT7uaqmi1LXA3l8ReC4pKE4kmGnEGE2kD6Pfbqw3Xb\\u002f\\u002fDZW9gSAADF8ISBk\\u002fU5JVK1EUExVl7z968Ne1ZBHLWA4FUU86cnVRuFFdjfJpxyVCM5nQ1WwoAJuExlLd\\u002frd7YRKr2x7\\u002fCc6TceWPia32VlFDInXtV2fDdFBpMGTdek9HU3V\\u002fudrab8kbbKUlvl\\u002fjgLwWXK3Jm3IRjWfGAjTZKG3CHpYy6myWDL4ejvpsv0Cbkzbyd9riO\\u002ffxBw21l5xvjLaZriKySmGQwShSZp8AxD7mDr8d0Bj0NhTCH9HgBwN1XJjcmMjjIhi\\u002fR7lJZMAASAVhhTAMB94jTHWdGp4Kov89lbZDpL8pDzWo9ss1aUMnKvtSFcTTggAJA2+kJzwRhb5f62oztQidSYNzRvzl1Hfv\\u002fAWRfaOU+d1Cdnxo0IgrYe2+Fta0AlhDqpT\\u002fiPMB4Eagn63NaKfbrM\\u002frhMFfQ62SzGvKE0GWw9sj2eQlgdvnMXpqDOnXlb0ONs2LMKlylN\\u002fUbmzrr98C9vu5urw3R4C0FQrM95t6gSs61le5oPbpYoNIa8odq0\\u002fEO\\u002fvu1ta4982piLDX0G121f6mqsVFrSkwbP8Nmay1Z+5bM3szoCtTDEvIoEfnrMfKKAAvvb7JKocjidDdbRZZ9QgdArVADgaqrMmnSNOrVvy6G\\u002fGYmj9kjd9qXWsqT8ix4i\\u002fd6qjYswiVSfM0hhSmODErMQAACgDy5+iyaDANB8cHPRFU8a+w7nNFg0FQQAuSE5d9atfkfr0aUfB70d3mujgv5Dv77LV0h8ZgCCYtq0\\u002fAMLX6OCgXC5u6nKlD+SOVYlZrcc3mopGifXJ3ra6uTGlKDX6Xe2MalxVnQqOBvKAECVmAUAntY6pmcXiXBAVIlZ5oIxDXtW1\\u002fz9CyNp2r++8LIn0kbOPbDo\\u002fwAAQdGM8ZcDgh5c\\u002fKanNbQ8og46945OzFpaDm7WZw809BnE9tpwmVKTlm8t3xv0ueMshIHv3IXjszWVrfyaOW47vrvf3HuTBs84tuwTVkGgEHPBKFVidu3W3+p3\\u002fcVIGkvXFVz8SMbYyw798jYjwaRyY96w5oObGR1H7RGp1mLMGxLwOMILFKiFIeZVJPDTYxosAQXmt9mFUQ3ndM5hhYcMTnQiCJWelTA3FmZQ5m6pBgAy4KMCPoxo38gtZiEA0Fi6nvldAUDQ6\\u002fRaG6Ua7lwy6ffJjcm5s2\\u002f3tNUf+e19TmsFsQqJxwyG+t1\\u002fRZ4bV1MlLlNKlFoExRTmNFtlacBtVyZkAIDClOJqal9SHH9F3Y1wQPQ5JQDQfLD9fbegx+lqrJAbU3CZCgAU5nRCbWg9vIVtrU6CmLXYa474nW3Gvu3beBn6DEZQrOXgZlYSsxCWqOcunNaj7b02d1Olu7lanZyLoB1+ZXyF6LIH0hQZPhz2O1qtZbuVCZmE2sBIpBozAHjb6lkdb1s9AEIodayEga8WhphXUcyfXkyFLoxqOKezhyXVms0Fo1UJmRKlDiNkCIYDAIK0n10y4AMAmiIBgPR7GSFN0+Gr62IWAgA+W1P4vxQZiBx34DJFnxm34FJFzd9LmHo5CBcSjxkMUZ\\u002fQM1eMwpBM+r0ohrmbq12NFcqErOaDm+XGlPDeU\\u002fwVdTexAmIBgMJLH2vXOAEuVwa9TpnWDACn0lpBHLUA0C2HtyQNmq4wprhbagDAmDfU72yz1x5hNeMoJETUcxcO2xEO\\u002fetoVZhScZky4HawQr5CpGqT32Xl\\u002fHQZZZnWzDQNjDFs+wUAhFoPJxqOcPhqYYh5FcX86cVU6MKohnPaGiylJSN31m2kz9NYus7TWkf63LhMlTP9hg5K4W9YRnvbMq5CAKiAnyOJRJdV3HZshzqlb\\u002faU6w4tfivgab\\u002fCGAQKidMMBrZXEk7AbQ+47TJ9IgDttTaSPo+rscKYNwyTygmlzt1Yyah1qqLuRiAgAKEvOFVtXERToeXRLOEzgzTNTe0U8dTScmhLUsk0Q94w96af5IZkuTGlbsey8MspnkIYop47IZhfb8crV6CQyI9lhQQnrPU7Wu1VB0z9Rnjb6t1NVQpzmjFvWOuRbezwlkWglriuolg\\u002fvZgK3RTV09ZgWfqPR3Hi0C9ve1pqGYkqKaejSmy6pBAGW8W+spXfqBKycmfdlj39hiNL3ou\\u002fm9olZribqqRaM4pLnPVlAOBqKE8ZNkuVkAUArubQkLBLKoqXKBdhJ\\u002fDZm9QpuY7ao+Hjl3CYh19yfSI3oTPErAUAmP6UoU9Jzd8\\u002fG\\u002foMAqBbDnWYvoynkDghVPrwPqNUbaCCgcjphaj4bI3KhEwUJ6hg+51AprUAgDdsQr1s5Td559+ZNvpioCm\\u002fs61hz+qG3aE5rzjpmauoC6MazmkYSjAww4eAy8ZKjHntEw1x0iWFMDD3AWdDWfma75TmtIzxV564u8WmS8xwNVXKtGaFMZV5uuxurqIpSpc1wO9sC3pC\\u002fecuqShOmJ8ZodJxE+KDmc1JKpnKCSMqkTIHrsaKgMtq7Dv8VFZ7xayFoeXgZlymUifn6bKLmVmt8NQ4C4kHY95QthClOV1uTHHUHomzF9l6dDuCYpb+41gJoTbosopdTZXhIz59drFUYzzw42s7P3u4dMHLdduXxn9nZeiZq6gLoxrOaeth2asO6DL7Z02+tvXINhSXajOLMIk0zlPL0iWFcGg7tlOqMSYPmemzn1e79XducjS6xAx3U1VC\\u002fwkoIXXVlwEAFQx4Wmq06YXOuqOsTsyKUFwi1ZgxQiZRaACAUOo0qf1Ivyfoc3OmnGLiszf7bE2mfiMpkvQ7WzGJzNVY4Qib+hHGWV\\u002fWsGdVwoCJUo3RVnWA9HsJpU6VlONurq5ctwAAaIqsWLsgZ9o\\u002f8y98oPXIdq+tEZNI5YZkMuCrWPMdU0hMd2LWwmCt2Bf0uROKJ0nVxtot3DU+cRYSD3JDcu6s2xw1hzBCbsofSZHBuu1LuUo8tBzaosvsnzxkpsKY6mqswOUqY94wmiI5NqhT8oI+d9Rp1jiJeRV1CV0Y1XBOW4PVfHAzRshN+aPSx14a9LqsZbtrt\\u002f6ed\\u002f5dXD1BuqSQSOp3rpBqTIkDp\\u002fhsTS2Ht3KTI+gSM9zNVZhUHnDbfY4WRuJsqLCY08MfEcasSGnOyJ19O\\u002fuvKimnT1IOAAQ8jr3fPMPK44GmqWPLPk0ZMceYNxQjZAG33RcxsytMzd+\\u002fuhorzIVjLEXjUQwPuO2upsrWI9tYBXv1wYM\\u002fv5VYPFmbUWSUKcmA12dvtpauZxXicSdmLQDArLqyFI1lVmaFJzHEU0g8lK382lw4NmHAJASXuJsqa7YsCV+EJQxNU8f+\\u002fCxhwERj3lBtRiHp9zpqj9Ru+4Nzp2k+sFGXOaD\\u002flSH3Sb\\u002fX01JTs\\u002fW38BWqwsS8irqKropqOPGOekRERARIGTY7oXjS\\u002fgWveG2deObVWTRp+ZkTrnTUHHI1VlJkEEEQXKY05A7FZcrS71+Kc7LsjOa09bBERM5CurkDkDHuMldjednKb8KFXmtj1uRr5cZkR028A\\u002fYzl9M26S4iItIpEBSVKNSknzt7pUzIAoCg5+zvXoHYwxIROVOgKcpWUWroU0IFfa6GcpqiJAq1OrWfJiXPWr7X0xpao3B2IzZYIiJnDGUrv0kYMEGXXazPLkFxgvS7Pa31lesXthxqf9NIREREREREREREREREROSs5P8BfA07f1ZCdBkAAAAASUVORK5CYII=\",\"type\":\"image\",\"xaxis\":\"x\",\"yaxis\":\"y\",\"hovertemplate\":\"x: %{x}\\u003cbr\\u003ey: %{y}\\u003cbr\\u003ecolor: [%{z[0]}, %{z[1]}, %{z[2]}]\\u003cextra\\u003e\\u003c\\u002fextra\\u003e\"}],                        {\"template\":{\"data\":{\"histogram2dcontour\":[{\"type\":\"histogram2dcontour\",\"colorbar\":{\"outlinewidth\":0,\"ticks\":\"\"},\"colorscale\":[[0.0,\"#0d0887\"],[0.1111111111111111,\"#46039f\"],[0.2222222222222222,\"#7201a8\"],[0.3333333333333333,\"#9c179e\"],[0.4444444444444444,\"#bd3786\"],[0.5555555555555556,\"#d8576b\"],[0.6666666666666666,\"#ed7953\"],[0.7777777777777778,\"#fb9f3a\"],[0.8888888888888888,\"#fdca26\"],[1.0,\"#f0f921\"]]}],\"choropleth\":[{\"type\":\"choropleth\",\"colorbar\":{\"outlinewidth\":0,\"ticks\":\"\"}}],\"histogram2d\":[{\"type\":\"histogram2d\",\"colorbar\":{\"outlinewidth\":0,\"ticks\":\"\"},\"colorscale\":[[0.0,\"#0d0887\"],[0.1111111111111111,\"#46039f\"],[0.2222222222222222,\"#7201a8\"],[0.3333333333333333,\"#9c179e\"],[0.4444444444444444,\"#bd3786\"],[0.5555555555555556,\"#d8576b\"],[0.6666666666666666,\"#ed7953\"],[0.7777777777777778,\"#fb9f3a\"],[0.8888888888888888,\"#fdca26\"],[1.0,\"#f0f921\"]]}],\"heatmap\":[{\"type\":\"heatmap\",\"colorbar\":{\"outlinewidth\":0,\"ticks\":\"\"},\"colorscale\":[[0.0,\"#0d0887\"],[0.1111111111111111,\"#46039f\"],[0.2222222222222222,\"#7201a8\"],[0.3333333333333333,\"#9c179e\"],[0.4444444444444444,\"#bd3786\"],[0.5555555555555556,\"#d8576b\"],[0.6666666666666666,\"#ed7953\"],[0.7777777777777778,\"#fb9f3a\"],[0.8888888888888888,\"#fdca26\"],[1.0,\"#f0f921\"]]}],\"heatmapgl\":[{\"type\":\"heatmapgl\",\"colorbar\":{\"outlinewidth\":0,\"ticks\":\"\"},\"colorscale\":[[0.0,\"#0d0887\"],[0.1111111111111111,\"#46039f\"],[0.2222222222222222,\"#7201a8\"],[0.3333333333333333,\"#9c179e\"],[0.4444444444444444,\"#bd3786\"],[0.5555555555555556,\"#d8576b\"],[0.6666666666666666,\"#ed7953\"],[0.7777777777777778,\"#fb9f3a\"],[0.8888888888888888,\"#fdca26\"],[1.0,\"#f0f921\"]]}],\"contourcarpet\":[{\"type\":\"contourcarpet\",\"colorbar\":{\"outlinewidth\":0,\"ticks\":\"\"}}],\"contour\":[{\"type\":\"contour\",\"colorbar\":{\"outlinewidth\":0,\"ticks\":\"\"},\"colorscale\":[[0.0,\"#0d0887\"],[0.1111111111111111,\"#46039f\"],[0.2222222222222222,\"#7201a8\"],[0.3333333333333333,\"#9c179e\"],[0.4444444444444444,\"#bd3786\"],[0.5555555555555556,\"#d8576b\"],[0.6666666666666666,\"#ed7953\"],[0.7777777777777778,\"#fb9f3a\"],[0.8888888888888888,\"#fdca26\"],[1.0,\"#f0f921\"]]}],\"surface\":[{\"type\":\"surface\",\"colorbar\":{\"outlinewidth\":0,\"ticks\":\"\"},\"colorscale\":[[0.0,\"#0d0887\"],[0.1111111111111111,\"#46039f\"],[0.2222222222222222,\"#7201a8\"],[0.3333333333333333,\"#9c179e\"],[0.4444444444444444,\"#bd3786\"],[0.5555555555555556,\"#d8576b\"],[0.6666666666666666,\"#ed7953\"],[0.7777777777777778,\"#fb9f3a\"],[0.8888888888888888,\"#fdca26\"],[1.0,\"#f0f921\"]]}],\"mesh3d\":[{\"type\":\"mesh3d\",\"colorbar\":{\"outlinewidth\":0,\"ticks\":\"\"}}],\"scatter\":[{\"fillpattern\":{\"fillmode\":\"overlay\",\"size\":10,\"solidity\":0.2},\"type\":\"scatter\"}],\"parcoords\":[{\"type\":\"parcoords\",\"line\":{\"colorbar\":{\"outlinewidth\":0,\"ticks\":\"\"}}}],\"scatterpolargl\":[{\"type\":\"scatterpolargl\",\"marker\":{\"colorbar\":{\"outlinewidth\":0,\"ticks\":\"\"}}}],\"bar\":[{\"error_x\":{\"color\":\"#2a3f5f\"},\"error_y\":{\"color\":\"#2a3f5f\"},\"marker\":{\"line\":{\"color\":\"white\",\"width\":0.5},\"pattern\":{\"fillmode\":\"overlay\",\"size\":10,\"solidity\":0.2}},\"type\":\"bar\"}],\"scattergeo\":[{\"type\":\"scattergeo\",\"marker\":{\"colorbar\":{\"outlinewidth\":0,\"ticks\":\"\"}}}],\"scatterpolar\":[{\"type\":\"scatterpolar\",\"marker\":{\"colorbar\":{\"outlinewidth\":0,\"ticks\":\"\"}}}],\"histogram\":[{\"marker\":{\"pattern\":{\"fillmode\":\"overlay\",\"size\":10,\"solidity\":0.2}},\"type\":\"histogram\"}],\"scattergl\":[{\"type\":\"scattergl\",\"marker\":{\"colorbar\":{\"outlinewidth\":0,\"ticks\":\"\"}}}],\"scatter3d\":[{\"type\":\"scatter3d\",\"line\":{\"colorbar\":{\"outlinewidth\":0,\"ticks\":\"\"}},\"marker\":{\"colorbar\":{\"outlinewidth\":0,\"ticks\":\"\"}}}],\"scattermapbox\":[{\"type\":\"scattermapbox\",\"marker\":{\"colorbar\":{\"outlinewidth\":0,\"ticks\":\"\"}}}],\"scatterternary\":[{\"type\":\"scatterternary\",\"marker\":{\"colorbar\":{\"outlinewidth\":0,\"ticks\":\"\"}}}],\"scattercarpet\":[{\"type\":\"scattercarpet\",\"marker\":{\"colorbar\":{\"outlinewidth\":0,\"ticks\":\"\"}}}],\"carpet\":[{\"aaxis\":{\"endlinecolor\":\"#2a3f5f\",\"gridcolor\":\"#C8D4E3\",\"linecolor\":\"#C8D4E3\",\"minorgridcolor\":\"#C8D4E3\",\"startlinecolor\":\"#2a3f5f\"},\"baxis\":{\"endlinecolor\":\"#2a3f5f\",\"gridcolor\":\"#C8D4E3\",\"linecolor\":\"#C8D4E3\",\"minorgridcolor\":\"#C8D4E3\",\"startlinecolor\":\"#2a3f5f\"},\"type\":\"carpet\"}],\"table\":[{\"cells\":{\"fill\":{\"color\":\"#EBF0F8\"},\"line\":{\"color\":\"white\"}},\"header\":{\"fill\":{\"color\":\"#C8D4E3\"},\"line\":{\"color\":\"white\"}},\"type\":\"table\"}],\"barpolar\":[{\"marker\":{\"line\":{\"color\":\"white\",\"width\":0.5},\"pattern\":{\"fillmode\":\"overlay\",\"size\":10,\"solidity\":0.2}},\"type\":\"barpolar\"}],\"pie\":[{\"automargin\":true,\"type\":\"pie\"}]},\"layout\":{\"autotypenumbers\":\"strict\",\"colorway\":[\"#636efa\",\"#EF553B\",\"#00cc96\",\"#ab63fa\",\"#FFA15A\",\"#19d3f3\",\"#FF6692\",\"#B6E880\",\"#FF97FF\",\"#FECB52\"],\"font\":{\"color\":\"#2a3f5f\"},\"hovermode\":\"closest\",\"hoverlabel\":{\"align\":\"left\"},\"paper_bgcolor\":\"white\",\"plot_bgcolor\":\"white\",\"polar\":{\"bgcolor\":\"white\",\"angularaxis\":{\"gridcolor\":\"#EBF0F8\",\"linecolor\":\"#EBF0F8\",\"ticks\":\"\"},\"radialaxis\":{\"gridcolor\":\"#EBF0F8\",\"linecolor\":\"#EBF0F8\",\"ticks\":\"\"}},\"ternary\":{\"bgcolor\":\"white\",\"aaxis\":{\"gridcolor\":\"#DFE8F3\",\"linecolor\":\"#A2B1C6\",\"ticks\":\"\"},\"baxis\":{\"gridcolor\":\"#DFE8F3\",\"linecolor\":\"#A2B1C6\",\"ticks\":\"\"},\"caxis\":{\"gridcolor\":\"#DFE8F3\",\"linecolor\":\"#A2B1C6\",\"ticks\":\"\"}},\"coloraxis\":{\"colorbar\":{\"outlinewidth\":0,\"ticks\":\"\"}},\"colorscale\":{\"sequential\":[[0.0,\"#0d0887\"],[0.1111111111111111,\"#46039f\"],[0.2222222222222222,\"#7201a8\"],[0.3333333333333333,\"#9c179e\"],[0.4444444444444444,\"#bd3786\"],[0.5555555555555556,\"#d8576b\"],[0.6666666666666666,\"#ed7953\"],[0.7777777777777778,\"#fb9f3a\"],[0.8888888888888888,\"#fdca26\"],[1.0,\"#f0f921\"]],\"sequentialminus\":[[0.0,\"#0d0887\"],[0.1111111111111111,\"#46039f\"],[0.2222222222222222,\"#7201a8\"],[0.3333333333333333,\"#9c179e\"],[0.4444444444444444,\"#bd3786\"],[0.5555555555555556,\"#d8576b\"],[0.6666666666666666,\"#ed7953\"],[0.7777777777777778,\"#fb9f3a\"],[0.8888888888888888,\"#fdca26\"],[1.0,\"#f0f921\"]],\"diverging\":[[0,\"#8e0152\"],[0.1,\"#c51b7d\"],[0.2,\"#de77ae\"],[0.3,\"#f1b6da\"],[0.4,\"#fde0ef\"],[0.5,\"#f7f7f7\"],[0.6,\"#e6f5d0\"],[0.7,\"#b8e186\"],[0.8,\"#7fbc41\"],[0.9,\"#4d9221\"],[1,\"#276419\"]]},\"xaxis\":{\"gridcolor\":\"#EBF0F8\",\"linecolor\":\"#EBF0F8\",\"ticks\":\"\",\"title\":{\"standoff\":15},\"zerolinecolor\":\"#EBF0F8\",\"automargin\":true,\"zerolinewidth\":2},\"yaxis\":{\"gridcolor\":\"#EBF0F8\",\"linecolor\":\"#EBF0F8\",\"ticks\":\"\",\"title\":{\"standoff\":15},\"zerolinecolor\":\"#EBF0F8\",\"automargin\":true,\"zerolinewidth\":2},\"scene\":{\"xaxis\":{\"backgroundcolor\":\"white\",\"gridcolor\":\"#DFE8F3\",\"linecolor\":\"#EBF0F8\",\"showbackground\":true,\"ticks\":\"\",\"zerolinecolor\":\"#EBF0F8\",\"gridwidth\":2},\"yaxis\":{\"backgroundcolor\":\"white\",\"gridcolor\":\"#DFE8F3\",\"linecolor\":\"#EBF0F8\",\"showbackground\":true,\"ticks\":\"\",\"zerolinecolor\":\"#EBF0F8\",\"gridwidth\":2},\"zaxis\":{\"backgroundcolor\":\"white\",\"gridcolor\":\"#DFE8F3\",\"linecolor\":\"#EBF0F8\",\"showbackground\":true,\"ticks\":\"\",\"zerolinecolor\":\"#EBF0F8\",\"gridwidth\":2}},\"shapedefaults\":{\"line\":{\"color\":\"#2a3f5f\"}},\"annotationdefaults\":{\"arrowcolor\":\"#2a3f5f\",\"arrowhead\":0,\"arrowwidth\":1},\"geo\":{\"bgcolor\":\"white\",\"landcolor\":\"white\",\"subunitcolor\":\"#C8D4E3\",\"showland\":true,\"showlakes\":true,\"lakecolor\":\"white\"},\"title\":{\"x\":0.05},\"mapbox\":{\"style\":\"light\"}}},\"xaxis\":{\"anchor\":\"y\",\"domain\":[0.0,1.0]},\"yaxis\":{\"anchor\":\"x\",\"domain\":[0.0,1.0]},\"title\":{\"text\":\"Hashtags Word Cloud\"}},                        {\"responsive\": true}                    ).then(function(){\n",
              "                            \n",
              "var gd = document.getElementById('1ea70a39-a1bf-4c42-8cf8-f49752c85743');\n",
              "var x = new MutationObserver(function (mutations, observer) {{\n",
              "        var display = window.getComputedStyle(gd).display;\n",
              "        if (!display || display === 'none') {{\n",
              "            console.log([gd, 'removed!']);\n",
              "            Plotly.purge(gd);\n",
              "            observer.disconnect();\n",
              "        }}\n",
              "}});\n",
              "\n",
              "// Listen for the removal of the full notebook cells\n",
              "var notebookContainer = gd.closest('#notebook-container');\n",
              "if (notebookContainer) {{\n",
              "    x.observe(notebookContainer, {childList: true});\n",
              "}}\n",
              "\n",
              "// Listen for the clearing of the current output cell\n",
              "var outputEl = gd.closest('.output');\n",
              "if (outputEl) {{\n",
              "    x.observe(outputEl, {childList: true});\n",
              "}}\n",
              "\n",
              "                        })                };                            </script>        </div>\n",
              "</body>\n",
              "</html>"
            ]
          },
          "metadata": {}
        }
      ]
    },
    {
      "cell_type": "code",
      "source": [
        "numeric_data = data.select_dtypes(include=['number'])\n",
        "\n",
        "# Calculate correlation matrix\n",
        "corr_matrix = numeric_data.corr()\n",
        "\n",
        "# Create heatmap figure\n",
        "fig = go.Figure(data=go.Heatmap(z=corr_matrix.values,\n",
        "                                 x=corr_matrix.columns,\n",
        "                                 y=corr_matrix.index,\n",
        "                                 colorscale='RdBu',\n",
        "                                 zmin=-1,\n",
        "                                 zmax=1))\n",
        "\n",
        "# Update layout\n",
        "fig.update_layout(title='Correlation Matrix',\n",
        "                  xaxis_title='Features',\n",
        "                  yaxis_title='Features')\n",
        "\n",
        "# Show the plot\n",
        "fig.show()\n"
      ],
      "metadata": {
        "colab": {
          "base_uri": "https://localhost:8080/",
          "height": 542
        },
        "id": "n40lAGNszWcR",
        "outputId": "521d3ac1-d7ac-4f56-d690-149083b60edf"
      },
      "execution_count": 21,
      "outputs": [
        {
          "output_type": "display_data",
          "data": {
            "text/html": [
              "<html>\n",
              "<head><meta charset=\"utf-8\" /></head>\n",
              "<body>\n",
              "    <div>            <script src=\"https://cdnjs.cloudflare.com/ajax/libs/mathjax/2.7.5/MathJax.js?config=TeX-AMS-MML_SVG\"></script><script type=\"text/javascript\">if (window.MathJax && window.MathJax.Hub && window.MathJax.Hub.Config) {window.MathJax.Hub.Config({SVG: {font: \"STIX-Web\"}});}</script>                <script type=\"text/javascript\">window.PlotlyConfig = {MathJaxConfig: 'local'};</script>\n",
              "        <script charset=\"utf-8\" src=\"https://cdn.plot.ly/plotly-2.24.1.min.js\"></script>                <div id=\"512a98e0-954b-42e7-b961-8321bd8fa5aa\" class=\"plotly-graph-div\" style=\"height:525px; width:100%;\"></div>            <script type=\"text/javascript\">                                    window.PLOTLYENV=window.PLOTLYENV || {};                                    if (document.getElementById(\"512a98e0-954b-42e7-b961-8321bd8fa5aa\")) {                    Plotly.newPlot(                        \"512a98e0-954b-42e7-b961-8321bd8fa5aa\",                        [{\"colorscale\":[[0.0,\"rgb(103,0,31)\"],[0.1,\"rgb(178,24,43)\"],[0.2,\"rgb(214,96,77)\"],[0.3,\"rgb(244,165,130)\"],[0.4,\"rgb(253,219,199)\"],[0.5,\"rgb(247,247,247)\"],[0.6,\"rgb(209,229,240)\"],[0.7,\"rgb(146,197,222)\"],[0.8,\"rgb(67,147,195)\"],[0.9,\"rgb(33,102,172)\"],[1.0,\"rgb(5,48,97)\"]],\"x\":[\"Impressions\",\"From Home\",\"From Hashtags\",\"From Explore\",\"From Other\",\"Saves\",\"Comments\",\"Shares\",\"Likes\",\"Profile Visits\",\"Follows\"],\"y\":[\"Impressions\",\"From Home\",\"From Hashtags\",\"From Explore\",\"From Other\",\"Saves\",\"Comments\",\"Shares\",\"Likes\",\"Profile Visits\",\"Follows\"],\"z\":[[1.0,0.8446984764644079,0.5607600444158378,0.8936074202433567,0.5929604758091378,0.7792314114268593,-0.028523933548663824,0.6346751252181763,0.8498353377178177,0.7609809286546657,0.8893634430344086],[0.8446984764644079,1.0,0.1775156543309878,0.800573110578866,0.5556659551465412,0.768817005684724,0.012716248342545502,0.6749850448685393,0.698329637893805,0.531076205366268,0.6726750588858736],[0.5607600444158378,0.1775156543309878,1.0,0.1904532189703739,0.2296233181732429,0.30592870314657494,0.1614388259073108,0.21951145515685286,0.6621242000877943,0.6913449048454711,0.5554854735531087],[0.8936074202433567,0.800573110578866,0.1904532189703739,1.0,0.49568473618614567,0.7478028035868068,-0.15856537914498336,0.6157309658741993,0.653699336224973,0.5318502558055156,0.7960189422044351],[0.5929604758091378,0.5556659551465412,0.2296233181732429,0.49568473618614567,1.0,0.3319068864386735,-0.1087029734222875,0.15683375635736396,0.3935104122090607,0.6330799446255249,0.5467370225356449],[0.7792314114268593,0.768817005684724,0.30592870314657494,0.7478028035868068,0.3319068864386735,1.0,-0.026912263707560984,0.860324185158795,0.8456432932068351,0.36062821319868793,0.6284608823148304],[-0.028523933548663824,0.012716248342545502,0.1614388259073108,-0.15856537914498336,-0.1087029734222875,-0.026912263707560984,1.0,0.016932532855360494,0.1235861027264814,0.09671424134518669,-0.060630774375331827],[0.6346751252181763,0.6749850448685393,0.21951145515685286,0.6157309658741993,0.15683375635736396,0.860324185158795,0.016932532855360494,1.0,0.707794002688105,0.24536082330737743,0.4930698051158401],[0.8498353377178177,0.698329637893805,0.6621242000877943,0.653699336224973,0.3935104122090607,0.8456432932068351,0.1235861027264814,0.707794002688105,1.0,0.6261070345218044,0.746333165592919],[0.7609809286546657,0.531076205366268,0.6913449048454711,0.5318502558055156,0.6330799446255249,0.36062821319868793,0.09671424134518669,0.24536082330737743,0.6261070345218044,1.0,0.8531517459145104],[0.8893634430344086,0.6726750588858736,0.5554854735531087,0.7960189422044351,0.5467370225356449,0.6284608823148304,-0.060630774375331827,0.4930698051158401,0.746333165592919,0.8531517459145104,1.0]],\"zmax\":1,\"zmin\":-1,\"type\":\"heatmap\"}],                        {\"template\":{\"data\":{\"histogram2dcontour\":[{\"type\":\"histogram2dcontour\",\"colorbar\":{\"outlinewidth\":0,\"ticks\":\"\"},\"colorscale\":[[0.0,\"#0d0887\"],[0.1111111111111111,\"#46039f\"],[0.2222222222222222,\"#7201a8\"],[0.3333333333333333,\"#9c179e\"],[0.4444444444444444,\"#bd3786\"],[0.5555555555555556,\"#d8576b\"],[0.6666666666666666,\"#ed7953\"],[0.7777777777777778,\"#fb9f3a\"],[0.8888888888888888,\"#fdca26\"],[1.0,\"#f0f921\"]]}],\"choropleth\":[{\"type\":\"choropleth\",\"colorbar\":{\"outlinewidth\":0,\"ticks\":\"\"}}],\"histogram2d\":[{\"type\":\"histogram2d\",\"colorbar\":{\"outlinewidth\":0,\"ticks\":\"\"},\"colorscale\":[[0.0,\"#0d0887\"],[0.1111111111111111,\"#46039f\"],[0.2222222222222222,\"#7201a8\"],[0.3333333333333333,\"#9c179e\"],[0.4444444444444444,\"#bd3786\"],[0.5555555555555556,\"#d8576b\"],[0.6666666666666666,\"#ed7953\"],[0.7777777777777778,\"#fb9f3a\"],[0.8888888888888888,\"#fdca26\"],[1.0,\"#f0f921\"]]}],\"heatmap\":[{\"type\":\"heatmap\",\"colorbar\":{\"outlinewidth\":0,\"ticks\":\"\"},\"colorscale\":[[0.0,\"#0d0887\"],[0.1111111111111111,\"#46039f\"],[0.2222222222222222,\"#7201a8\"],[0.3333333333333333,\"#9c179e\"],[0.4444444444444444,\"#bd3786\"],[0.5555555555555556,\"#d8576b\"],[0.6666666666666666,\"#ed7953\"],[0.7777777777777778,\"#fb9f3a\"],[0.8888888888888888,\"#fdca26\"],[1.0,\"#f0f921\"]]}],\"heatmapgl\":[{\"type\":\"heatmapgl\",\"colorbar\":{\"outlinewidth\":0,\"ticks\":\"\"},\"colorscale\":[[0.0,\"#0d0887\"],[0.1111111111111111,\"#46039f\"],[0.2222222222222222,\"#7201a8\"],[0.3333333333333333,\"#9c179e\"],[0.4444444444444444,\"#bd3786\"],[0.5555555555555556,\"#d8576b\"],[0.6666666666666666,\"#ed7953\"],[0.7777777777777778,\"#fb9f3a\"],[0.8888888888888888,\"#fdca26\"],[1.0,\"#f0f921\"]]}],\"contourcarpet\":[{\"type\":\"contourcarpet\",\"colorbar\":{\"outlinewidth\":0,\"ticks\":\"\"}}],\"contour\":[{\"type\":\"contour\",\"colorbar\":{\"outlinewidth\":0,\"ticks\":\"\"},\"colorscale\":[[0.0,\"#0d0887\"],[0.1111111111111111,\"#46039f\"],[0.2222222222222222,\"#7201a8\"],[0.3333333333333333,\"#9c179e\"],[0.4444444444444444,\"#bd3786\"],[0.5555555555555556,\"#d8576b\"],[0.6666666666666666,\"#ed7953\"],[0.7777777777777778,\"#fb9f3a\"],[0.8888888888888888,\"#fdca26\"],[1.0,\"#f0f921\"]]}],\"surface\":[{\"type\":\"surface\",\"colorbar\":{\"outlinewidth\":0,\"ticks\":\"\"},\"colorscale\":[[0.0,\"#0d0887\"],[0.1111111111111111,\"#46039f\"],[0.2222222222222222,\"#7201a8\"],[0.3333333333333333,\"#9c179e\"],[0.4444444444444444,\"#bd3786\"],[0.5555555555555556,\"#d8576b\"],[0.6666666666666666,\"#ed7953\"],[0.7777777777777778,\"#fb9f3a\"],[0.8888888888888888,\"#fdca26\"],[1.0,\"#f0f921\"]]}],\"mesh3d\":[{\"type\":\"mesh3d\",\"colorbar\":{\"outlinewidth\":0,\"ticks\":\"\"}}],\"scatter\":[{\"fillpattern\":{\"fillmode\":\"overlay\",\"size\":10,\"solidity\":0.2},\"type\":\"scatter\"}],\"parcoords\":[{\"type\":\"parcoords\",\"line\":{\"colorbar\":{\"outlinewidth\":0,\"ticks\":\"\"}}}],\"scatterpolargl\":[{\"type\":\"scatterpolargl\",\"marker\":{\"colorbar\":{\"outlinewidth\":0,\"ticks\":\"\"}}}],\"bar\":[{\"error_x\":{\"color\":\"#2a3f5f\"},\"error_y\":{\"color\":\"#2a3f5f\"},\"marker\":{\"line\":{\"color\":\"white\",\"width\":0.5},\"pattern\":{\"fillmode\":\"overlay\",\"size\":10,\"solidity\":0.2}},\"type\":\"bar\"}],\"scattergeo\":[{\"type\":\"scattergeo\",\"marker\":{\"colorbar\":{\"outlinewidth\":0,\"ticks\":\"\"}}}],\"scatterpolar\":[{\"type\":\"scatterpolar\",\"marker\":{\"colorbar\":{\"outlinewidth\":0,\"ticks\":\"\"}}}],\"histogram\":[{\"marker\":{\"pattern\":{\"fillmode\":\"overlay\",\"size\":10,\"solidity\":0.2}},\"type\":\"histogram\"}],\"scattergl\":[{\"type\":\"scattergl\",\"marker\":{\"colorbar\":{\"outlinewidth\":0,\"ticks\":\"\"}}}],\"scatter3d\":[{\"type\":\"scatter3d\",\"line\":{\"colorbar\":{\"outlinewidth\":0,\"ticks\":\"\"}},\"marker\":{\"colorbar\":{\"outlinewidth\":0,\"ticks\":\"\"}}}],\"scattermapbox\":[{\"type\":\"scattermapbox\",\"marker\":{\"colorbar\":{\"outlinewidth\":0,\"ticks\":\"\"}}}],\"scatterternary\":[{\"type\":\"scatterternary\",\"marker\":{\"colorbar\":{\"outlinewidth\":0,\"ticks\":\"\"}}}],\"scattercarpet\":[{\"type\":\"scattercarpet\",\"marker\":{\"colorbar\":{\"outlinewidth\":0,\"ticks\":\"\"}}}],\"carpet\":[{\"aaxis\":{\"endlinecolor\":\"#2a3f5f\",\"gridcolor\":\"#C8D4E3\",\"linecolor\":\"#C8D4E3\",\"minorgridcolor\":\"#C8D4E3\",\"startlinecolor\":\"#2a3f5f\"},\"baxis\":{\"endlinecolor\":\"#2a3f5f\",\"gridcolor\":\"#C8D4E3\",\"linecolor\":\"#C8D4E3\",\"minorgridcolor\":\"#C8D4E3\",\"startlinecolor\":\"#2a3f5f\"},\"type\":\"carpet\"}],\"table\":[{\"cells\":{\"fill\":{\"color\":\"#EBF0F8\"},\"line\":{\"color\":\"white\"}},\"header\":{\"fill\":{\"color\":\"#C8D4E3\"},\"line\":{\"color\":\"white\"}},\"type\":\"table\"}],\"barpolar\":[{\"marker\":{\"line\":{\"color\":\"white\",\"width\":0.5},\"pattern\":{\"fillmode\":\"overlay\",\"size\":10,\"solidity\":0.2}},\"type\":\"barpolar\"}],\"pie\":[{\"automargin\":true,\"type\":\"pie\"}]},\"layout\":{\"autotypenumbers\":\"strict\",\"colorway\":[\"#636efa\",\"#EF553B\",\"#00cc96\",\"#ab63fa\",\"#FFA15A\",\"#19d3f3\",\"#FF6692\",\"#B6E880\",\"#FF97FF\",\"#FECB52\"],\"font\":{\"color\":\"#2a3f5f\"},\"hovermode\":\"closest\",\"hoverlabel\":{\"align\":\"left\"},\"paper_bgcolor\":\"white\",\"plot_bgcolor\":\"white\",\"polar\":{\"bgcolor\":\"white\",\"angularaxis\":{\"gridcolor\":\"#EBF0F8\",\"linecolor\":\"#EBF0F8\",\"ticks\":\"\"},\"radialaxis\":{\"gridcolor\":\"#EBF0F8\",\"linecolor\":\"#EBF0F8\",\"ticks\":\"\"}},\"ternary\":{\"bgcolor\":\"white\",\"aaxis\":{\"gridcolor\":\"#DFE8F3\",\"linecolor\":\"#A2B1C6\",\"ticks\":\"\"},\"baxis\":{\"gridcolor\":\"#DFE8F3\",\"linecolor\":\"#A2B1C6\",\"ticks\":\"\"},\"caxis\":{\"gridcolor\":\"#DFE8F3\",\"linecolor\":\"#A2B1C6\",\"ticks\":\"\"}},\"coloraxis\":{\"colorbar\":{\"outlinewidth\":0,\"ticks\":\"\"}},\"colorscale\":{\"sequential\":[[0.0,\"#0d0887\"],[0.1111111111111111,\"#46039f\"],[0.2222222222222222,\"#7201a8\"],[0.3333333333333333,\"#9c179e\"],[0.4444444444444444,\"#bd3786\"],[0.5555555555555556,\"#d8576b\"],[0.6666666666666666,\"#ed7953\"],[0.7777777777777778,\"#fb9f3a\"],[0.8888888888888888,\"#fdca26\"],[1.0,\"#f0f921\"]],\"sequentialminus\":[[0.0,\"#0d0887\"],[0.1111111111111111,\"#46039f\"],[0.2222222222222222,\"#7201a8\"],[0.3333333333333333,\"#9c179e\"],[0.4444444444444444,\"#bd3786\"],[0.5555555555555556,\"#d8576b\"],[0.6666666666666666,\"#ed7953\"],[0.7777777777777778,\"#fb9f3a\"],[0.8888888888888888,\"#fdca26\"],[1.0,\"#f0f921\"]],\"diverging\":[[0,\"#8e0152\"],[0.1,\"#c51b7d\"],[0.2,\"#de77ae\"],[0.3,\"#f1b6da\"],[0.4,\"#fde0ef\"],[0.5,\"#f7f7f7\"],[0.6,\"#e6f5d0\"],[0.7,\"#b8e186\"],[0.8,\"#7fbc41\"],[0.9,\"#4d9221\"],[1,\"#276419\"]]},\"xaxis\":{\"gridcolor\":\"#EBF0F8\",\"linecolor\":\"#EBF0F8\",\"ticks\":\"\",\"title\":{\"standoff\":15},\"zerolinecolor\":\"#EBF0F8\",\"automargin\":true,\"zerolinewidth\":2},\"yaxis\":{\"gridcolor\":\"#EBF0F8\",\"linecolor\":\"#EBF0F8\",\"ticks\":\"\",\"title\":{\"standoff\":15},\"zerolinecolor\":\"#EBF0F8\",\"automargin\":true,\"zerolinewidth\":2},\"scene\":{\"xaxis\":{\"backgroundcolor\":\"white\",\"gridcolor\":\"#DFE8F3\",\"linecolor\":\"#EBF0F8\",\"showbackground\":true,\"ticks\":\"\",\"zerolinecolor\":\"#EBF0F8\",\"gridwidth\":2},\"yaxis\":{\"backgroundcolor\":\"white\",\"gridcolor\":\"#DFE8F3\",\"linecolor\":\"#EBF0F8\",\"showbackground\":true,\"ticks\":\"\",\"zerolinecolor\":\"#EBF0F8\",\"gridwidth\":2},\"zaxis\":{\"backgroundcolor\":\"white\",\"gridcolor\":\"#DFE8F3\",\"linecolor\":\"#EBF0F8\",\"showbackground\":true,\"ticks\":\"\",\"zerolinecolor\":\"#EBF0F8\",\"gridwidth\":2}},\"shapedefaults\":{\"line\":{\"color\":\"#2a3f5f\"}},\"annotationdefaults\":{\"arrowcolor\":\"#2a3f5f\",\"arrowhead\":0,\"arrowwidth\":1},\"geo\":{\"bgcolor\":\"white\",\"landcolor\":\"white\",\"subunitcolor\":\"#C8D4E3\",\"showland\":true,\"showlakes\":true,\"lakecolor\":\"white\"},\"title\":{\"x\":0.05},\"mapbox\":{\"style\":\"light\"}}},\"title\":{\"text\":\"Correlation Matrix\"},\"xaxis\":{\"title\":{\"text\":\"Features\"}},\"yaxis\":{\"title\":{\"text\":\"Features\"}}},                        {\"responsive\": true}                    ).then(function(){\n",
              "                            \n",
              "var gd = document.getElementById('512a98e0-954b-42e7-b961-8321bd8fa5aa');\n",
              "var x = new MutationObserver(function (mutations, observer) {{\n",
              "        var display = window.getComputedStyle(gd).display;\n",
              "        if (!display || display === 'none') {{\n",
              "            console.log([gd, 'removed!']);\n",
              "            Plotly.purge(gd);\n",
              "            observer.disconnect();\n",
              "        }}\n",
              "}});\n",
              "\n",
              "// Listen for the removal of the full notebook cells\n",
              "var notebookContainer = gd.closest('#notebook-container');\n",
              "if (notebookContainer) {{\n",
              "    x.observe(notebookContainer, {childList: true});\n",
              "}}\n",
              "\n",
              "// Listen for the clearing of the current output cell\n",
              "var outputEl = gd.closest('.output');\n",
              "if (outputEl) {{\n",
              "    x.observe(outputEl, {childList: true});\n",
              "}}\n",
              "\n",
              "                        })                };                            </script>        </div>\n",
              "</body>\n",
              "</html>"
            ]
          },
          "metadata": {}
        }
      ]
    },
    {
      "cell_type": "code",
      "source": [
        "# Create a list to store all hashtags\n",
        "all_hashtags = []\n",
        "\n",
        "# Iterate through each row in the 'Hashtags' column\n",
        "for row in data['Hashtags']:\n",
        "    hashtags = str(row).split()\n",
        "    hashtags = [tag.strip() for tag in hashtags]\n",
        "    all_hashtags.extend(hashtags)\n",
        "\n",
        "# Create a pandas DataFrame to store the hashtag distribution\n",
        "hashtag_distribution = pd.Series(all_hashtags).value_counts().reset_index()\n",
        "hashtag_distribution.columns = ['Hashtag', 'Count']\n",
        "\n",
        "fig = px.bar(hashtag_distribution, x='Hashtag',\n",
        "             y='Count', title='Distribution of Hashtags')\n",
        "fig.show()"
      ],
      "metadata": {
        "colab": {
          "base_uri": "https://localhost:8080/",
          "height": 542
        },
        "id": "gFh2YNY1zaDa",
        "outputId": "159af6bd-cbda-478b-a80f-6c1b925bf2d9"
      },
      "execution_count": 19,
      "outputs": [
        {
          "output_type": "display_data",
          "data": {
            "text/html": [
              "<html>\n",
              "<head><meta charset=\"utf-8\" /></head>\n",
              "<body>\n",
              "    <div>            <script src=\"https://cdnjs.cloudflare.com/ajax/libs/mathjax/2.7.5/MathJax.js?config=TeX-AMS-MML_SVG\"></script><script type=\"text/javascript\">if (window.MathJax && window.MathJax.Hub && window.MathJax.Hub.Config) {window.MathJax.Hub.Config({SVG: {font: \"STIX-Web\"}});}</script>                <script type=\"text/javascript\">window.PlotlyConfig = {MathJaxConfig: 'local'};</script>\n",
              "        <script charset=\"utf-8\" src=\"https://cdn.plot.ly/plotly-2.24.1.min.js\"></script>                <div id=\"ea281a6d-2fc3-4485-b269-831daa0f4744\" class=\"plotly-graph-div\" style=\"height:525px; width:100%;\"></div>            <script type=\"text/javascript\">                                    window.PLOTLYENV=window.PLOTLYENV || {};                                    if (document.getElementById(\"ea281a6d-2fc3-4485-b269-831daa0f4744\")) {                    Plotly.newPlot(                        \"ea281a6d-2fc3-4485-b269-831daa0f4744\",                        [{\"alignmentgroup\":\"True\",\"hovertemplate\":\"Hashtag=%{x}\\u003cbr\\u003eCount=%{y}\\u003cextra\\u003e\\u003c\\u002fextra\\u003e\",\"legendgroup\":\"\",\"marker\":{\"color\":\"#636efa\",\"pattern\":{\"shape\":\"\"}},\"name\":\"\",\"offsetgroup\":\"\",\"orientation\":\"v\",\"showlegend\":false,\"textposition\":\"auto\",\"x\":[\"#thecleverprogrammer\",\"#amankharwal\",\"#python\",\"#machinelearning\",\"#pythonprogramming\",\"#datascience\",\"#ai\",\"#pythonprojects\",\"#artificialintelligence\",\"#data\",\"#dataanalytics\",\"#datascientist\",\"#pythoncode\",\"#dataanalysis\",\"#deeplearning\",\"#datascienceprojects\",\"#machinelearningprojects\",\"#programming\",\"#technology\",\"#coding\",\"#tech\",\"#computerscience\",\"#bigdata\",\"#pythonlearning\",\"#pythoncoding\",\"#pythondeveloper\",\"#datavisualization\",\"#pythonprogrammer\",\"#analytics\",\"#business\",\"#statistics\",\"#machinelearningalgorithms\",\"#dataanalyst\",\"#webdevelopment\",\"#algorithm\",\"#software\",\"#naturallanguageprocessing\",\"#algorithms\",\"#nlp\",\"#neuralnetwork\",\"#ml\",\"#database\",\"#javascript\",\"#code\",\"#coder\",\"#programmer\",\"#java\",\"#softwaredeveloper\",\"#codinglife\",\"#sentimentanalysis\",\"#sentiment\",\"#webdeveloper\",\"#css\",\"#html\",\"#machinelearningmodels\",\"#developer\",\"#timeseriesanalysis\",\"#iot\",\"#analysis\",\"#timeseriesmalaysia\",\"#businessintelligence\",\"#datasciencejobs\",\"#datasciencetraining\",\"#datascienceeducation\",\"#datasciencecourse\",\"#datamining\",\"#time\",\"#timeseries\",\"#php\",\"#programminglife\",\"#hacking\",\"#programmingmemes\",\"#programmers\",\"#neuralnetworks\",\"#webdesign\",\"#dataviz\",\"#linux\",\"#casestudy\",\"#businessmodel\",\"#zomato\",\"#money\",\"#interview\",\"#finance\",\"#powerbi\",\"#tensorflow\",\"#job\",\"#artificialintelligenceai\",\"#investing\",\"#trading\",\"#stockmarket\",\"#healthcare\",\"#health\",\"#covid\",\"#investment\",\"#cryptocurrency\",\"#bitcoin\",\"#dataanalysisprojects\",\"#businessanalytics\",\"#python3\",\"#roadmap\",\"#codinginterview\",\"#pythonprogramminglanguage\",\"#otp\",\"#innovation\",\"#recommendationsystem\",\"#recommendations\",\"#recommended\",\"#otpverification\",\"#projects\",\"#casestudies\",\"#amazonfinds\",\"#security\",\"#cybersecurity\",\"#network\",\"#internet\",\"#cloud\",\"#recommendation\",\"#careergoals\",\"#jobsearch\",\"#work\",\"#tableau\",\"#stocks\",\"#forex\",\"#candlestick\",\"#candlestickcharts\",\"#career\",\"#jobs\",\"#stressdetection\",\"#education\",\"#success\",\"#motivation\",\"#clustering\",\"#careerdevelopment\",\"#careeradvice\",\"#digitalmarketing\",\"#media\",\"#socialmedia\",\"#IT\",\"#marketing\",\"#students\",\"#resume\",\"#goals\",\"#careers\",\"#stress\",\"#sql\",\"#pythonbooks\",\"#mysql\",\"#softskills\",\"#instagramreach\",\"#instagram\",\"#ukraine\",\"#pythonprogram\",\"#whatsapp\",\"@codergallery\",\"#google\",\"#news\",\"#flipkart\",\"#bookstagram\",\"#alexnet\",\"#bigdataanalytics\",\"#qrcodes\",\"#datascienceinterview\",\"#facebook\",\"#boxplots\"],\"xaxis\":\"x\",\"y\":[117,117,109,97,95,94,91,90,89,88,87,83,78,77,75,43,43,26,25,24,23,21,20,19,19,19,19,19,16,16,14,13,12,10,9,9,9,9,9,8,8,7,7,7,7,7,7,7,7,7,7,7,7,7,7,7,6,6,6,6,6,6,6,6,6,6,6,6,5,5,5,5,5,5,5,5,5,4,4,4,4,4,4,4,4,4,4,4,3,3,3,3,3,3,3,3,3,3,2,2,2,2,2,2,2,2,2,2,2,2,2,2,2,2,2,2,2,2,2,2,2,2,2,2,2,2,2,2,2,2,2,2,2,2,2,2,2,2,2,2,2,2,2,2,1,1,1,1,1,1,1,1,1,1,1,1,1,1,1,1,1,1,1,1],\"yaxis\":\"y\",\"type\":\"bar\"}],                        {\"template\":{\"data\":{\"histogram2dcontour\":[{\"type\":\"histogram2dcontour\",\"colorbar\":{\"outlinewidth\":0,\"ticks\":\"\"},\"colorscale\":[[0.0,\"#0d0887\"],[0.1111111111111111,\"#46039f\"],[0.2222222222222222,\"#7201a8\"],[0.3333333333333333,\"#9c179e\"],[0.4444444444444444,\"#bd3786\"],[0.5555555555555556,\"#d8576b\"],[0.6666666666666666,\"#ed7953\"],[0.7777777777777778,\"#fb9f3a\"],[0.8888888888888888,\"#fdca26\"],[1.0,\"#f0f921\"]]}],\"choropleth\":[{\"type\":\"choropleth\",\"colorbar\":{\"outlinewidth\":0,\"ticks\":\"\"}}],\"histogram2d\":[{\"type\":\"histogram2d\",\"colorbar\":{\"outlinewidth\":0,\"ticks\":\"\"},\"colorscale\":[[0.0,\"#0d0887\"],[0.1111111111111111,\"#46039f\"],[0.2222222222222222,\"#7201a8\"],[0.3333333333333333,\"#9c179e\"],[0.4444444444444444,\"#bd3786\"],[0.5555555555555556,\"#d8576b\"],[0.6666666666666666,\"#ed7953\"],[0.7777777777777778,\"#fb9f3a\"],[0.8888888888888888,\"#fdca26\"],[1.0,\"#f0f921\"]]}],\"heatmap\":[{\"type\":\"heatmap\",\"colorbar\":{\"outlinewidth\":0,\"ticks\":\"\"},\"colorscale\":[[0.0,\"#0d0887\"],[0.1111111111111111,\"#46039f\"],[0.2222222222222222,\"#7201a8\"],[0.3333333333333333,\"#9c179e\"],[0.4444444444444444,\"#bd3786\"],[0.5555555555555556,\"#d8576b\"],[0.6666666666666666,\"#ed7953\"],[0.7777777777777778,\"#fb9f3a\"],[0.8888888888888888,\"#fdca26\"],[1.0,\"#f0f921\"]]}],\"heatmapgl\":[{\"type\":\"heatmapgl\",\"colorbar\":{\"outlinewidth\":0,\"ticks\":\"\"},\"colorscale\":[[0.0,\"#0d0887\"],[0.1111111111111111,\"#46039f\"],[0.2222222222222222,\"#7201a8\"],[0.3333333333333333,\"#9c179e\"],[0.4444444444444444,\"#bd3786\"],[0.5555555555555556,\"#d8576b\"],[0.6666666666666666,\"#ed7953\"],[0.7777777777777778,\"#fb9f3a\"],[0.8888888888888888,\"#fdca26\"],[1.0,\"#f0f921\"]]}],\"contourcarpet\":[{\"type\":\"contourcarpet\",\"colorbar\":{\"outlinewidth\":0,\"ticks\":\"\"}}],\"contour\":[{\"type\":\"contour\",\"colorbar\":{\"outlinewidth\":0,\"ticks\":\"\"},\"colorscale\":[[0.0,\"#0d0887\"],[0.1111111111111111,\"#46039f\"],[0.2222222222222222,\"#7201a8\"],[0.3333333333333333,\"#9c179e\"],[0.4444444444444444,\"#bd3786\"],[0.5555555555555556,\"#d8576b\"],[0.6666666666666666,\"#ed7953\"],[0.7777777777777778,\"#fb9f3a\"],[0.8888888888888888,\"#fdca26\"],[1.0,\"#f0f921\"]]}],\"surface\":[{\"type\":\"surface\",\"colorbar\":{\"outlinewidth\":0,\"ticks\":\"\"},\"colorscale\":[[0.0,\"#0d0887\"],[0.1111111111111111,\"#46039f\"],[0.2222222222222222,\"#7201a8\"],[0.3333333333333333,\"#9c179e\"],[0.4444444444444444,\"#bd3786\"],[0.5555555555555556,\"#d8576b\"],[0.6666666666666666,\"#ed7953\"],[0.7777777777777778,\"#fb9f3a\"],[0.8888888888888888,\"#fdca26\"],[1.0,\"#f0f921\"]]}],\"mesh3d\":[{\"type\":\"mesh3d\",\"colorbar\":{\"outlinewidth\":0,\"ticks\":\"\"}}],\"scatter\":[{\"fillpattern\":{\"fillmode\":\"overlay\",\"size\":10,\"solidity\":0.2},\"type\":\"scatter\"}],\"parcoords\":[{\"type\":\"parcoords\",\"line\":{\"colorbar\":{\"outlinewidth\":0,\"ticks\":\"\"}}}],\"scatterpolargl\":[{\"type\":\"scatterpolargl\",\"marker\":{\"colorbar\":{\"outlinewidth\":0,\"ticks\":\"\"}}}],\"bar\":[{\"error_x\":{\"color\":\"#2a3f5f\"},\"error_y\":{\"color\":\"#2a3f5f\"},\"marker\":{\"line\":{\"color\":\"white\",\"width\":0.5},\"pattern\":{\"fillmode\":\"overlay\",\"size\":10,\"solidity\":0.2}},\"type\":\"bar\"}],\"scattergeo\":[{\"type\":\"scattergeo\",\"marker\":{\"colorbar\":{\"outlinewidth\":0,\"ticks\":\"\"}}}],\"scatterpolar\":[{\"type\":\"scatterpolar\",\"marker\":{\"colorbar\":{\"outlinewidth\":0,\"ticks\":\"\"}}}],\"histogram\":[{\"marker\":{\"pattern\":{\"fillmode\":\"overlay\",\"size\":10,\"solidity\":0.2}},\"type\":\"histogram\"}],\"scattergl\":[{\"type\":\"scattergl\",\"marker\":{\"colorbar\":{\"outlinewidth\":0,\"ticks\":\"\"}}}],\"scatter3d\":[{\"type\":\"scatter3d\",\"line\":{\"colorbar\":{\"outlinewidth\":0,\"ticks\":\"\"}},\"marker\":{\"colorbar\":{\"outlinewidth\":0,\"ticks\":\"\"}}}],\"scattermapbox\":[{\"type\":\"scattermapbox\",\"marker\":{\"colorbar\":{\"outlinewidth\":0,\"ticks\":\"\"}}}],\"scatterternary\":[{\"type\":\"scatterternary\",\"marker\":{\"colorbar\":{\"outlinewidth\":0,\"ticks\":\"\"}}}],\"scattercarpet\":[{\"type\":\"scattercarpet\",\"marker\":{\"colorbar\":{\"outlinewidth\":0,\"ticks\":\"\"}}}],\"carpet\":[{\"aaxis\":{\"endlinecolor\":\"#2a3f5f\",\"gridcolor\":\"#C8D4E3\",\"linecolor\":\"#C8D4E3\",\"minorgridcolor\":\"#C8D4E3\",\"startlinecolor\":\"#2a3f5f\"},\"baxis\":{\"endlinecolor\":\"#2a3f5f\",\"gridcolor\":\"#C8D4E3\",\"linecolor\":\"#C8D4E3\",\"minorgridcolor\":\"#C8D4E3\",\"startlinecolor\":\"#2a3f5f\"},\"type\":\"carpet\"}],\"table\":[{\"cells\":{\"fill\":{\"color\":\"#EBF0F8\"},\"line\":{\"color\":\"white\"}},\"header\":{\"fill\":{\"color\":\"#C8D4E3\"},\"line\":{\"color\":\"white\"}},\"type\":\"table\"}],\"barpolar\":[{\"marker\":{\"line\":{\"color\":\"white\",\"width\":0.5},\"pattern\":{\"fillmode\":\"overlay\",\"size\":10,\"solidity\":0.2}},\"type\":\"barpolar\"}],\"pie\":[{\"automargin\":true,\"type\":\"pie\"}]},\"layout\":{\"autotypenumbers\":\"strict\",\"colorway\":[\"#636efa\",\"#EF553B\",\"#00cc96\",\"#ab63fa\",\"#FFA15A\",\"#19d3f3\",\"#FF6692\",\"#B6E880\",\"#FF97FF\",\"#FECB52\"],\"font\":{\"color\":\"#2a3f5f\"},\"hovermode\":\"closest\",\"hoverlabel\":{\"align\":\"left\"},\"paper_bgcolor\":\"white\",\"plot_bgcolor\":\"white\",\"polar\":{\"bgcolor\":\"white\",\"angularaxis\":{\"gridcolor\":\"#EBF0F8\",\"linecolor\":\"#EBF0F8\",\"ticks\":\"\"},\"radialaxis\":{\"gridcolor\":\"#EBF0F8\",\"linecolor\":\"#EBF0F8\",\"ticks\":\"\"}},\"ternary\":{\"bgcolor\":\"white\",\"aaxis\":{\"gridcolor\":\"#DFE8F3\",\"linecolor\":\"#A2B1C6\",\"ticks\":\"\"},\"baxis\":{\"gridcolor\":\"#DFE8F3\",\"linecolor\":\"#A2B1C6\",\"ticks\":\"\"},\"caxis\":{\"gridcolor\":\"#DFE8F3\",\"linecolor\":\"#A2B1C6\",\"ticks\":\"\"}},\"coloraxis\":{\"colorbar\":{\"outlinewidth\":0,\"ticks\":\"\"}},\"colorscale\":{\"sequential\":[[0.0,\"#0d0887\"],[0.1111111111111111,\"#46039f\"],[0.2222222222222222,\"#7201a8\"],[0.3333333333333333,\"#9c179e\"],[0.4444444444444444,\"#bd3786\"],[0.5555555555555556,\"#d8576b\"],[0.6666666666666666,\"#ed7953\"],[0.7777777777777778,\"#fb9f3a\"],[0.8888888888888888,\"#fdca26\"],[1.0,\"#f0f921\"]],\"sequentialminus\":[[0.0,\"#0d0887\"],[0.1111111111111111,\"#46039f\"],[0.2222222222222222,\"#7201a8\"],[0.3333333333333333,\"#9c179e\"],[0.4444444444444444,\"#bd3786\"],[0.5555555555555556,\"#d8576b\"],[0.6666666666666666,\"#ed7953\"],[0.7777777777777778,\"#fb9f3a\"],[0.8888888888888888,\"#fdca26\"],[1.0,\"#f0f921\"]],\"diverging\":[[0,\"#8e0152\"],[0.1,\"#c51b7d\"],[0.2,\"#de77ae\"],[0.3,\"#f1b6da\"],[0.4,\"#fde0ef\"],[0.5,\"#f7f7f7\"],[0.6,\"#e6f5d0\"],[0.7,\"#b8e186\"],[0.8,\"#7fbc41\"],[0.9,\"#4d9221\"],[1,\"#276419\"]]},\"xaxis\":{\"gridcolor\":\"#EBF0F8\",\"linecolor\":\"#EBF0F8\",\"ticks\":\"\",\"title\":{\"standoff\":15},\"zerolinecolor\":\"#EBF0F8\",\"automargin\":true,\"zerolinewidth\":2},\"yaxis\":{\"gridcolor\":\"#EBF0F8\",\"linecolor\":\"#EBF0F8\",\"ticks\":\"\",\"title\":{\"standoff\":15},\"zerolinecolor\":\"#EBF0F8\",\"automargin\":true,\"zerolinewidth\":2},\"scene\":{\"xaxis\":{\"backgroundcolor\":\"white\",\"gridcolor\":\"#DFE8F3\",\"linecolor\":\"#EBF0F8\",\"showbackground\":true,\"ticks\":\"\",\"zerolinecolor\":\"#EBF0F8\",\"gridwidth\":2},\"yaxis\":{\"backgroundcolor\":\"white\",\"gridcolor\":\"#DFE8F3\",\"linecolor\":\"#EBF0F8\",\"showbackground\":true,\"ticks\":\"\",\"zerolinecolor\":\"#EBF0F8\",\"gridwidth\":2},\"zaxis\":{\"backgroundcolor\":\"white\",\"gridcolor\":\"#DFE8F3\",\"linecolor\":\"#EBF0F8\",\"showbackground\":true,\"ticks\":\"\",\"zerolinecolor\":\"#EBF0F8\",\"gridwidth\":2}},\"shapedefaults\":{\"line\":{\"color\":\"#2a3f5f\"}},\"annotationdefaults\":{\"arrowcolor\":\"#2a3f5f\",\"arrowhead\":0,\"arrowwidth\":1},\"geo\":{\"bgcolor\":\"white\",\"landcolor\":\"white\",\"subunitcolor\":\"#C8D4E3\",\"showland\":true,\"showlakes\":true,\"lakecolor\":\"white\"},\"title\":{\"x\":0.05},\"mapbox\":{\"style\":\"light\"}}},\"xaxis\":{\"anchor\":\"y\",\"domain\":[0.0,1.0],\"title\":{\"text\":\"Hashtag\"}},\"yaxis\":{\"anchor\":\"x\",\"domain\":[0.0,1.0],\"title\":{\"text\":\"Count\"}},\"legend\":{\"tracegroupgap\":0},\"title\":{\"text\":\"Distribution of Hashtags\"},\"barmode\":\"relative\"},                        {\"responsive\": true}                    ).then(function(){\n",
              "                            \n",
              "var gd = document.getElementById('ea281a6d-2fc3-4485-b269-831daa0f4744');\n",
              "var x = new MutationObserver(function (mutations, observer) {{\n",
              "        var display = window.getComputedStyle(gd).display;\n",
              "        if (!display || display === 'none') {{\n",
              "            console.log([gd, 'removed!']);\n",
              "            Plotly.purge(gd);\n",
              "            observer.disconnect();\n",
              "        }}\n",
              "}});\n",
              "\n",
              "// Listen for the removal of the full notebook cells\n",
              "var notebookContainer = gd.closest('#notebook-container');\n",
              "if (notebookContainer) {{\n",
              "    x.observe(notebookContainer, {childList: true});\n",
              "}}\n",
              "\n",
              "// Listen for the clearing of the current output cell\n",
              "var outputEl = gd.closest('.output');\n",
              "if (outputEl) {{\n",
              "    x.observe(outputEl, {childList: true});\n",
              "}}\n",
              "\n",
              "                        })                };                            </script>        </div>\n",
              "</body>\n",
              "</html>"
            ]
          },
          "metadata": {}
        }
      ]
    },
    {
      "cell_type": "code",
      "source": [
        "# Create a dictionary to store the likes and impressions for each hashtag\n",
        "hashtag_likes = {}\n",
        "hashtag_impressions = {}\n",
        "\n",
        "# Iterate through each row in the dataset\n",
        "for index, row in data.iterrows():\n",
        "    hashtags = str(row['Hashtags']).split()\n",
        "    for hashtag in hashtags:\n",
        "        hashtag = hashtag.strip()\n",
        "        if hashtag not in hashtag_likes:\n",
        "            hashtag_likes[hashtag] = 0\n",
        "            hashtag_impressions[hashtag] = 0\n",
        "        hashtag_likes[hashtag] += row['Likes']\n",
        "        hashtag_impressions[hashtag] += row['Impressions']\n",
        "\n",
        "# Create a DataFrame for likes distribution\n",
        "likes_distribution = pd.DataFrame(list(hashtag_likes.items()), columns=['Hashtag', 'Likes'])\n",
        "\n",
        "# Create a DataFrame for impressions distribution\n",
        "impressions_distribution = pd.DataFrame(list(hashtag_impressions.items()), columns=['Hashtag', 'Impressions'])\n",
        "\n",
        "fig_likes = px.bar(likes_distribution, x='Hashtag', y='Likes',\n",
        "                   title='Likes Distribution for Each Hashtag')\n",
        "\n",
        "fig_impressions = px.bar(impressions_distribution, x='Hashtag',\n",
        "                         y='Impressions',\n",
        "                         title='Impressions Distribution for Each Hashtag')\n",
        "\n",
        "fig_likes.show()\n",
        "fig_impressions.show()"
      ],
      "metadata": {
        "colab": {
          "base_uri": "https://localhost:8080/",
          "height": 1000
        },
        "id": "tOFa1JECzcWf",
        "outputId": "c1fa49d3-41a4-48fd-e560-a9c64f57677d"
      },
      "execution_count": 22,
      "outputs": [
        {
          "output_type": "display_data",
          "data": {
            "text/html": [
              "<html>\n",
              "<head><meta charset=\"utf-8\" /></head>\n",
              "<body>\n",
              "    <div>            <script src=\"https://cdnjs.cloudflare.com/ajax/libs/mathjax/2.7.5/MathJax.js?config=TeX-AMS-MML_SVG\"></script><script type=\"text/javascript\">if (window.MathJax && window.MathJax.Hub && window.MathJax.Hub.Config) {window.MathJax.Hub.Config({SVG: {font: \"STIX-Web\"}});}</script>                <script type=\"text/javascript\">window.PlotlyConfig = {MathJaxConfig: 'local'};</script>\n",
              "        <script charset=\"utf-8\" src=\"https://cdn.plot.ly/plotly-2.24.1.min.js\"></script>                <div id=\"8b352650-029e-47c7-aa44-c05e12886cb1\" class=\"plotly-graph-div\" style=\"height:525px; width:100%;\"></div>            <script type=\"text/javascript\">                                    window.PLOTLYENV=window.PLOTLYENV || {};                                    if (document.getElementById(\"8b352650-029e-47c7-aa44-c05e12886cb1\")) {                    Plotly.newPlot(                        \"8b352650-029e-47c7-aa44-c05e12886cb1\",                        [{\"alignmentgroup\":\"True\",\"hovertemplate\":\"Hashtag=%{x}\\u003cbr\\u003eLikes=%{y}\\u003cextra\\u003e\\u003c\\u002fextra\\u003e\",\"legendgroup\":\"\",\"marker\":{\"color\":\"#636efa\",\"pattern\":{\"shape\":\"\"}},\"name\":\"\",\"offsetgroup\":\"\",\"orientation\":\"v\",\"showlegend\":false,\"textposition\":\"auto\",\"x\":[\"#finance\",\"#money\",\"#business\",\"#investing\",\"#investment\",\"#trading\",\"#stockmarket\",\"#data\",\"#datascience\",\"#dataanalysis\",\"#dataanalytics\",\"#datascientist\",\"#machinelearning\",\"#python\",\"#pythonprogramming\",\"#pythonprojects\",\"#pythoncode\",\"#artificialintelligence\",\"#ai\",\"#dataanalyst\",\"#amankharwal\",\"#thecleverprogrammer\",\"#healthcare\",\"#health\",\"#covid\",\"#deeplearning\",\"#machinelearningprojects\",\"#datascienceprojects\",\"#machinelearningmodels\",\"#pythonlearning\",\"#pythondeveloper\",\"#pythoncoding\",\"#pythonprogrammer\",\"#datavisualization\",\"#bigdata\",\"#dataviz\",\"#analytics\",\"#technology\",\"#programming\",\"#statistics\",\"#coding\",\"#businessintelligence\",\"#datamining\",\"#tech\",\"#computerscience\",\"#tableau\",\"#database\",\"#algorithm\",\"#algorithms\",\"#machinelearningalgorithms\",\"#ml\",\"#softskills\",\"#stocks\",\"#forex\",\"#candlestick\",\"#candlestickcharts\",\"#pythonbooks\",\"#bookstagram\",\"#powerbi\",\"#dataanalysisprojects\",\"#businessanalytics\",\"#neuralnetwork\",\"#neuralnetworks\",\"#tensorflow\",\"#artificialintelligenceai\",\"#alexnet\",\"#sentimentanalysis\",\"#sentiment\",\"#nlp\",\"#naturallanguageprocessing\",\"#timeseries\",\"#time\",\"#timeseriesanalysis\",\"#iot\",\"#analysis\",\"#timeseriesmalaysia\",\"#career\",\"#job\",\"#jobs\",\"#jobsearch\",\"#education\",\"#success\",\"#careergoals\",\"#motivation\",\"#work\",\"#careerdevelopment\",\"#careers\",\"#goals\",\"#resume\",\"#students\",\"#careeradvice\",\"#marketing\",\"#digitalmarketing\",\"#media\",\"#socialmedia\",\"#IT\",\"#webdevelopment\",\"#stress\",\"#stressdetection\",\"#zomato\",\"#casestudy\",\"#businessmodel\",\"#boxplots\",\"#programmer\",\"#developer\",\"#javascript\",\"#code\",\"#coder\",\"#java\",\"#html\",\"#css\",\"#webdeveloper\",\"#software\",\"#codinglife\",\"#softwaredeveloper\",\"#linux\",\"#programmingmemes\",\"#webdesign\",\"#programmers\",\"#php\",\"#programminglife\",\"#hacking\",\"#bitcoin\",\"#cryptocurrency\",\"#projects\",\"#casestudies\",\"#amazonfinds\",\"#security\",\"#cybersecurity\",\"#network\",\"#internet\",\"#cloud\",\"#innovation\",\"#google\",\"#facebook\",\"#interview\",\"#datascienceinterview\",\"#otp\",\"#otpverification\",\"#qrcodes\",\"#bigdataanalytics\",\"#recommended\",\"#recommendations\",\"#recommendationsystem\",\"#recommendation\",\"#codinginterview\",\"#flipkart\",\"#news\",\"#pythonprogram\",\"@codergallery\",\"#whatsapp\",\"#roadmap\",\"#ukraine\",\"#instagram\",\"#instagramreach\",\"#datasciencejobs\",\"#datasciencetraining\",\"#datascienceeducation\",\"#datasciencecourse\",\"#sql\",\"#mysql\",\"#python3\",\"#pythonprogramminglanguage\",\"#clustering\"],\"xaxis\":\"x\",\"y\":[529,529,2012,529,380,380,380,15077,16311,13801,15283,14703,16509,18238,16251,16818,14239,15515,15733,1845,20462,20462,729,729,729,13204,8458,8458,761,3659,3659,3659,3659,2382,2671,567,2001,3187,3355,1766,3129,728,728,2961,2818,265,887,1615,1615,2065,1058,144,218,218,218,218,124,124,529,387,387,1120,600,450,450,81,1057,1057,1238,1238,812,812,812,812,812,812,410,680,410,410,410,410,410,410,410,410,410,410,410,410,410,410,410,410,410,410,1456,302,302,328,328,328,76,878,878,878,878,878,878,878,878,878,1113,878,878,608,608,608,608,608,608,608,390,390,302,302,184,235,235,235,235,235,235,150,85,600,180,272,272,167,142,373,373,373,373,270,94,96,118,118,178,525,203,171,171,1814,1814,1814,1814,308,308,296,296,240],\"yaxis\":\"y\",\"type\":\"bar\"}],                        {\"template\":{\"data\":{\"histogram2dcontour\":[{\"type\":\"histogram2dcontour\",\"colorbar\":{\"outlinewidth\":0,\"ticks\":\"\"},\"colorscale\":[[0.0,\"#0d0887\"],[0.1111111111111111,\"#46039f\"],[0.2222222222222222,\"#7201a8\"],[0.3333333333333333,\"#9c179e\"],[0.4444444444444444,\"#bd3786\"],[0.5555555555555556,\"#d8576b\"],[0.6666666666666666,\"#ed7953\"],[0.7777777777777778,\"#fb9f3a\"],[0.8888888888888888,\"#fdca26\"],[1.0,\"#f0f921\"]]}],\"choropleth\":[{\"type\":\"choropleth\",\"colorbar\":{\"outlinewidth\":0,\"ticks\":\"\"}}],\"histogram2d\":[{\"type\":\"histogram2d\",\"colorbar\":{\"outlinewidth\":0,\"ticks\":\"\"},\"colorscale\":[[0.0,\"#0d0887\"],[0.1111111111111111,\"#46039f\"],[0.2222222222222222,\"#7201a8\"],[0.3333333333333333,\"#9c179e\"],[0.4444444444444444,\"#bd3786\"],[0.5555555555555556,\"#d8576b\"],[0.6666666666666666,\"#ed7953\"],[0.7777777777777778,\"#fb9f3a\"],[0.8888888888888888,\"#fdca26\"],[1.0,\"#f0f921\"]]}],\"heatmap\":[{\"type\":\"heatmap\",\"colorbar\":{\"outlinewidth\":0,\"ticks\":\"\"},\"colorscale\":[[0.0,\"#0d0887\"],[0.1111111111111111,\"#46039f\"],[0.2222222222222222,\"#7201a8\"],[0.3333333333333333,\"#9c179e\"],[0.4444444444444444,\"#bd3786\"],[0.5555555555555556,\"#d8576b\"],[0.6666666666666666,\"#ed7953\"],[0.7777777777777778,\"#fb9f3a\"],[0.8888888888888888,\"#fdca26\"],[1.0,\"#f0f921\"]]}],\"heatmapgl\":[{\"type\":\"heatmapgl\",\"colorbar\":{\"outlinewidth\":0,\"ticks\":\"\"},\"colorscale\":[[0.0,\"#0d0887\"],[0.1111111111111111,\"#46039f\"],[0.2222222222222222,\"#7201a8\"],[0.3333333333333333,\"#9c179e\"],[0.4444444444444444,\"#bd3786\"],[0.5555555555555556,\"#d8576b\"],[0.6666666666666666,\"#ed7953\"],[0.7777777777777778,\"#fb9f3a\"],[0.8888888888888888,\"#fdca26\"],[1.0,\"#f0f921\"]]}],\"contourcarpet\":[{\"type\":\"contourcarpet\",\"colorbar\":{\"outlinewidth\":0,\"ticks\":\"\"}}],\"contour\":[{\"type\":\"contour\",\"colorbar\":{\"outlinewidth\":0,\"ticks\":\"\"},\"colorscale\":[[0.0,\"#0d0887\"],[0.1111111111111111,\"#46039f\"],[0.2222222222222222,\"#7201a8\"],[0.3333333333333333,\"#9c179e\"],[0.4444444444444444,\"#bd3786\"],[0.5555555555555556,\"#d8576b\"],[0.6666666666666666,\"#ed7953\"],[0.7777777777777778,\"#fb9f3a\"],[0.8888888888888888,\"#fdca26\"],[1.0,\"#f0f921\"]]}],\"surface\":[{\"type\":\"surface\",\"colorbar\":{\"outlinewidth\":0,\"ticks\":\"\"},\"colorscale\":[[0.0,\"#0d0887\"],[0.1111111111111111,\"#46039f\"],[0.2222222222222222,\"#7201a8\"],[0.3333333333333333,\"#9c179e\"],[0.4444444444444444,\"#bd3786\"],[0.5555555555555556,\"#d8576b\"],[0.6666666666666666,\"#ed7953\"],[0.7777777777777778,\"#fb9f3a\"],[0.8888888888888888,\"#fdca26\"],[1.0,\"#f0f921\"]]}],\"mesh3d\":[{\"type\":\"mesh3d\",\"colorbar\":{\"outlinewidth\":0,\"ticks\":\"\"}}],\"scatter\":[{\"fillpattern\":{\"fillmode\":\"overlay\",\"size\":10,\"solidity\":0.2},\"type\":\"scatter\"}],\"parcoords\":[{\"type\":\"parcoords\",\"line\":{\"colorbar\":{\"outlinewidth\":0,\"ticks\":\"\"}}}],\"scatterpolargl\":[{\"type\":\"scatterpolargl\",\"marker\":{\"colorbar\":{\"outlinewidth\":0,\"ticks\":\"\"}}}],\"bar\":[{\"error_x\":{\"color\":\"#2a3f5f\"},\"error_y\":{\"color\":\"#2a3f5f\"},\"marker\":{\"line\":{\"color\":\"white\",\"width\":0.5},\"pattern\":{\"fillmode\":\"overlay\",\"size\":10,\"solidity\":0.2}},\"type\":\"bar\"}],\"scattergeo\":[{\"type\":\"scattergeo\",\"marker\":{\"colorbar\":{\"outlinewidth\":0,\"ticks\":\"\"}}}],\"scatterpolar\":[{\"type\":\"scatterpolar\",\"marker\":{\"colorbar\":{\"outlinewidth\":0,\"ticks\":\"\"}}}],\"histogram\":[{\"marker\":{\"pattern\":{\"fillmode\":\"overlay\",\"size\":10,\"solidity\":0.2}},\"type\":\"histogram\"}],\"scattergl\":[{\"type\":\"scattergl\",\"marker\":{\"colorbar\":{\"outlinewidth\":0,\"ticks\":\"\"}}}],\"scatter3d\":[{\"type\":\"scatter3d\",\"line\":{\"colorbar\":{\"outlinewidth\":0,\"ticks\":\"\"}},\"marker\":{\"colorbar\":{\"outlinewidth\":0,\"ticks\":\"\"}}}],\"scattermapbox\":[{\"type\":\"scattermapbox\",\"marker\":{\"colorbar\":{\"outlinewidth\":0,\"ticks\":\"\"}}}],\"scatterternary\":[{\"type\":\"scatterternary\",\"marker\":{\"colorbar\":{\"outlinewidth\":0,\"ticks\":\"\"}}}],\"scattercarpet\":[{\"type\":\"scattercarpet\",\"marker\":{\"colorbar\":{\"outlinewidth\":0,\"ticks\":\"\"}}}],\"carpet\":[{\"aaxis\":{\"endlinecolor\":\"#2a3f5f\",\"gridcolor\":\"#C8D4E3\",\"linecolor\":\"#C8D4E3\",\"minorgridcolor\":\"#C8D4E3\",\"startlinecolor\":\"#2a3f5f\"},\"baxis\":{\"endlinecolor\":\"#2a3f5f\",\"gridcolor\":\"#C8D4E3\",\"linecolor\":\"#C8D4E3\",\"minorgridcolor\":\"#C8D4E3\",\"startlinecolor\":\"#2a3f5f\"},\"type\":\"carpet\"}],\"table\":[{\"cells\":{\"fill\":{\"color\":\"#EBF0F8\"},\"line\":{\"color\":\"white\"}},\"header\":{\"fill\":{\"color\":\"#C8D4E3\"},\"line\":{\"color\":\"white\"}},\"type\":\"table\"}],\"barpolar\":[{\"marker\":{\"line\":{\"color\":\"white\",\"width\":0.5},\"pattern\":{\"fillmode\":\"overlay\",\"size\":10,\"solidity\":0.2}},\"type\":\"barpolar\"}],\"pie\":[{\"automargin\":true,\"type\":\"pie\"}]},\"layout\":{\"autotypenumbers\":\"strict\",\"colorway\":[\"#636efa\",\"#EF553B\",\"#00cc96\",\"#ab63fa\",\"#FFA15A\",\"#19d3f3\",\"#FF6692\",\"#B6E880\",\"#FF97FF\",\"#FECB52\"],\"font\":{\"color\":\"#2a3f5f\"},\"hovermode\":\"closest\",\"hoverlabel\":{\"align\":\"left\"},\"paper_bgcolor\":\"white\",\"plot_bgcolor\":\"white\",\"polar\":{\"bgcolor\":\"white\",\"angularaxis\":{\"gridcolor\":\"#EBF0F8\",\"linecolor\":\"#EBF0F8\",\"ticks\":\"\"},\"radialaxis\":{\"gridcolor\":\"#EBF0F8\",\"linecolor\":\"#EBF0F8\",\"ticks\":\"\"}},\"ternary\":{\"bgcolor\":\"white\",\"aaxis\":{\"gridcolor\":\"#DFE8F3\",\"linecolor\":\"#A2B1C6\",\"ticks\":\"\"},\"baxis\":{\"gridcolor\":\"#DFE8F3\",\"linecolor\":\"#A2B1C6\",\"ticks\":\"\"},\"caxis\":{\"gridcolor\":\"#DFE8F3\",\"linecolor\":\"#A2B1C6\",\"ticks\":\"\"}},\"coloraxis\":{\"colorbar\":{\"outlinewidth\":0,\"ticks\":\"\"}},\"colorscale\":{\"sequential\":[[0.0,\"#0d0887\"],[0.1111111111111111,\"#46039f\"],[0.2222222222222222,\"#7201a8\"],[0.3333333333333333,\"#9c179e\"],[0.4444444444444444,\"#bd3786\"],[0.5555555555555556,\"#d8576b\"],[0.6666666666666666,\"#ed7953\"],[0.7777777777777778,\"#fb9f3a\"],[0.8888888888888888,\"#fdca26\"],[1.0,\"#f0f921\"]],\"sequentialminus\":[[0.0,\"#0d0887\"],[0.1111111111111111,\"#46039f\"],[0.2222222222222222,\"#7201a8\"],[0.3333333333333333,\"#9c179e\"],[0.4444444444444444,\"#bd3786\"],[0.5555555555555556,\"#d8576b\"],[0.6666666666666666,\"#ed7953\"],[0.7777777777777778,\"#fb9f3a\"],[0.8888888888888888,\"#fdca26\"],[1.0,\"#f0f921\"]],\"diverging\":[[0,\"#8e0152\"],[0.1,\"#c51b7d\"],[0.2,\"#de77ae\"],[0.3,\"#f1b6da\"],[0.4,\"#fde0ef\"],[0.5,\"#f7f7f7\"],[0.6,\"#e6f5d0\"],[0.7,\"#b8e186\"],[0.8,\"#7fbc41\"],[0.9,\"#4d9221\"],[1,\"#276419\"]]},\"xaxis\":{\"gridcolor\":\"#EBF0F8\",\"linecolor\":\"#EBF0F8\",\"ticks\":\"\",\"title\":{\"standoff\":15},\"zerolinecolor\":\"#EBF0F8\",\"automargin\":true,\"zerolinewidth\":2},\"yaxis\":{\"gridcolor\":\"#EBF0F8\",\"linecolor\":\"#EBF0F8\",\"ticks\":\"\",\"title\":{\"standoff\":15},\"zerolinecolor\":\"#EBF0F8\",\"automargin\":true,\"zerolinewidth\":2},\"scene\":{\"xaxis\":{\"backgroundcolor\":\"white\",\"gridcolor\":\"#DFE8F3\",\"linecolor\":\"#EBF0F8\",\"showbackground\":true,\"ticks\":\"\",\"zerolinecolor\":\"#EBF0F8\",\"gridwidth\":2},\"yaxis\":{\"backgroundcolor\":\"white\",\"gridcolor\":\"#DFE8F3\",\"linecolor\":\"#EBF0F8\",\"showbackground\":true,\"ticks\":\"\",\"zerolinecolor\":\"#EBF0F8\",\"gridwidth\":2},\"zaxis\":{\"backgroundcolor\":\"white\",\"gridcolor\":\"#DFE8F3\",\"linecolor\":\"#EBF0F8\",\"showbackground\":true,\"ticks\":\"\",\"zerolinecolor\":\"#EBF0F8\",\"gridwidth\":2}},\"shapedefaults\":{\"line\":{\"color\":\"#2a3f5f\"}},\"annotationdefaults\":{\"arrowcolor\":\"#2a3f5f\",\"arrowhead\":0,\"arrowwidth\":1},\"geo\":{\"bgcolor\":\"white\",\"landcolor\":\"white\",\"subunitcolor\":\"#C8D4E3\",\"showland\":true,\"showlakes\":true,\"lakecolor\":\"white\"},\"title\":{\"x\":0.05},\"mapbox\":{\"style\":\"light\"}}},\"xaxis\":{\"anchor\":\"y\",\"domain\":[0.0,1.0],\"title\":{\"text\":\"Hashtag\"}},\"yaxis\":{\"anchor\":\"x\",\"domain\":[0.0,1.0],\"title\":{\"text\":\"Likes\"}},\"legend\":{\"tracegroupgap\":0},\"title\":{\"text\":\"Likes Distribution for Each Hashtag\"},\"barmode\":\"relative\"},                        {\"responsive\": true}                    ).then(function(){\n",
              "                            \n",
              "var gd = document.getElementById('8b352650-029e-47c7-aa44-c05e12886cb1');\n",
              "var x = new MutationObserver(function (mutations, observer) {{\n",
              "        var display = window.getComputedStyle(gd).display;\n",
              "        if (!display || display === 'none') {{\n",
              "            console.log([gd, 'removed!']);\n",
              "            Plotly.purge(gd);\n",
              "            observer.disconnect();\n",
              "        }}\n",
              "}});\n",
              "\n",
              "// Listen for the removal of the full notebook cells\n",
              "var notebookContainer = gd.closest('#notebook-container');\n",
              "if (notebookContainer) {{\n",
              "    x.observe(notebookContainer, {childList: true});\n",
              "}}\n",
              "\n",
              "// Listen for the clearing of the current output cell\n",
              "var outputEl = gd.closest('.output');\n",
              "if (outputEl) {{\n",
              "    x.observe(outputEl, {childList: true});\n",
              "}}\n",
              "\n",
              "                        })                };                            </script>        </div>\n",
              "</body>\n",
              "</html>"
            ]
          },
          "metadata": {}
        },
        {
          "output_type": "display_data",
          "data": {
            "text/html": [
              "<html>\n",
              "<head><meta charset=\"utf-8\" /></head>\n",
              "<body>\n",
              "    <div>            <script src=\"https://cdnjs.cloudflare.com/ajax/libs/mathjax/2.7.5/MathJax.js?config=TeX-AMS-MML_SVG\"></script><script type=\"text/javascript\">if (window.MathJax && window.MathJax.Hub && window.MathJax.Hub.Config) {window.MathJax.Hub.Config({SVG: {font: \"STIX-Web\"}});}</script>                <script type=\"text/javascript\">window.PlotlyConfig = {MathJaxConfig: 'local'};</script>\n",
              "        <script charset=\"utf-8\" src=\"https://cdn.plot.ly/plotly-2.24.1.min.js\"></script>                <div id=\"374d78a8-5c25-47e9-aef8-6dde30fa9790\" class=\"plotly-graph-div\" style=\"height:525px; width:100%;\"></div>            <script type=\"text/javascript\">                                    window.PLOTLYENV=window.PLOTLYENV || {};                                    if (document.getElementById(\"374d78a8-5c25-47e9-aef8-6dde30fa9790\")) {                    Plotly.newPlot(                        \"374d78a8-5c25-47e9-aef8-6dde30fa9790\",                        [{\"alignmentgroup\":\"True\",\"hovertemplate\":\"Hashtag=%{x}\\u003cbr\\u003eImpressions=%{y}\\u003cextra\\u003e\\u003c\\u002fextra\\u003e\",\"legendgroup\":\"\",\"marker\":{\"color\":\"#636efa\",\"pattern\":{\"shape\":\"\"}},\"name\":\"\",\"offsetgroup\":\"\",\"orientation\":\"v\",\"showlegend\":false,\"textposition\":\"auto\",\"x\":[\"#finance\",\"#money\",\"#business\",\"#investing\",\"#investment\",\"#trading\",\"#stockmarket\",\"#data\",\"#datascience\",\"#dataanalysis\",\"#dataanalytics\",\"#datascientist\",\"#machinelearning\",\"#python\",\"#pythonprogramming\",\"#pythonprojects\",\"#pythoncode\",\"#artificialintelligence\",\"#ai\",\"#dataanalyst\",\"#amankharwal\",\"#thecleverprogrammer\",\"#healthcare\",\"#health\",\"#covid\",\"#deeplearning\",\"#machinelearningprojects\",\"#datascienceprojects\",\"#machinelearningmodels\",\"#pythonlearning\",\"#pythondeveloper\",\"#pythoncoding\",\"#pythonprogrammer\",\"#datavisualization\",\"#bigdata\",\"#dataviz\",\"#analytics\",\"#technology\",\"#programming\",\"#statistics\",\"#coding\",\"#businessintelligence\",\"#datamining\",\"#tech\",\"#computerscience\",\"#tableau\",\"#database\",\"#algorithm\",\"#algorithms\",\"#machinelearningalgorithms\",\"#ml\",\"#softskills\",\"#stocks\",\"#forex\",\"#candlestick\",\"#candlestickcharts\",\"#pythonbooks\",\"#bookstagram\",\"#powerbi\",\"#dataanalysisprojects\",\"#businessanalytics\",\"#neuralnetwork\",\"#neuralnetworks\",\"#tensorflow\",\"#artificialintelligenceai\",\"#alexnet\",\"#sentimentanalysis\",\"#sentiment\",\"#nlp\",\"#naturallanguageprocessing\",\"#timeseries\",\"#time\",\"#timeseriesanalysis\",\"#iot\",\"#analysis\",\"#timeseriesmalaysia\",\"#career\",\"#job\",\"#jobs\",\"#jobsearch\",\"#education\",\"#success\",\"#careergoals\",\"#motivation\",\"#work\",\"#careerdevelopment\",\"#careers\",\"#goals\",\"#resume\",\"#students\",\"#careeradvice\",\"#marketing\",\"#digitalmarketing\",\"#media\",\"#socialmedia\",\"#IT\",\"#webdevelopment\",\"#stress\",\"#stressdetection\",\"#zomato\",\"#casestudy\",\"#businessmodel\",\"#boxplots\",\"#programmer\",\"#developer\",\"#javascript\",\"#code\",\"#coder\",\"#java\",\"#html\",\"#css\",\"#webdeveloper\",\"#software\",\"#codinglife\",\"#softwaredeveloper\",\"#linux\",\"#programmingmemes\",\"#webdesign\",\"#programmers\",\"#php\",\"#programminglife\",\"#hacking\",\"#bitcoin\",\"#cryptocurrency\",\"#projects\",\"#casestudies\",\"#amazonfinds\",\"#security\",\"#cybersecurity\",\"#network\",\"#internet\",\"#cloud\",\"#innovation\",\"#google\",\"#facebook\",\"#interview\",\"#datascienceinterview\",\"#otp\",\"#otpverification\",\"#qrcodes\",\"#bigdataanalytics\",\"#recommended\",\"#recommendations\",\"#recommendationsystem\",\"#recommendation\",\"#codinginterview\",\"#flipkart\",\"#news\",\"#pythonprogram\",\"@codergallery\",\"#whatsapp\",\"#roadmap\",\"#ukraine\",\"#instagram\",\"#instagramreach\",\"#datasciencejobs\",\"#datasciencetraining\",\"#datascienceeducation\",\"#datasciencecourse\",\"#sql\",\"#mysql\",\"#python3\",\"#pythonprogramminglanguage\",\"#clustering\"],\"xaxis\":\"x\",\"y\":[14224,14224,51387,14224,9757,9757,9757,484761,524640,457923,497787,483746,532627,578243,525346,567608,470276,506190,512027,47051,672166,672166,18292,18292,18292,445317,297427,297427,27201,135901,135901,135901,135901,64864,70884,15438,53464,85523,90132,47283,83264,17971,17971,78655,75019,6506,22088,57289,57289,71529,30316,3884,5837,5837,5837,5837,3541,3541,13389,9401,9401,31660,18529,14240,14240,2218,34102,34102,42567,42567,22444,22444,22444,22444,22444,22444,8004,14856,8004,8004,8004,8004,8004,8004,8004,8004,8004,8004,8004,8004,8004,8004,8004,8004,8004,8004,35456,12336,12336,10844,10844,10844,2064,22843,22843,22843,22843,22843,22843,22843,22843,22843,29024,22843,22843,15991,15991,15991,15991,15991,15991,15991,14121,14121,7848,7848,6030,6181,6181,6181,6181,6181,6181,3854,2327,16139,4998,8030,8030,3786,3988,10036,10036,10036,10036,6852,3601,3525,2957,2957,5538,10682,8001,7231,7231,86691,86691,86691,86691,17713,17713,15991,15991,9870],\"yaxis\":\"y\",\"type\":\"bar\"}],                        {\"template\":{\"data\":{\"histogram2dcontour\":[{\"type\":\"histogram2dcontour\",\"colorbar\":{\"outlinewidth\":0,\"ticks\":\"\"},\"colorscale\":[[0.0,\"#0d0887\"],[0.1111111111111111,\"#46039f\"],[0.2222222222222222,\"#7201a8\"],[0.3333333333333333,\"#9c179e\"],[0.4444444444444444,\"#bd3786\"],[0.5555555555555556,\"#d8576b\"],[0.6666666666666666,\"#ed7953\"],[0.7777777777777778,\"#fb9f3a\"],[0.8888888888888888,\"#fdca26\"],[1.0,\"#f0f921\"]]}],\"choropleth\":[{\"type\":\"choropleth\",\"colorbar\":{\"outlinewidth\":0,\"ticks\":\"\"}}],\"histogram2d\":[{\"type\":\"histogram2d\",\"colorbar\":{\"outlinewidth\":0,\"ticks\":\"\"},\"colorscale\":[[0.0,\"#0d0887\"],[0.1111111111111111,\"#46039f\"],[0.2222222222222222,\"#7201a8\"],[0.3333333333333333,\"#9c179e\"],[0.4444444444444444,\"#bd3786\"],[0.5555555555555556,\"#d8576b\"],[0.6666666666666666,\"#ed7953\"],[0.7777777777777778,\"#fb9f3a\"],[0.8888888888888888,\"#fdca26\"],[1.0,\"#f0f921\"]]}],\"heatmap\":[{\"type\":\"heatmap\",\"colorbar\":{\"outlinewidth\":0,\"ticks\":\"\"},\"colorscale\":[[0.0,\"#0d0887\"],[0.1111111111111111,\"#46039f\"],[0.2222222222222222,\"#7201a8\"],[0.3333333333333333,\"#9c179e\"],[0.4444444444444444,\"#bd3786\"],[0.5555555555555556,\"#d8576b\"],[0.6666666666666666,\"#ed7953\"],[0.7777777777777778,\"#fb9f3a\"],[0.8888888888888888,\"#fdca26\"],[1.0,\"#f0f921\"]]}],\"heatmapgl\":[{\"type\":\"heatmapgl\",\"colorbar\":{\"outlinewidth\":0,\"ticks\":\"\"},\"colorscale\":[[0.0,\"#0d0887\"],[0.1111111111111111,\"#46039f\"],[0.2222222222222222,\"#7201a8\"],[0.3333333333333333,\"#9c179e\"],[0.4444444444444444,\"#bd3786\"],[0.5555555555555556,\"#d8576b\"],[0.6666666666666666,\"#ed7953\"],[0.7777777777777778,\"#fb9f3a\"],[0.8888888888888888,\"#fdca26\"],[1.0,\"#f0f921\"]]}],\"contourcarpet\":[{\"type\":\"contourcarpet\",\"colorbar\":{\"outlinewidth\":0,\"ticks\":\"\"}}],\"contour\":[{\"type\":\"contour\",\"colorbar\":{\"outlinewidth\":0,\"ticks\":\"\"},\"colorscale\":[[0.0,\"#0d0887\"],[0.1111111111111111,\"#46039f\"],[0.2222222222222222,\"#7201a8\"],[0.3333333333333333,\"#9c179e\"],[0.4444444444444444,\"#bd3786\"],[0.5555555555555556,\"#d8576b\"],[0.6666666666666666,\"#ed7953\"],[0.7777777777777778,\"#fb9f3a\"],[0.8888888888888888,\"#fdca26\"],[1.0,\"#f0f921\"]]}],\"surface\":[{\"type\":\"surface\",\"colorbar\":{\"outlinewidth\":0,\"ticks\":\"\"},\"colorscale\":[[0.0,\"#0d0887\"],[0.1111111111111111,\"#46039f\"],[0.2222222222222222,\"#7201a8\"],[0.3333333333333333,\"#9c179e\"],[0.4444444444444444,\"#bd3786\"],[0.5555555555555556,\"#d8576b\"],[0.6666666666666666,\"#ed7953\"],[0.7777777777777778,\"#fb9f3a\"],[0.8888888888888888,\"#fdca26\"],[1.0,\"#f0f921\"]]}],\"mesh3d\":[{\"type\":\"mesh3d\",\"colorbar\":{\"outlinewidth\":0,\"ticks\":\"\"}}],\"scatter\":[{\"fillpattern\":{\"fillmode\":\"overlay\",\"size\":10,\"solidity\":0.2},\"type\":\"scatter\"}],\"parcoords\":[{\"type\":\"parcoords\",\"line\":{\"colorbar\":{\"outlinewidth\":0,\"ticks\":\"\"}}}],\"scatterpolargl\":[{\"type\":\"scatterpolargl\",\"marker\":{\"colorbar\":{\"outlinewidth\":0,\"ticks\":\"\"}}}],\"bar\":[{\"error_x\":{\"color\":\"#2a3f5f\"},\"error_y\":{\"color\":\"#2a3f5f\"},\"marker\":{\"line\":{\"color\":\"white\",\"width\":0.5},\"pattern\":{\"fillmode\":\"overlay\",\"size\":10,\"solidity\":0.2}},\"type\":\"bar\"}],\"scattergeo\":[{\"type\":\"scattergeo\",\"marker\":{\"colorbar\":{\"outlinewidth\":0,\"ticks\":\"\"}}}],\"scatterpolar\":[{\"type\":\"scatterpolar\",\"marker\":{\"colorbar\":{\"outlinewidth\":0,\"ticks\":\"\"}}}],\"histogram\":[{\"marker\":{\"pattern\":{\"fillmode\":\"overlay\",\"size\":10,\"solidity\":0.2}},\"type\":\"histogram\"}],\"scattergl\":[{\"type\":\"scattergl\",\"marker\":{\"colorbar\":{\"outlinewidth\":0,\"ticks\":\"\"}}}],\"scatter3d\":[{\"type\":\"scatter3d\",\"line\":{\"colorbar\":{\"outlinewidth\":0,\"ticks\":\"\"}},\"marker\":{\"colorbar\":{\"outlinewidth\":0,\"ticks\":\"\"}}}],\"scattermapbox\":[{\"type\":\"scattermapbox\",\"marker\":{\"colorbar\":{\"outlinewidth\":0,\"ticks\":\"\"}}}],\"scatterternary\":[{\"type\":\"scatterternary\",\"marker\":{\"colorbar\":{\"outlinewidth\":0,\"ticks\":\"\"}}}],\"scattercarpet\":[{\"type\":\"scattercarpet\",\"marker\":{\"colorbar\":{\"outlinewidth\":0,\"ticks\":\"\"}}}],\"carpet\":[{\"aaxis\":{\"endlinecolor\":\"#2a3f5f\",\"gridcolor\":\"#C8D4E3\",\"linecolor\":\"#C8D4E3\",\"minorgridcolor\":\"#C8D4E3\",\"startlinecolor\":\"#2a3f5f\"},\"baxis\":{\"endlinecolor\":\"#2a3f5f\",\"gridcolor\":\"#C8D4E3\",\"linecolor\":\"#C8D4E3\",\"minorgridcolor\":\"#C8D4E3\",\"startlinecolor\":\"#2a3f5f\"},\"type\":\"carpet\"}],\"table\":[{\"cells\":{\"fill\":{\"color\":\"#EBF0F8\"},\"line\":{\"color\":\"white\"}},\"header\":{\"fill\":{\"color\":\"#C8D4E3\"},\"line\":{\"color\":\"white\"}},\"type\":\"table\"}],\"barpolar\":[{\"marker\":{\"line\":{\"color\":\"white\",\"width\":0.5},\"pattern\":{\"fillmode\":\"overlay\",\"size\":10,\"solidity\":0.2}},\"type\":\"barpolar\"}],\"pie\":[{\"automargin\":true,\"type\":\"pie\"}]},\"layout\":{\"autotypenumbers\":\"strict\",\"colorway\":[\"#636efa\",\"#EF553B\",\"#00cc96\",\"#ab63fa\",\"#FFA15A\",\"#19d3f3\",\"#FF6692\",\"#B6E880\",\"#FF97FF\",\"#FECB52\"],\"font\":{\"color\":\"#2a3f5f\"},\"hovermode\":\"closest\",\"hoverlabel\":{\"align\":\"left\"},\"paper_bgcolor\":\"white\",\"plot_bgcolor\":\"white\",\"polar\":{\"bgcolor\":\"white\",\"angularaxis\":{\"gridcolor\":\"#EBF0F8\",\"linecolor\":\"#EBF0F8\",\"ticks\":\"\"},\"radialaxis\":{\"gridcolor\":\"#EBF0F8\",\"linecolor\":\"#EBF0F8\",\"ticks\":\"\"}},\"ternary\":{\"bgcolor\":\"white\",\"aaxis\":{\"gridcolor\":\"#DFE8F3\",\"linecolor\":\"#A2B1C6\",\"ticks\":\"\"},\"baxis\":{\"gridcolor\":\"#DFE8F3\",\"linecolor\":\"#A2B1C6\",\"ticks\":\"\"},\"caxis\":{\"gridcolor\":\"#DFE8F3\",\"linecolor\":\"#A2B1C6\",\"ticks\":\"\"}},\"coloraxis\":{\"colorbar\":{\"outlinewidth\":0,\"ticks\":\"\"}},\"colorscale\":{\"sequential\":[[0.0,\"#0d0887\"],[0.1111111111111111,\"#46039f\"],[0.2222222222222222,\"#7201a8\"],[0.3333333333333333,\"#9c179e\"],[0.4444444444444444,\"#bd3786\"],[0.5555555555555556,\"#d8576b\"],[0.6666666666666666,\"#ed7953\"],[0.7777777777777778,\"#fb9f3a\"],[0.8888888888888888,\"#fdca26\"],[1.0,\"#f0f921\"]],\"sequentialminus\":[[0.0,\"#0d0887\"],[0.1111111111111111,\"#46039f\"],[0.2222222222222222,\"#7201a8\"],[0.3333333333333333,\"#9c179e\"],[0.4444444444444444,\"#bd3786\"],[0.5555555555555556,\"#d8576b\"],[0.6666666666666666,\"#ed7953\"],[0.7777777777777778,\"#fb9f3a\"],[0.8888888888888888,\"#fdca26\"],[1.0,\"#f0f921\"]],\"diverging\":[[0,\"#8e0152\"],[0.1,\"#c51b7d\"],[0.2,\"#de77ae\"],[0.3,\"#f1b6da\"],[0.4,\"#fde0ef\"],[0.5,\"#f7f7f7\"],[0.6,\"#e6f5d0\"],[0.7,\"#b8e186\"],[0.8,\"#7fbc41\"],[0.9,\"#4d9221\"],[1,\"#276419\"]]},\"xaxis\":{\"gridcolor\":\"#EBF0F8\",\"linecolor\":\"#EBF0F8\",\"ticks\":\"\",\"title\":{\"standoff\":15},\"zerolinecolor\":\"#EBF0F8\",\"automargin\":true,\"zerolinewidth\":2},\"yaxis\":{\"gridcolor\":\"#EBF0F8\",\"linecolor\":\"#EBF0F8\",\"ticks\":\"\",\"title\":{\"standoff\":15},\"zerolinecolor\":\"#EBF0F8\",\"automargin\":true,\"zerolinewidth\":2},\"scene\":{\"xaxis\":{\"backgroundcolor\":\"white\",\"gridcolor\":\"#DFE8F3\",\"linecolor\":\"#EBF0F8\",\"showbackground\":true,\"ticks\":\"\",\"zerolinecolor\":\"#EBF0F8\",\"gridwidth\":2},\"yaxis\":{\"backgroundcolor\":\"white\",\"gridcolor\":\"#DFE8F3\",\"linecolor\":\"#EBF0F8\",\"showbackground\":true,\"ticks\":\"\",\"zerolinecolor\":\"#EBF0F8\",\"gridwidth\":2},\"zaxis\":{\"backgroundcolor\":\"white\",\"gridcolor\":\"#DFE8F3\",\"linecolor\":\"#EBF0F8\",\"showbackground\":true,\"ticks\":\"\",\"zerolinecolor\":\"#EBF0F8\",\"gridwidth\":2}},\"shapedefaults\":{\"line\":{\"color\":\"#2a3f5f\"}},\"annotationdefaults\":{\"arrowcolor\":\"#2a3f5f\",\"arrowhead\":0,\"arrowwidth\":1},\"geo\":{\"bgcolor\":\"white\",\"landcolor\":\"white\",\"subunitcolor\":\"#C8D4E3\",\"showland\":true,\"showlakes\":true,\"lakecolor\":\"white\"},\"title\":{\"x\":0.05},\"mapbox\":{\"style\":\"light\"}}},\"xaxis\":{\"anchor\":\"y\",\"domain\":[0.0,1.0],\"title\":{\"text\":\"Hashtag\"}},\"yaxis\":{\"anchor\":\"x\",\"domain\":[0.0,1.0],\"title\":{\"text\":\"Impressions\"}},\"legend\":{\"tracegroupgap\":0},\"title\":{\"text\":\"Impressions Distribution for Each Hashtag\"},\"barmode\":\"relative\"},                        {\"responsive\": true}                    ).then(function(){\n",
              "                            \n",
              "var gd = document.getElementById('374d78a8-5c25-47e9-aef8-6dde30fa9790');\n",
              "var x = new MutationObserver(function (mutations, observer) {{\n",
              "        var display = window.getComputedStyle(gd).display;\n",
              "        if (!display || display === 'none') {{\n",
              "            console.log([gd, 'removed!']);\n",
              "            Plotly.purge(gd);\n",
              "            observer.disconnect();\n",
              "        }}\n",
              "}});\n",
              "\n",
              "// Listen for the removal of the full notebook cells\n",
              "var notebookContainer = gd.closest('#notebook-container');\n",
              "if (notebookContainer) {{\n",
              "    x.observe(notebookContainer, {childList: true});\n",
              "}}\n",
              "\n",
              "// Listen for the clearing of the current output cell\n",
              "var outputEl = gd.closest('.output');\n",
              "if (outputEl) {{\n",
              "    x.observe(outputEl, {childList: true});\n",
              "}}\n",
              "\n",
              "                        })                };                            </script>        </div>\n",
              "</body>\n",
              "</html>"
            ]
          },
          "metadata": {}
        }
      ]
    },
    {
      "cell_type": "code",
      "source": [],
      "metadata": {
        "id": "_01hAXmiz4vw"
      },
      "execution_count": null,
      "outputs": []
    }
  ]
}